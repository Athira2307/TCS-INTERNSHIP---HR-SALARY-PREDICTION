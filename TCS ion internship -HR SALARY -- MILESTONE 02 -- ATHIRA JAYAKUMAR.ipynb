{
 "cells": [
  {
   "cell_type": "markdown",
   "id": "402949b0",
   "metadata": {},
   "source": [
    "# TCS iON INTERNSHIP"
   ]
  },
  {
   "cell_type": "markdown",
   "id": "49b843b3",
   "metadata": {},
   "source": [
    "# HR Salary Dashboard - Train the Dataset and Predict Salary"
   ]
  },
  {
   "cell_type": "markdown",
   "id": "9858806c",
   "metadata": {},
   "source": [
    "The objective is to predict whether a person's salary is higher or lower than $50k/year based on their attributes using several Machine Learning classification models."
   ]
  },
  {
   "cell_type": "code",
   "execution_count": 1,
   "id": "cb3f0f02",
   "metadata": {},
   "outputs": [],
   "source": [
    "# IMPORTING LIBRARIES"
   ]
  },
  {
   "cell_type": "code",
   "execution_count": 2,
   "id": "ebef33c0",
   "metadata": {},
   "outputs": [],
   "source": [
    "### Data Wrangling\n",
    "\n",
    "import pandas as pd\n",
    "import numpy as np\n",
    "\n",
    "### Data Visualization\n",
    "\n",
    "import seaborn as sns\n",
    "import matplotlib.pyplot as plt\n",
    "%matplotlib inline\n",
    "\n",
    "### Remove unnecessary warnings\n",
    "import warnings\n",
    "warnings.filterwarnings('ignore')\n",
    "\n"
   ]
  },
  {
   "cell_type": "markdown",
   "id": "184be799",
   "metadata": {},
   "source": [
    "#### Importing the data"
   ]
  },
  {
   "cell_type": "code",
   "execution_count": 3,
   "id": "2b9b6434",
   "metadata": {},
   "outputs": [],
   "source": [
    "#LOAD THE DATASET TO PYTHON ENVIRONMENT\n",
    "data = pd.read_csv(\"salarydata.csv\")"
   ]
  },
  {
   "cell_type": "code",
   "execution_count": 4,
   "id": "68458c2e",
   "metadata": {},
   "outputs": [
    {
     "data": {
      "text/html": [
       "<div>\n",
       "<style scoped>\n",
       "    .dataframe tbody tr th:only-of-type {\n",
       "        vertical-align: middle;\n",
       "    }\n",
       "\n",
       "    .dataframe tbody tr th {\n",
       "        vertical-align: top;\n",
       "    }\n",
       "\n",
       "    .dataframe thead th {\n",
       "        text-align: right;\n",
       "    }\n",
       "</style>\n",
       "<table border=\"1\" class=\"dataframe\">\n",
       "  <thead>\n",
       "    <tr style=\"text-align: right;\">\n",
       "      <th></th>\n",
       "      <th>age</th>\n",
       "      <th>workclass</th>\n",
       "      <th>education</th>\n",
       "      <th>education-num</th>\n",
       "      <th>marital-status</th>\n",
       "      <th>occupation</th>\n",
       "      <th>relationship</th>\n",
       "      <th>race</th>\n",
       "      <th>sex</th>\n",
       "      <th>capital-gain</th>\n",
       "      <th>capital-loss</th>\n",
       "      <th>hours-per-week</th>\n",
       "      <th>native-country</th>\n",
       "      <th>salary</th>\n",
       "    </tr>\n",
       "  </thead>\n",
       "  <tbody>\n",
       "    <tr>\n",
       "      <th>0</th>\n",
       "      <td>39</td>\n",
       "      <td>State-gov</td>\n",
       "      <td>Bachelors</td>\n",
       "      <td>13</td>\n",
       "      <td>Never-married</td>\n",
       "      <td>Adm-clerical</td>\n",
       "      <td>Not-in-family</td>\n",
       "      <td>White</td>\n",
       "      <td>Male</td>\n",
       "      <td>2174</td>\n",
       "      <td>0</td>\n",
       "      <td>40</td>\n",
       "      <td>United-States</td>\n",
       "      <td>&lt;=50K</td>\n",
       "    </tr>\n",
       "    <tr>\n",
       "      <th>1</th>\n",
       "      <td>50</td>\n",
       "      <td>Self-emp-not-inc</td>\n",
       "      <td>Bachelors</td>\n",
       "      <td>13</td>\n",
       "      <td>Married-civ-spouse</td>\n",
       "      <td>Exec-managerial</td>\n",
       "      <td>Husband</td>\n",
       "      <td>White</td>\n",
       "      <td>Male</td>\n",
       "      <td>0</td>\n",
       "      <td>0</td>\n",
       "      <td>13</td>\n",
       "      <td>United-States</td>\n",
       "      <td>&lt;=50K</td>\n",
       "    </tr>\n",
       "    <tr>\n",
       "      <th>2</th>\n",
       "      <td>38</td>\n",
       "      <td>Private</td>\n",
       "      <td>HS-grad</td>\n",
       "      <td>9</td>\n",
       "      <td>Divorced</td>\n",
       "      <td>Handlers-cleaners</td>\n",
       "      <td>Not-in-family</td>\n",
       "      <td>White</td>\n",
       "      <td>Male</td>\n",
       "      <td>0</td>\n",
       "      <td>0</td>\n",
       "      <td>40</td>\n",
       "      <td>United-States</td>\n",
       "      <td>&lt;=50K</td>\n",
       "    </tr>\n",
       "    <tr>\n",
       "      <th>3</th>\n",
       "      <td>53</td>\n",
       "      <td>Private</td>\n",
       "      <td>11th</td>\n",
       "      <td>7</td>\n",
       "      <td>Married-civ-spouse</td>\n",
       "      <td>Handlers-cleaners</td>\n",
       "      <td>Husband</td>\n",
       "      <td>Black</td>\n",
       "      <td>Male</td>\n",
       "      <td>0</td>\n",
       "      <td>0</td>\n",
       "      <td>40</td>\n",
       "      <td>United-States</td>\n",
       "      <td>&lt;=50K</td>\n",
       "    </tr>\n",
       "    <tr>\n",
       "      <th>4</th>\n",
       "      <td>28</td>\n",
       "      <td>Private</td>\n",
       "      <td>Bachelors</td>\n",
       "      <td>13</td>\n",
       "      <td>Married-civ-spouse</td>\n",
       "      <td>Prof-specialty</td>\n",
       "      <td>Wife</td>\n",
       "      <td>Black</td>\n",
       "      <td>Female</td>\n",
       "      <td>0</td>\n",
       "      <td>0</td>\n",
       "      <td>40</td>\n",
       "      <td>Cuba</td>\n",
       "      <td>&lt;=50K</td>\n",
       "    </tr>\n",
       "    <tr>\n",
       "      <th>...</th>\n",
       "      <td>...</td>\n",
       "      <td>...</td>\n",
       "      <td>...</td>\n",
       "      <td>...</td>\n",
       "      <td>...</td>\n",
       "      <td>...</td>\n",
       "      <td>...</td>\n",
       "      <td>...</td>\n",
       "      <td>...</td>\n",
       "      <td>...</td>\n",
       "      <td>...</td>\n",
       "      <td>...</td>\n",
       "      <td>...</td>\n",
       "      <td>...</td>\n",
       "    </tr>\n",
       "    <tr>\n",
       "      <th>32556</th>\n",
       "      <td>27</td>\n",
       "      <td>Private</td>\n",
       "      <td>Assoc-acdm</td>\n",
       "      <td>12</td>\n",
       "      <td>Married-civ-spouse</td>\n",
       "      <td>Tech-support</td>\n",
       "      <td>Wife</td>\n",
       "      <td>White</td>\n",
       "      <td>Female</td>\n",
       "      <td>0</td>\n",
       "      <td>0</td>\n",
       "      <td>38</td>\n",
       "      <td>United-States</td>\n",
       "      <td>&lt;=50K</td>\n",
       "    </tr>\n",
       "    <tr>\n",
       "      <th>32557</th>\n",
       "      <td>40</td>\n",
       "      <td>Private</td>\n",
       "      <td>HS-grad</td>\n",
       "      <td>9</td>\n",
       "      <td>Married-civ-spouse</td>\n",
       "      <td>Machine-op-inspct</td>\n",
       "      <td>Husband</td>\n",
       "      <td>White</td>\n",
       "      <td>Male</td>\n",
       "      <td>0</td>\n",
       "      <td>0</td>\n",
       "      <td>40</td>\n",
       "      <td>United-States</td>\n",
       "      <td>&gt;50K</td>\n",
       "    </tr>\n",
       "    <tr>\n",
       "      <th>32558</th>\n",
       "      <td>58</td>\n",
       "      <td>Private</td>\n",
       "      <td>HS-grad</td>\n",
       "      <td>9</td>\n",
       "      <td>Widowed</td>\n",
       "      <td>Adm-clerical</td>\n",
       "      <td>Unmarried</td>\n",
       "      <td>White</td>\n",
       "      <td>Female</td>\n",
       "      <td>0</td>\n",
       "      <td>0</td>\n",
       "      <td>40</td>\n",
       "      <td>United-States</td>\n",
       "      <td>&lt;=50K</td>\n",
       "    </tr>\n",
       "    <tr>\n",
       "      <th>32559</th>\n",
       "      <td>22</td>\n",
       "      <td>Private</td>\n",
       "      <td>HS-grad</td>\n",
       "      <td>9</td>\n",
       "      <td>Never-married</td>\n",
       "      <td>Adm-clerical</td>\n",
       "      <td>Own-child</td>\n",
       "      <td>White</td>\n",
       "      <td>Male</td>\n",
       "      <td>0</td>\n",
       "      <td>0</td>\n",
       "      <td>20</td>\n",
       "      <td>United-States</td>\n",
       "      <td>&lt;=50K</td>\n",
       "    </tr>\n",
       "    <tr>\n",
       "      <th>32560</th>\n",
       "      <td>52</td>\n",
       "      <td>Self-emp-inc</td>\n",
       "      <td>HS-grad</td>\n",
       "      <td>9</td>\n",
       "      <td>Married-civ-spouse</td>\n",
       "      <td>Exec-managerial</td>\n",
       "      <td>Wife</td>\n",
       "      <td>White</td>\n",
       "      <td>Female</td>\n",
       "      <td>15024</td>\n",
       "      <td>0</td>\n",
       "      <td>40</td>\n",
       "      <td>United-States</td>\n",
       "      <td>&gt;50K</td>\n",
       "    </tr>\n",
       "  </tbody>\n",
       "</table>\n",
       "<p>32561 rows × 14 columns</p>\n",
       "</div>"
      ],
      "text/plain": [
       "       age         workclass   education  education-num      marital-status  \\\n",
       "0       39         State-gov   Bachelors             13       Never-married   \n",
       "1       50  Self-emp-not-inc   Bachelors             13  Married-civ-spouse   \n",
       "2       38           Private     HS-grad              9            Divorced   \n",
       "3       53           Private        11th              7  Married-civ-spouse   \n",
       "4       28           Private   Bachelors             13  Married-civ-spouse   \n",
       "...    ...               ...         ...            ...                 ...   \n",
       "32556   27           Private  Assoc-acdm             12  Married-civ-spouse   \n",
       "32557   40           Private     HS-grad              9  Married-civ-spouse   \n",
       "32558   58           Private     HS-grad              9             Widowed   \n",
       "32559   22           Private     HS-grad              9       Never-married   \n",
       "32560   52      Self-emp-inc     HS-grad              9  Married-civ-spouse   \n",
       "\n",
       "              occupation   relationship   race     sex  capital-gain  \\\n",
       "0           Adm-clerical  Not-in-family  White    Male          2174   \n",
       "1        Exec-managerial        Husband  White    Male             0   \n",
       "2      Handlers-cleaners  Not-in-family  White    Male             0   \n",
       "3      Handlers-cleaners        Husband  Black    Male             0   \n",
       "4         Prof-specialty           Wife  Black  Female             0   \n",
       "...                  ...            ...    ...     ...           ...   \n",
       "32556       Tech-support           Wife  White  Female             0   \n",
       "32557  Machine-op-inspct        Husband  White    Male             0   \n",
       "32558       Adm-clerical      Unmarried  White  Female             0   \n",
       "32559       Adm-clerical      Own-child  White    Male             0   \n",
       "32560    Exec-managerial           Wife  White  Female         15024   \n",
       "\n",
       "       capital-loss  hours-per-week native-country salary  \n",
       "0                 0              40  United-States  <=50K  \n",
       "1                 0              13  United-States  <=50K  \n",
       "2                 0              40  United-States  <=50K  \n",
       "3                 0              40  United-States  <=50K  \n",
       "4                 0              40           Cuba  <=50K  \n",
       "...             ...             ...            ...    ...  \n",
       "32556             0              38  United-States  <=50K  \n",
       "32557             0              40  United-States   >50K  \n",
       "32558             0              40  United-States  <=50K  \n",
       "32559             0              20  United-States  <=50K  \n",
       "32560             0              40  United-States   >50K  \n",
       "\n",
       "[32561 rows x 14 columns]"
      ]
     },
     "execution_count": 4,
     "metadata": {},
     "output_type": "execute_result"
    }
   ],
   "source": [
    "data"
   ]
  },
  {
   "cell_type": "markdown",
   "id": "ae447fc8",
   "metadata": {},
   "source": [
    "## Data exploration"
   ]
  },
  {
   "cell_type": "code",
   "execution_count": 5,
   "id": "379977df",
   "metadata": {},
   "outputs": [
    {
     "data": {
      "text/html": [
       "<div>\n",
       "<style scoped>\n",
       "    .dataframe tbody tr th:only-of-type {\n",
       "        vertical-align: middle;\n",
       "    }\n",
       "\n",
       "    .dataframe tbody tr th {\n",
       "        vertical-align: top;\n",
       "    }\n",
       "\n",
       "    .dataframe thead th {\n",
       "        text-align: right;\n",
       "    }\n",
       "</style>\n",
       "<table border=\"1\" class=\"dataframe\">\n",
       "  <thead>\n",
       "    <tr style=\"text-align: right;\">\n",
       "      <th></th>\n",
       "      <th>age</th>\n",
       "      <th>workclass</th>\n",
       "      <th>education</th>\n",
       "      <th>education-num</th>\n",
       "      <th>marital-status</th>\n",
       "      <th>occupation</th>\n",
       "      <th>relationship</th>\n",
       "      <th>race</th>\n",
       "      <th>sex</th>\n",
       "      <th>capital-gain</th>\n",
       "      <th>capital-loss</th>\n",
       "      <th>hours-per-week</th>\n",
       "      <th>native-country</th>\n",
       "      <th>salary</th>\n",
       "    </tr>\n",
       "  </thead>\n",
       "  <tbody>\n",
       "    <tr>\n",
       "      <th>0</th>\n",
       "      <td>39</td>\n",
       "      <td>State-gov</td>\n",
       "      <td>Bachelors</td>\n",
       "      <td>13</td>\n",
       "      <td>Never-married</td>\n",
       "      <td>Adm-clerical</td>\n",
       "      <td>Not-in-family</td>\n",
       "      <td>White</td>\n",
       "      <td>Male</td>\n",
       "      <td>2174</td>\n",
       "      <td>0</td>\n",
       "      <td>40</td>\n",
       "      <td>United-States</td>\n",
       "      <td>&lt;=50K</td>\n",
       "    </tr>\n",
       "    <tr>\n",
       "      <th>1</th>\n",
       "      <td>50</td>\n",
       "      <td>Self-emp-not-inc</td>\n",
       "      <td>Bachelors</td>\n",
       "      <td>13</td>\n",
       "      <td>Married-civ-spouse</td>\n",
       "      <td>Exec-managerial</td>\n",
       "      <td>Husband</td>\n",
       "      <td>White</td>\n",
       "      <td>Male</td>\n",
       "      <td>0</td>\n",
       "      <td>0</td>\n",
       "      <td>13</td>\n",
       "      <td>United-States</td>\n",
       "      <td>&lt;=50K</td>\n",
       "    </tr>\n",
       "    <tr>\n",
       "      <th>2</th>\n",
       "      <td>38</td>\n",
       "      <td>Private</td>\n",
       "      <td>HS-grad</td>\n",
       "      <td>9</td>\n",
       "      <td>Divorced</td>\n",
       "      <td>Handlers-cleaners</td>\n",
       "      <td>Not-in-family</td>\n",
       "      <td>White</td>\n",
       "      <td>Male</td>\n",
       "      <td>0</td>\n",
       "      <td>0</td>\n",
       "      <td>40</td>\n",
       "      <td>United-States</td>\n",
       "      <td>&lt;=50K</td>\n",
       "    </tr>\n",
       "    <tr>\n",
       "      <th>3</th>\n",
       "      <td>53</td>\n",
       "      <td>Private</td>\n",
       "      <td>11th</td>\n",
       "      <td>7</td>\n",
       "      <td>Married-civ-spouse</td>\n",
       "      <td>Handlers-cleaners</td>\n",
       "      <td>Husband</td>\n",
       "      <td>Black</td>\n",
       "      <td>Male</td>\n",
       "      <td>0</td>\n",
       "      <td>0</td>\n",
       "      <td>40</td>\n",
       "      <td>United-States</td>\n",
       "      <td>&lt;=50K</td>\n",
       "    </tr>\n",
       "    <tr>\n",
       "      <th>4</th>\n",
       "      <td>28</td>\n",
       "      <td>Private</td>\n",
       "      <td>Bachelors</td>\n",
       "      <td>13</td>\n",
       "      <td>Married-civ-spouse</td>\n",
       "      <td>Prof-specialty</td>\n",
       "      <td>Wife</td>\n",
       "      <td>Black</td>\n",
       "      <td>Female</td>\n",
       "      <td>0</td>\n",
       "      <td>0</td>\n",
       "      <td>40</td>\n",
       "      <td>Cuba</td>\n",
       "      <td>&lt;=50K</td>\n",
       "    </tr>\n",
       "  </tbody>\n",
       "</table>\n",
       "</div>"
      ],
      "text/plain": [
       "   age         workclass  education  education-num      marital-status  \\\n",
       "0   39         State-gov  Bachelors             13       Never-married   \n",
       "1   50  Self-emp-not-inc  Bachelors             13  Married-civ-spouse   \n",
       "2   38           Private    HS-grad              9            Divorced   \n",
       "3   53           Private       11th              7  Married-civ-spouse   \n",
       "4   28           Private  Bachelors             13  Married-civ-spouse   \n",
       "\n",
       "          occupation   relationship   race     sex  capital-gain  \\\n",
       "0       Adm-clerical  Not-in-family  White    Male          2174   \n",
       "1    Exec-managerial        Husband  White    Male             0   \n",
       "2  Handlers-cleaners  Not-in-family  White    Male             0   \n",
       "3  Handlers-cleaners        Husband  Black    Male             0   \n",
       "4     Prof-specialty           Wife  Black  Female             0   \n",
       "\n",
       "   capital-loss  hours-per-week native-country salary  \n",
       "0             0              40  United-States  <=50K  \n",
       "1             0              13  United-States  <=50K  \n",
       "2             0              40  United-States  <=50K  \n",
       "3             0              40  United-States  <=50K  \n",
       "4             0              40           Cuba  <=50K  "
      ]
     },
     "execution_count": 5,
     "metadata": {},
     "output_type": "execute_result"
    }
   ],
   "source": [
    "#PRINT THE FIRST 5 LINES OF THE  DATASET\n",
    "data.head()"
   ]
  },
  {
   "cell_type": "code",
   "execution_count": 6,
   "id": "df2c2cdd",
   "metadata": {},
   "outputs": [
    {
     "data": {
      "text/html": [
       "<div>\n",
       "<style scoped>\n",
       "    .dataframe tbody tr th:only-of-type {\n",
       "        vertical-align: middle;\n",
       "    }\n",
       "\n",
       "    .dataframe tbody tr th {\n",
       "        vertical-align: top;\n",
       "    }\n",
       "\n",
       "    .dataframe thead th {\n",
       "        text-align: right;\n",
       "    }\n",
       "</style>\n",
       "<table border=\"1\" class=\"dataframe\">\n",
       "  <thead>\n",
       "    <tr style=\"text-align: right;\">\n",
       "      <th></th>\n",
       "      <th>age</th>\n",
       "      <th>workclass</th>\n",
       "      <th>education</th>\n",
       "      <th>education-num</th>\n",
       "      <th>marital-status</th>\n",
       "      <th>occupation</th>\n",
       "      <th>relationship</th>\n",
       "      <th>race</th>\n",
       "      <th>sex</th>\n",
       "      <th>capital-gain</th>\n",
       "      <th>capital-loss</th>\n",
       "      <th>hours-per-week</th>\n",
       "      <th>native-country</th>\n",
       "      <th>salary</th>\n",
       "    </tr>\n",
       "  </thead>\n",
       "  <tbody>\n",
       "    <tr>\n",
       "      <th>32556</th>\n",
       "      <td>27</td>\n",
       "      <td>Private</td>\n",
       "      <td>Assoc-acdm</td>\n",
       "      <td>12</td>\n",
       "      <td>Married-civ-spouse</td>\n",
       "      <td>Tech-support</td>\n",
       "      <td>Wife</td>\n",
       "      <td>White</td>\n",
       "      <td>Female</td>\n",
       "      <td>0</td>\n",
       "      <td>0</td>\n",
       "      <td>38</td>\n",
       "      <td>United-States</td>\n",
       "      <td>&lt;=50K</td>\n",
       "    </tr>\n",
       "    <tr>\n",
       "      <th>32557</th>\n",
       "      <td>40</td>\n",
       "      <td>Private</td>\n",
       "      <td>HS-grad</td>\n",
       "      <td>9</td>\n",
       "      <td>Married-civ-spouse</td>\n",
       "      <td>Machine-op-inspct</td>\n",
       "      <td>Husband</td>\n",
       "      <td>White</td>\n",
       "      <td>Male</td>\n",
       "      <td>0</td>\n",
       "      <td>0</td>\n",
       "      <td>40</td>\n",
       "      <td>United-States</td>\n",
       "      <td>&gt;50K</td>\n",
       "    </tr>\n",
       "    <tr>\n",
       "      <th>32558</th>\n",
       "      <td>58</td>\n",
       "      <td>Private</td>\n",
       "      <td>HS-grad</td>\n",
       "      <td>9</td>\n",
       "      <td>Widowed</td>\n",
       "      <td>Adm-clerical</td>\n",
       "      <td>Unmarried</td>\n",
       "      <td>White</td>\n",
       "      <td>Female</td>\n",
       "      <td>0</td>\n",
       "      <td>0</td>\n",
       "      <td>40</td>\n",
       "      <td>United-States</td>\n",
       "      <td>&lt;=50K</td>\n",
       "    </tr>\n",
       "    <tr>\n",
       "      <th>32559</th>\n",
       "      <td>22</td>\n",
       "      <td>Private</td>\n",
       "      <td>HS-grad</td>\n",
       "      <td>9</td>\n",
       "      <td>Never-married</td>\n",
       "      <td>Adm-clerical</td>\n",
       "      <td>Own-child</td>\n",
       "      <td>White</td>\n",
       "      <td>Male</td>\n",
       "      <td>0</td>\n",
       "      <td>0</td>\n",
       "      <td>20</td>\n",
       "      <td>United-States</td>\n",
       "      <td>&lt;=50K</td>\n",
       "    </tr>\n",
       "    <tr>\n",
       "      <th>32560</th>\n",
       "      <td>52</td>\n",
       "      <td>Self-emp-inc</td>\n",
       "      <td>HS-grad</td>\n",
       "      <td>9</td>\n",
       "      <td>Married-civ-spouse</td>\n",
       "      <td>Exec-managerial</td>\n",
       "      <td>Wife</td>\n",
       "      <td>White</td>\n",
       "      <td>Female</td>\n",
       "      <td>15024</td>\n",
       "      <td>0</td>\n",
       "      <td>40</td>\n",
       "      <td>United-States</td>\n",
       "      <td>&gt;50K</td>\n",
       "    </tr>\n",
       "  </tbody>\n",
       "</table>\n",
       "</div>"
      ],
      "text/plain": [
       "       age     workclass   education  education-num      marital-status  \\\n",
       "32556   27       Private  Assoc-acdm             12  Married-civ-spouse   \n",
       "32557   40       Private     HS-grad              9  Married-civ-spouse   \n",
       "32558   58       Private     HS-grad              9             Widowed   \n",
       "32559   22       Private     HS-grad              9       Never-married   \n",
       "32560   52  Self-emp-inc     HS-grad              9  Married-civ-spouse   \n",
       "\n",
       "              occupation relationship   race     sex  capital-gain  \\\n",
       "32556       Tech-support         Wife  White  Female             0   \n",
       "32557  Machine-op-inspct      Husband  White    Male             0   \n",
       "32558       Adm-clerical    Unmarried  White  Female             0   \n",
       "32559       Adm-clerical    Own-child  White    Male             0   \n",
       "32560    Exec-managerial         Wife  White  Female         15024   \n",
       "\n",
       "       capital-loss  hours-per-week native-country salary  \n",
       "32556             0              38  United-States  <=50K  \n",
       "32557             0              40  United-States   >50K  \n",
       "32558             0              40  United-States  <=50K  \n",
       "32559             0              20  United-States  <=50K  \n",
       "32560             0              40  United-States   >50K  "
      ]
     },
     "execution_count": 6,
     "metadata": {},
     "output_type": "execute_result"
    }
   ],
   "source": [
    "#PRINT THE LAST 5 LINES OF THE  DATASET\n",
    "data.tail()"
   ]
  },
  {
   "cell_type": "code",
   "execution_count": 7,
   "id": "094d6301",
   "metadata": {},
   "outputs": [
    {
     "data": {
      "text/plain": [
       "(32561, 14)"
      ]
     },
     "execution_count": 7,
     "metadata": {},
     "output_type": "execute_result"
    }
   ],
   "source": [
    "#SHAPE OF THE TRAIN DATASET\n",
    "data.shape"
   ]
  },
  {
   "cell_type": "markdown",
   "id": "20ef1c33",
   "metadata": {},
   "source": [
    "## Data Pre-Processing"
   ]
  },
  {
   "cell_type": "code",
   "execution_count": 8,
   "id": "5491b2de",
   "metadata": {},
   "outputs": [
    {
     "name": "stdout",
     "output_type": "stream",
     "text": [
      "<class 'pandas.core.frame.DataFrame'>\n",
      "RangeIndex: 32561 entries, 0 to 32560\n",
      "Data columns (total 14 columns):\n",
      " #   Column          Non-Null Count  Dtype \n",
      "---  ------          --------------  ----- \n",
      " 0   age             32561 non-null  int64 \n",
      " 1   workclass       32561 non-null  object\n",
      " 2   education       32561 non-null  object\n",
      " 3   education-num   32561 non-null  int64 \n",
      " 4   marital-status  32561 non-null  object\n",
      " 5   occupation      32561 non-null  object\n",
      " 6   relationship    32561 non-null  object\n",
      " 7   race            32561 non-null  object\n",
      " 8   sex             32561 non-null  object\n",
      " 9   capital-gain    32561 non-null  int64 \n",
      " 10  capital-loss    32561 non-null  int64 \n",
      " 11  hours-per-week  32561 non-null  int64 \n",
      " 12  native-country  32561 non-null  object\n",
      " 13  salary          32561 non-null  object\n",
      "dtypes: int64(5), object(9)\n",
      "memory usage: 3.5+ MB\n"
     ]
    }
   ],
   "source": [
    "#DISPLAY THE FULL SUMMARY OF THE DATAFRAME.\n",
    "data.info()"
   ]
  },
  {
   "cell_type": "code",
   "execution_count": 9,
   "id": "dca3fb89",
   "metadata": {},
   "outputs": [
    {
     "data": {
      "text/html": [
       "<div>\n",
       "<style scoped>\n",
       "    .dataframe tbody tr th:only-of-type {\n",
       "        vertical-align: middle;\n",
       "    }\n",
       "\n",
       "    .dataframe tbody tr th {\n",
       "        vertical-align: top;\n",
       "    }\n",
       "\n",
       "    .dataframe thead th {\n",
       "        text-align: right;\n",
       "    }\n",
       "</style>\n",
       "<table border=\"1\" class=\"dataframe\">\n",
       "  <thead>\n",
       "    <tr style=\"text-align: right;\">\n",
       "      <th></th>\n",
       "      <th>count</th>\n",
       "      <th>mean</th>\n",
       "      <th>std</th>\n",
       "      <th>min</th>\n",
       "      <th>25%</th>\n",
       "      <th>50%</th>\n",
       "      <th>75%</th>\n",
       "      <th>max</th>\n",
       "    </tr>\n",
       "  </thead>\n",
       "  <tbody>\n",
       "    <tr>\n",
       "      <th>age</th>\n",
       "      <td>32561.0</td>\n",
       "      <td>38.581647</td>\n",
       "      <td>13.640433</td>\n",
       "      <td>17.0</td>\n",
       "      <td>28.0</td>\n",
       "      <td>37.0</td>\n",
       "      <td>48.0</td>\n",
       "      <td>90.0</td>\n",
       "    </tr>\n",
       "    <tr>\n",
       "      <th>education-num</th>\n",
       "      <td>32561.0</td>\n",
       "      <td>10.080679</td>\n",
       "      <td>2.572720</td>\n",
       "      <td>1.0</td>\n",
       "      <td>9.0</td>\n",
       "      <td>10.0</td>\n",
       "      <td>12.0</td>\n",
       "      <td>16.0</td>\n",
       "    </tr>\n",
       "    <tr>\n",
       "      <th>capital-gain</th>\n",
       "      <td>32561.0</td>\n",
       "      <td>1077.648844</td>\n",
       "      <td>7385.292085</td>\n",
       "      <td>0.0</td>\n",
       "      <td>0.0</td>\n",
       "      <td>0.0</td>\n",
       "      <td>0.0</td>\n",
       "      <td>99999.0</td>\n",
       "    </tr>\n",
       "    <tr>\n",
       "      <th>capital-loss</th>\n",
       "      <td>32561.0</td>\n",
       "      <td>87.303830</td>\n",
       "      <td>402.960219</td>\n",
       "      <td>0.0</td>\n",
       "      <td>0.0</td>\n",
       "      <td>0.0</td>\n",
       "      <td>0.0</td>\n",
       "      <td>4356.0</td>\n",
       "    </tr>\n",
       "    <tr>\n",
       "      <th>hours-per-week</th>\n",
       "      <td>32561.0</td>\n",
       "      <td>40.437456</td>\n",
       "      <td>12.347429</td>\n",
       "      <td>1.0</td>\n",
       "      <td>40.0</td>\n",
       "      <td>40.0</td>\n",
       "      <td>45.0</td>\n",
       "      <td>99.0</td>\n",
       "    </tr>\n",
       "  </tbody>\n",
       "</table>\n",
       "</div>"
      ],
      "text/plain": [
       "                  count         mean          std   min   25%   50%   75%  \\\n",
       "age             32561.0    38.581647    13.640433  17.0  28.0  37.0  48.0   \n",
       "education-num   32561.0    10.080679     2.572720   1.0   9.0  10.0  12.0   \n",
       "capital-gain    32561.0  1077.648844  7385.292085   0.0   0.0   0.0   0.0   \n",
       "capital-loss    32561.0    87.303830   402.960219   0.0   0.0   0.0   0.0   \n",
       "hours-per-week  32561.0    40.437456    12.347429   1.0  40.0  40.0  45.0   \n",
       "\n",
       "                    max  \n",
       "age                90.0  \n",
       "education-num      16.0  \n",
       "capital-gain    99999.0  \n",
       "capital-loss     4356.0  \n",
       "hours-per-week     99.0  "
      ]
     },
     "execution_count": 9,
     "metadata": {},
     "output_type": "execute_result"
    }
   ],
   "source": [
    "#STATISTICS SUMMARY OF THE DATAFRAME.\n",
    "data.describe().T"
   ]
  },
  {
   "cell_type": "code",
   "execution_count": 10,
   "id": "baab465a",
   "metadata": {},
   "outputs": [
    {
     "data": {
      "text/html": [
       "<div>\n",
       "<style scoped>\n",
       "    .dataframe tbody tr th:only-of-type {\n",
       "        vertical-align: middle;\n",
       "    }\n",
       "\n",
       "    .dataframe tbody tr th {\n",
       "        vertical-align: top;\n",
       "    }\n",
       "\n",
       "    .dataframe thead th {\n",
       "        text-align: right;\n",
       "    }\n",
       "</style>\n",
       "<table border=\"1\" class=\"dataframe\">\n",
       "  <thead>\n",
       "    <tr style=\"text-align: right;\">\n",
       "      <th></th>\n",
       "      <th>count</th>\n",
       "      <th>unique</th>\n",
       "      <th>top</th>\n",
       "      <th>freq</th>\n",
       "    </tr>\n",
       "  </thead>\n",
       "  <tbody>\n",
       "    <tr>\n",
       "      <th>workclass</th>\n",
       "      <td>32561</td>\n",
       "      <td>9</td>\n",
       "      <td>Private</td>\n",
       "      <td>22696</td>\n",
       "    </tr>\n",
       "    <tr>\n",
       "      <th>education</th>\n",
       "      <td>32561</td>\n",
       "      <td>16</td>\n",
       "      <td>HS-grad</td>\n",
       "      <td>10501</td>\n",
       "    </tr>\n",
       "    <tr>\n",
       "      <th>marital-status</th>\n",
       "      <td>32561</td>\n",
       "      <td>7</td>\n",
       "      <td>Married-civ-spouse</td>\n",
       "      <td>14976</td>\n",
       "    </tr>\n",
       "    <tr>\n",
       "      <th>occupation</th>\n",
       "      <td>32561</td>\n",
       "      <td>15</td>\n",
       "      <td>Prof-specialty</td>\n",
       "      <td>4140</td>\n",
       "    </tr>\n",
       "    <tr>\n",
       "      <th>relationship</th>\n",
       "      <td>32561</td>\n",
       "      <td>6</td>\n",
       "      <td>Husband</td>\n",
       "      <td>13193</td>\n",
       "    </tr>\n",
       "    <tr>\n",
       "      <th>race</th>\n",
       "      <td>32561</td>\n",
       "      <td>5</td>\n",
       "      <td>White</td>\n",
       "      <td>27816</td>\n",
       "    </tr>\n",
       "    <tr>\n",
       "      <th>sex</th>\n",
       "      <td>32561</td>\n",
       "      <td>2</td>\n",
       "      <td>Male</td>\n",
       "      <td>21790</td>\n",
       "    </tr>\n",
       "    <tr>\n",
       "      <th>native-country</th>\n",
       "      <td>32561</td>\n",
       "      <td>42</td>\n",
       "      <td>United-States</td>\n",
       "      <td>29170</td>\n",
       "    </tr>\n",
       "    <tr>\n",
       "      <th>salary</th>\n",
       "      <td>32561</td>\n",
       "      <td>2</td>\n",
       "      <td>&lt;=50K</td>\n",
       "      <td>24720</td>\n",
       "    </tr>\n",
       "  </tbody>\n",
       "</table>\n",
       "</div>"
      ],
      "text/plain": [
       "                count unique                 top   freq\n",
       "workclass       32561      9             Private  22696\n",
       "education       32561     16             HS-grad  10501\n",
       "marital-status  32561      7  Married-civ-spouse  14976\n",
       "occupation      32561     15      Prof-specialty   4140\n",
       "relationship    32561      6             Husband  13193\n",
       "race            32561      5               White  27816\n",
       "sex             32561      2                Male  21790\n",
       "native-country  32561     42       United-States  29170\n",
       "salary          32561      2               <=50K  24720"
      ]
     },
     "execution_count": 10,
     "metadata": {},
     "output_type": "execute_result"
    }
   ],
   "source": [
    "#STATISTICS SUMMARY OF THE DATAFRAME OF OBJECT DATATYPE.\n",
    "data.describe(include='object').T"
   ]
  },
  {
   "cell_type": "code",
   "execution_count": 11,
   "id": "a06fb740",
   "metadata": {},
   "outputs": [
    {
     "data": {
      "text/plain": [
       "age                int64\n",
       "workclass         object\n",
       "education         object\n",
       "education-num      int64\n",
       "marital-status    object\n",
       "occupation        object\n",
       "relationship      object\n",
       "race              object\n",
       "sex               object\n",
       "capital-gain       int64\n",
       "capital-loss       int64\n",
       "hours-per-week     int64\n",
       "native-country    object\n",
       "salary            object\n",
       "dtype: object"
      ]
     },
     "execution_count": 11,
     "metadata": {},
     "output_type": "execute_result"
    }
   ],
   "source": [
    "# CHECK DATATYPES\n",
    "data.dtypes"
   ]
  },
  {
   "cell_type": "code",
   "execution_count": 12,
   "id": "2d1ffc37",
   "metadata": {},
   "outputs": [
    {
     "data": {
      "text/plain": [
       "Index(['age', 'workclass', 'education', 'education-num', 'marital-status',\n",
       "       'occupation', 'relationship', 'race', 'sex', 'capital-gain',\n",
       "       'capital-loss', 'hours-per-week', 'native-country', 'salary'],\n",
       "      dtype='object')"
      ]
     },
     "execution_count": 12,
     "metadata": {},
     "output_type": "execute_result"
    }
   ],
   "source": [
    "# DISPLAY THE COLUMN NAMES OF THE DATASET\n",
    "data.columns"
   ]
  },
  {
   "cell_type": "code",
   "execution_count": 13,
   "id": "a4cac4ad",
   "metadata": {},
   "outputs": [
    {
     "data": {
      "text/plain": [
       "age               0\n",
       "workclass         0\n",
       "education         0\n",
       "education-num     0\n",
       "marital-status    0\n",
       "occupation        0\n",
       "relationship      0\n",
       "race              0\n",
       "sex               0\n",
       "capital-gain      0\n",
       "capital-loss      0\n",
       "hours-per-week    0\n",
       "native-country    0\n",
       "salary            0\n",
       "dtype: int64"
      ]
     },
     "execution_count": 13,
     "metadata": {},
     "output_type": "execute_result"
    }
   ],
   "source": [
    "# Finding the null values in dataset.\n",
    "data.isnull().sum()"
   ]
  },
  {
   "cell_type": "markdown",
   "id": "0118e9b4",
   "metadata": {},
   "source": [
    "While analyzing the dataset, it is clear that capital-gain & capital_loss have no significance in salary prediction. so we can drop it. The column,education-num is the numerical version of the column education, so we also drop it."
   ]
  },
  {
   "cell_type": "code",
   "execution_count": 14,
   "id": "20bc7ce5",
   "metadata": {},
   "outputs": [
    {
     "data": {
      "text/html": [
       "<div>\n",
       "<style scoped>\n",
       "    .dataframe tbody tr th:only-of-type {\n",
       "        vertical-align: middle;\n",
       "    }\n",
       "\n",
       "    .dataframe tbody tr th {\n",
       "        vertical-align: top;\n",
       "    }\n",
       "\n",
       "    .dataframe thead th {\n",
       "        text-align: right;\n",
       "    }\n",
       "</style>\n",
       "<table border=\"1\" class=\"dataframe\">\n",
       "  <thead>\n",
       "    <tr style=\"text-align: right;\">\n",
       "      <th></th>\n",
       "      <th>age</th>\n",
       "      <th>workclass</th>\n",
       "      <th>education</th>\n",
       "      <th>marital-status</th>\n",
       "      <th>occupation</th>\n",
       "      <th>relationship</th>\n",
       "      <th>race</th>\n",
       "      <th>sex</th>\n",
       "      <th>hours-per-week</th>\n",
       "      <th>native-country</th>\n",
       "      <th>salary</th>\n",
       "    </tr>\n",
       "  </thead>\n",
       "  <tbody>\n",
       "    <tr>\n",
       "      <th>0</th>\n",
       "      <td>39</td>\n",
       "      <td>State-gov</td>\n",
       "      <td>Bachelors</td>\n",
       "      <td>Never-married</td>\n",
       "      <td>Adm-clerical</td>\n",
       "      <td>Not-in-family</td>\n",
       "      <td>White</td>\n",
       "      <td>Male</td>\n",
       "      <td>40</td>\n",
       "      <td>United-States</td>\n",
       "      <td>&lt;=50K</td>\n",
       "    </tr>\n",
       "    <tr>\n",
       "      <th>1</th>\n",
       "      <td>50</td>\n",
       "      <td>Self-emp-not-inc</td>\n",
       "      <td>Bachelors</td>\n",
       "      <td>Married-civ-spouse</td>\n",
       "      <td>Exec-managerial</td>\n",
       "      <td>Husband</td>\n",
       "      <td>White</td>\n",
       "      <td>Male</td>\n",
       "      <td>13</td>\n",
       "      <td>United-States</td>\n",
       "      <td>&lt;=50K</td>\n",
       "    </tr>\n",
       "    <tr>\n",
       "      <th>2</th>\n",
       "      <td>38</td>\n",
       "      <td>Private</td>\n",
       "      <td>HS-grad</td>\n",
       "      <td>Divorced</td>\n",
       "      <td>Handlers-cleaners</td>\n",
       "      <td>Not-in-family</td>\n",
       "      <td>White</td>\n",
       "      <td>Male</td>\n",
       "      <td>40</td>\n",
       "      <td>United-States</td>\n",
       "      <td>&lt;=50K</td>\n",
       "    </tr>\n",
       "    <tr>\n",
       "      <th>3</th>\n",
       "      <td>53</td>\n",
       "      <td>Private</td>\n",
       "      <td>11th</td>\n",
       "      <td>Married-civ-spouse</td>\n",
       "      <td>Handlers-cleaners</td>\n",
       "      <td>Husband</td>\n",
       "      <td>Black</td>\n",
       "      <td>Male</td>\n",
       "      <td>40</td>\n",
       "      <td>United-States</td>\n",
       "      <td>&lt;=50K</td>\n",
       "    </tr>\n",
       "    <tr>\n",
       "      <th>4</th>\n",
       "      <td>28</td>\n",
       "      <td>Private</td>\n",
       "      <td>Bachelors</td>\n",
       "      <td>Married-civ-spouse</td>\n",
       "      <td>Prof-specialty</td>\n",
       "      <td>Wife</td>\n",
       "      <td>Black</td>\n",
       "      <td>Female</td>\n",
       "      <td>40</td>\n",
       "      <td>Cuba</td>\n",
       "      <td>&lt;=50K</td>\n",
       "    </tr>\n",
       "  </tbody>\n",
       "</table>\n",
       "</div>"
      ],
      "text/plain": [
       "   age         workclass  education      marital-status         occupation  \\\n",
       "0   39         State-gov  Bachelors       Never-married       Adm-clerical   \n",
       "1   50  Self-emp-not-inc  Bachelors  Married-civ-spouse    Exec-managerial   \n",
       "2   38           Private    HS-grad            Divorced  Handlers-cleaners   \n",
       "3   53           Private       11th  Married-civ-spouse  Handlers-cleaners   \n",
       "4   28           Private  Bachelors  Married-civ-spouse     Prof-specialty   \n",
       "\n",
       "    relationship   race     sex  hours-per-week native-country salary  \n",
       "0  Not-in-family  White    Male              40  United-States  <=50K  \n",
       "1        Husband  White    Male              13  United-States  <=50K  \n",
       "2  Not-in-family  White    Male              40  United-States  <=50K  \n",
       "3        Husband  Black    Male              40  United-States  <=50K  \n",
       "4           Wife  Black  Female              40           Cuba  <=50K  "
      ]
     },
     "execution_count": 14,
     "metadata": {},
     "output_type": "execute_result"
    }
   ],
   "source": [
    "##  drop the unnecessary columns such as capital-gain','capital-loss','education-num as they do not contribute to target.\n",
    "data.drop(['capital-gain','capital-loss','education-num'], axis = 1,inplace = True)\n",
    "data.head()"
   ]
  },
  {
   "cell_type": "code",
   "execution_count": 15,
   "id": "c72d3f13",
   "metadata": {},
   "outputs": [
    {
     "name": "stdout",
     "output_type": "stream",
     "text": [
      "age : 73 \n",
      "\n",
      "workclass : 9 \n",
      "\n",
      "education : 16 \n",
      "\n",
      "marital-status : 7 \n",
      "\n",
      "occupation : 15 \n",
      "\n",
      "relationship : 6 \n",
      "\n",
      "race : 5 \n",
      "\n",
      "sex : 2 \n",
      "\n",
      "hours-per-week : 94 \n",
      "\n",
      "native-country : 42 \n",
      "\n",
      "salary : 2 \n",
      "\n"
     ]
    }
   ],
   "source": [
    "#UNIQUE OCCURENCE OF EACH VARIABLE\n",
    "for i in data.columns:\n",
    "    print(i,':',data[i].nunique(),'\\n')"
   ]
  },
  {
   "cell_type": "code",
   "execution_count": 16,
   "id": "0c19f6ba",
   "metadata": {},
   "outputs": [
    {
     "data": {
      "text/plain": [
       "['workclass',\n",
       " 'education',\n",
       " 'marital-status',\n",
       " 'occupation',\n",
       " 'relationship',\n",
       " 'race',\n",
       " 'sex',\n",
       " 'native-country',\n",
       " 'salary']"
      ]
     },
     "execution_count": 16,
     "metadata": {},
     "output_type": "execute_result"
    }
   ],
   "source": [
    "cat_var = []\n",
    "\n",
    "for column in data:\n",
    "    if data[column].dtype == 'O':\n",
    "        cat_var.append(column)\n",
    "cat_var"
   ]
  },
  {
   "cell_type": "code",
   "execution_count": 17,
   "id": "ec59f8b7",
   "metadata": {},
   "outputs": [
    {
     "name": "stdout",
     "output_type": "stream",
     "text": [
      "\n",
      " workclass \n",
      " ['State-gov' 'Self-emp-not-inc' 'Private' 'Federal-gov' 'Local-gov' '?'\n",
      " 'Self-emp-inc' 'Without-pay' 'Never-worked'] \n",
      " ------------------------------------------------------------------------------------------------------------------------\n",
      "\n",
      " education \n",
      " ['Bachelors' 'HS-grad' '11th' 'Masters' '9th' 'Some-college' 'Assoc-acdm'\n",
      " 'Assoc-voc' '7th-8th' 'Doctorate' 'Prof-school' '5th-6th' '10th'\n",
      " '1st-4th' 'Preschool' '12th'] \n",
      " ------------------------------------------------------------------------------------------------------------------------\n",
      "\n",
      " marital-status \n",
      " ['Never-married' 'Married-civ-spouse' 'Divorced' 'Married-spouse-absent'\n",
      " 'Separated' 'Married-AF-spouse' 'Widowed'] \n",
      " ------------------------------------------------------------------------------------------------------------------------\n",
      "\n",
      " occupation \n",
      " ['Adm-clerical' 'Exec-managerial' 'Handlers-cleaners' 'Prof-specialty'\n",
      " 'Other-service' 'Sales' 'Craft-repair' 'Transport-moving'\n",
      " 'Farming-fishing' 'Machine-op-inspct' 'Tech-support' '?'\n",
      " 'Protective-serv' 'Armed-Forces' 'Priv-house-serv'] \n",
      " ------------------------------------------------------------------------------------------------------------------------\n",
      "\n",
      " relationship \n",
      " ['Not-in-family' 'Husband' 'Wife' 'Own-child' 'Unmarried' 'Other-relative'] \n",
      " ------------------------------------------------------------------------------------------------------------------------\n",
      "\n",
      " race \n",
      " ['White' 'Black' 'Asian-Pac-Islander' 'Amer-Indian-Eskimo' 'Other'] \n",
      " ------------------------------------------------------------------------------------------------------------------------\n",
      "\n",
      " sex \n",
      " ['Male' 'Female'] \n",
      " ------------------------------------------------------------------------------------------------------------------------\n",
      "\n",
      " native-country \n",
      " ['United-States' 'Cuba' 'Jamaica' 'India' '?' 'Mexico' 'South'\n",
      " 'Puerto-Rico' 'Honduras' 'England' 'Canada' 'Germany' 'Iran'\n",
      " 'Philippines' 'Italy' 'Poland' 'Columbia' 'Cambodia' 'Thailand' 'Ecuador'\n",
      " 'Laos' 'Taiwan' 'Haiti' 'Portugal' 'Dominican-Republic' 'El-Salvador'\n",
      " 'France' 'Guatemala' 'China' 'Japan' 'Yugoslavia' 'Peru'\n",
      " 'Outlying-US(Guam-USVI-etc)' 'Scotland' 'Trinadad&Tobago' 'Greece'\n",
      " 'Nicaragua' 'Vietnam' 'Hong' 'Ireland' 'Hungary' 'Holand-Netherlands'] \n",
      " ------------------------------------------------------------------------------------------------------------------------\n",
      "\n",
      " salary \n",
      " ['<=50K' '>50K'] \n",
      " ------------------------------------------------------------------------------------------------------------------------\n"
     ]
    }
   ],
   "source": [
    "# finding the unique values in each categorical variables\n",
    "for col in cat_var:\n",
    "    print('\\n', col, '\\n', data[col].unique(), '\\n', '---' * 40)"
   ]
  },
  {
   "cell_type": "code",
   "execution_count": 18,
   "id": "2e855065",
   "metadata": {},
   "outputs": [],
   "source": [
    "# replace '?' row with nan\n",
    "# to apply the changes to whole dataframe\n",
    "data.replace('?', np.NaN, inplace=True)"
   ]
  },
  {
   "cell_type": "code",
   "execution_count": 19,
   "id": "b3a58a25",
   "metadata": {},
   "outputs": [
    {
     "name": "stdout",
     "output_type": "stream",
     "text": [
      "\n",
      " workclass \n",
      " ['State-gov' 'Self-emp-not-inc' 'Private' 'Federal-gov' 'Local-gov' nan\n",
      " 'Self-emp-inc' 'Without-pay' 'Never-worked'] \n",
      " ------------------------------------------------------------------------------------------------------------------------\n",
      "\n",
      " education \n",
      " ['Bachelors' 'HS-grad' '11th' 'Masters' '9th' 'Some-college' 'Assoc-acdm'\n",
      " 'Assoc-voc' '7th-8th' 'Doctorate' 'Prof-school' '5th-6th' '10th'\n",
      " '1st-4th' 'Preschool' '12th'] \n",
      " ------------------------------------------------------------------------------------------------------------------------\n",
      "\n",
      " marital-status \n",
      " ['Never-married' 'Married-civ-spouse' 'Divorced' 'Married-spouse-absent'\n",
      " 'Separated' 'Married-AF-spouse' 'Widowed'] \n",
      " ------------------------------------------------------------------------------------------------------------------------\n",
      "\n",
      " occupation \n",
      " ['Adm-clerical' 'Exec-managerial' 'Handlers-cleaners' 'Prof-specialty'\n",
      " 'Other-service' 'Sales' 'Craft-repair' 'Transport-moving'\n",
      " 'Farming-fishing' 'Machine-op-inspct' 'Tech-support' nan\n",
      " 'Protective-serv' 'Armed-Forces' 'Priv-house-serv'] \n",
      " ------------------------------------------------------------------------------------------------------------------------\n",
      "\n",
      " relationship \n",
      " ['Not-in-family' 'Husband' 'Wife' 'Own-child' 'Unmarried' 'Other-relative'] \n",
      " ------------------------------------------------------------------------------------------------------------------------\n",
      "\n",
      " race \n",
      " ['White' 'Black' 'Asian-Pac-Islander' 'Amer-Indian-Eskimo' 'Other'] \n",
      " ------------------------------------------------------------------------------------------------------------------------\n",
      "\n",
      " sex \n",
      " ['Male' 'Female'] \n",
      " ------------------------------------------------------------------------------------------------------------------------\n",
      "\n",
      " native-country \n",
      " ['United-States' 'Cuba' 'Jamaica' 'India' nan 'Mexico' 'South'\n",
      " 'Puerto-Rico' 'Honduras' 'England' 'Canada' 'Germany' 'Iran'\n",
      " 'Philippines' 'Italy' 'Poland' 'Columbia' 'Cambodia' 'Thailand' 'Ecuador'\n",
      " 'Laos' 'Taiwan' 'Haiti' 'Portugal' 'Dominican-Republic' 'El-Salvador'\n",
      " 'France' 'Guatemala' 'China' 'Japan' 'Yugoslavia' 'Peru'\n",
      " 'Outlying-US(Guam-USVI-etc)' 'Scotland' 'Trinadad&Tobago' 'Greece'\n",
      " 'Nicaragua' 'Vietnam' 'Hong' 'Ireland' 'Hungary' 'Holand-Netherlands'] \n",
      " ------------------------------------------------------------------------------------------------------------------------\n",
      "\n",
      " salary \n",
      " ['<=50K' '>50K'] \n",
      " ------------------------------------------------------------------------------------------------------------------------\n"
     ]
    }
   ],
   "source": [
    "# finding the unique values in each categorical variables\n",
    "for col in cat_var:\n",
    "    print('\\n', col, '\\n', data[col].unique(), '\\n', '---' * 40)"
   ]
  },
  {
   "cell_type": "code",
   "execution_count": 20,
   "id": "5e5af2d3",
   "metadata": {},
   "outputs": [
    {
     "data": {
      "text/plain": [
       "age                int64\n",
       "workclass         object\n",
       "education         object\n",
       "marital-status    object\n",
       "occupation        object\n",
       "relationship      object\n",
       "race              object\n",
       "sex               object\n",
       "hours-per-week     int64\n",
       "native-country    object\n",
       "salary            object\n",
       "dtype: object"
      ]
     },
     "execution_count": 20,
     "metadata": {},
     "output_type": "execute_result"
    }
   ],
   "source": [
    "data.dtypes"
   ]
  },
  {
   "cell_type": "code",
   "execution_count": 21,
   "id": "dbed9f6f",
   "metadata": {},
   "outputs": [
    {
     "data": {
      "image/png": "[encoded data removed]",
      "text/plain": [
       "<Figure size 1080x504 with 2 Axes>"
      ]
     },
     "metadata": {
      "needs_background": "light"
     },
     "output_type": "display_data"
    }
   ],
   "source": [
    "freqgraph = data.select_dtypes(include = ['int'])\n",
    "freqgraph.hist(figsize =(15,7))\n",
    "plt.show()"
   ]
  },
  {
   "cell_type": "code",
   "execution_count": 22,
   "id": "48fd2ccf",
   "metadata": {},
   "outputs": [],
   "source": [
    "#filling missing values using mode\n",
    "\n",
    "for i in ['workclass', 'occupation', 'native-country']:     \n",
    "    data[i]=data[i].fillna(data[i].mode()[0])"
   ]
  },
  {
   "cell_type": "code",
   "execution_count": 23,
   "id": "3001c265",
   "metadata": {},
   "outputs": [
    {
     "name": "stdout",
     "output_type": "stream",
     "text": [
      "36    898\n",
      "31    888\n",
      "34    886\n",
      "23    877\n",
      "35    876\n",
      "     ... \n",
      "83      6\n",
      "88      3\n",
      "85      3\n",
      "86      1\n",
      "87      1\n",
      "Name: age, Length: 73, dtype: int64\n",
      "--------------------------------------------------\n",
      "\n",
      "\n",
      "40    15217\n",
      "50     2819\n",
      "45     1824\n",
      "60     1475\n",
      "35     1297\n",
      "      ...  \n",
      "82        1\n",
      "92        1\n",
      "87        1\n",
      "74        1\n",
      "94        1\n",
      "Name: hours-per-week, Length: 94, dtype: int64\n",
      "--------------------------------------------------\n",
      "\n",
      "\n"
     ]
    }
   ],
   "source": [
    "num_cols =  data.select_dtypes([\"int\"])\n",
    "#get the valuecounts\n",
    "for i in num_cols.columns:\n",
    "    print(num_cols[i].value_counts())\n",
    "    print(\"-\"*50)\n",
    "    print(\"\\n\")"
   ]
  },
  {
   "cell_type": "code",
   "execution_count": 24,
   "id": "aae59b30",
   "metadata": {},
   "outputs": [
    {
     "name": "stdout",
     "output_type": "stream",
     "text": [
      "Private             24532\n",
      "Self-emp-not-inc     2541\n",
      "Local-gov            2093\n",
      "State-gov            1298\n",
      "Self-emp-inc         1116\n",
      "Federal-gov           960\n",
      "Without-pay            14\n",
      "Never-worked            7\n",
      "Name: workclass, dtype: int64\n",
      "--------------------------------------------------\n",
      "\n",
      "\n",
      "HS-grad         10501\n",
      "Some-college     7291\n",
      "Bachelors        5355\n",
      "Masters          1723\n",
      "Assoc-voc        1382\n",
      "11th             1175\n",
      "Assoc-acdm       1067\n",
      "10th              933\n",
      "7th-8th           646\n",
      "Prof-school       576\n",
      "9th               514\n",
      "12th              433\n",
      "Doctorate         413\n",
      "5th-6th           333\n",
      "1st-4th           168\n",
      "Preschool          51\n",
      "Name: education, dtype: int64\n",
      "--------------------------------------------------\n",
      "\n",
      "\n",
      "Married-civ-spouse       14976\n",
      "Never-married            10683\n",
      "Divorced                  4443\n",
      "Separated                 1025\n",
      "Widowed                    993\n",
      "Married-spouse-absent      418\n",
      "Married-AF-spouse           23\n",
      "Name: marital-status, dtype: int64\n",
      "--------------------------------------------------\n",
      "\n",
      "\n",
      "Prof-specialty       5983\n",
      "Craft-repair         4099\n",
      "Exec-managerial      4066\n",
      "Adm-clerical         3770\n",
      "Sales                3650\n",
      "Other-service        3295\n",
      "Machine-op-inspct    2002\n",
      "Transport-moving     1597\n",
      "Handlers-cleaners    1370\n",
      "Farming-fishing       994\n",
      "Tech-support          928\n",
      "Protective-serv       649\n",
      "Priv-house-serv       149\n",
      "Armed-Forces            9\n",
      "Name: occupation, dtype: int64\n",
      "--------------------------------------------------\n",
      "\n",
      "\n",
      "Husband           13193\n",
      "Not-in-family      8305\n",
      "Own-child          5068\n",
      "Unmarried          3446\n",
      "Wife               1568\n",
      "Other-relative      981\n",
      "Name: relationship, dtype: int64\n",
      "--------------------------------------------------\n",
      "\n",
      "\n",
      "White                 27816\n",
      "Black                  3124\n",
      "Asian-Pac-Islander     1039\n",
      "Amer-Indian-Eskimo      311\n",
      "Other                   271\n",
      "Name: race, dtype: int64\n",
      "--------------------------------------------------\n",
      "\n",
      "\n",
      "Male      21790\n",
      "Female    10771\n",
      "Name: sex, dtype: int64\n",
      "--------------------------------------------------\n",
      "\n",
      "\n",
      "United-States                 29753\n",
      "Mexico                          643\n",
      "Philippines                     198\n",
      "Germany                         137\n",
      "Canada                          121\n",
      "Puerto-Rico                     114\n",
      "El-Salvador                     106\n",
      "India                           100\n",
      "Cuba                             95\n",
      "England                          90\n",
      "Jamaica                          81\n",
      "South                            80\n",
      "China                            75\n",
      "Italy                            73\n",
      "Dominican-Republic               70\n",
      "Vietnam                          67\n",
      "Guatemala                        64\n",
      "Japan                            62\n",
      "Poland                           60\n",
      "Columbia                         59\n",
      "Taiwan                           51\n",
      "Haiti                            44\n",
      "Iran                             43\n",
      "Portugal                         37\n",
      "Nicaragua                        34\n",
      "Peru                             31\n",
      "France                           29\n",
      "Greece                           29\n",
      "Ecuador                          28\n",
      "Ireland                          24\n",
      "Hong                             20\n",
      "Cambodia                         19\n",
      "Trinadad&Tobago                  19\n",
      "Laos                             18\n",
      "Thailand                         18\n",
      "Yugoslavia                       16\n",
      "Outlying-US(Guam-USVI-etc)       14\n",
      "Honduras                         13\n",
      "Hungary                          13\n",
      "Scotland                         12\n",
      "Holand-Netherlands                1\n",
      "Name: native-country, dtype: int64\n",
      "--------------------------------------------------\n",
      "\n",
      "\n",
      "<=50K    24720\n",
      ">50K      7841\n",
      "Name: salary, dtype: int64\n",
      "--------------------------------------------------\n",
      "\n",
      "\n"
     ]
    }
   ],
   "source": [
    "cat_cols =  data.select_dtypes([\"object\"])\n",
    "#get the valuecounts\n",
    "for i in cat_cols.columns:\n",
    "    print(cat_cols[i].value_counts())\n",
    "    print(\"-\"*50)\n",
    "    print(\"\\n\")"
   ]
  },
  {
   "cell_type": "markdown",
   "id": "461d8081",
   "metadata": {},
   "source": [
    "## EXPLORATORY DATA ANALYSIS"
   ]
  },
  {
   "cell_type": "markdown",
   "id": "6ec254e7",
   "metadata": {},
   "source": [
    "### UNIVARIATE ANALYSIS"
   ]
  },
  {
   "cell_type": "code",
   "execution_count": 25,
   "id": "c049c707",
   "metadata": {},
   "outputs": [
    {
     "data": {
      "image/png": "[encoded data removed]",
      "text/plain": [
       "<Figure size 432x288 with 1 Axes>"
      ]
     },
     "metadata": {},
     "output_type": "display_data"
    }
   ],
   "source": [
    "data['salary'].value_counts().plot.pie(autopct='%.1f%%')\n",
    "plt.title(\"Distribution of Salary\")\n",
    "plt.rcParams['figure.figsize'] = (10,5)\n",
    "plt.show() "
   ]
  },
  {
   "cell_type": "markdown",
   "id": "275f5052",
   "metadata": {},
   "source": [
    "Approximately 75.9% of salaries are $50,000 or less."
   ]
  },
  {
   "cell_type": "code",
   "execution_count": 26,
   "id": "1797a2ce",
   "metadata": {},
   "outputs": [
    {
     "data": {
      "image/png": "[encoded data removed]",
      "text/plain": [
       "<Figure size 720x360 with 1 Axes>"
      ]
     },
     "metadata": {
      "needs_background": "light"
     },
     "output_type": "display_data"
    }
   ],
   "source": [
    "sns.countplot(x= data['workclass'],palette=\"YlOrBr\")\n",
    "plt.title('Distribution of work class')\n",
    "plt.grid()\n",
    "plt.show()"
   ]
  },
  {
   "cell_type": "markdown",
   "id": "6c1333e2",
   "metadata": {},
   "source": [
    "Private work classes make up the majority."
   ]
  },
  {
   "cell_type": "code",
   "execution_count": 27,
   "id": "11bcb0da",
   "metadata": {},
   "outputs": [
    {
     "data": {
      "image/png": "[encoded data removed]",
      "text/plain": [
       "<Figure size 720x360 with 1 Axes>"
      ]
     },
     "metadata": {
      "needs_background": "light"
     },
     "output_type": "display_data"
    }
   ],
   "source": [
    "sns.countplot(x= data['occupation'],palette=\"Blues\")\n",
    "plt.title('Distribution of Occupation')\n",
    "plt.xticks(rotation=90)\n",
    "plt.grid()\n",
    "plt.show()"
   ]
  },
  {
   "cell_type": "markdown",
   "id": "30f43172",
   "metadata": {},
   "source": [
    "The highest occupation distribution is prof-specialty."
   ]
  },
  {
   "cell_type": "code",
   "execution_count": 28,
   "id": "84ecfccc",
   "metadata": {},
   "outputs": [
    {
     "data": {
      "image/png": "[encoded data removed]",
      "text/plain": [
       "<Figure size 720x360 with 1 Axes>"
      ]
     },
     "metadata": {
      "needs_background": "light"
     },
     "output_type": "display_data"
    }
   ],
   "source": [
    "sns.countplot(x= data['race'],palette=\"Greens\")\n",
    "plt.title('Distribution of race')\n",
    "plt.xticks(rotation=90)\n",
    "plt.grid()\n",
    "plt.show()"
   ]
  },
  {
   "cell_type": "markdown",
   "id": "09b9c9a4",
   "metadata": {},
   "source": [
    "The dominant race is white."
   ]
  },
  {
   "cell_type": "code",
   "execution_count": 29,
   "id": "4b71ec8f",
   "metadata": {},
   "outputs": [
    {
     "data": {
      "image/png": "[encoded data removed]",
      "text/plain": [
       "<Figure size 720x360 with 1 Axes>"
      ]
     },
     "metadata": {
      "needs_background": "light"
     },
     "output_type": "display_data"
    }
   ],
   "source": [
    "sns.countplot(x= data['education'],palette=\"YlOrBr\")\n",
    "plt.title('Distribution of education')\n",
    "plt.xticks(rotation = 90)\n",
    "plt.grid()\n",
    "plt.show()"
   ]
  },
  {
   "cell_type": "markdown",
   "id": "7b75cae7",
   "metadata": {},
   "source": [
    "In education, high school graduates predominate."
   ]
  },
  {
   "cell_type": "code",
   "execution_count": 30,
   "id": "a34fe2f1",
   "metadata": {},
   "outputs": [
    {
     "data": {
      "image/png": "[encoded data removed]",
      "text/plain": [
       "<Figure size 720x360 with 1 Axes>"
      ]
     },
     "metadata": {
      "needs_background": "light"
     },
     "output_type": "display_data"
    }
   ],
   "source": [
    "sns.countplot(x= data['marital-status'],palette=\"Reds\")\n",
    "plt.title('Distribution of marital-status')\n",
    "plt.xticks(rotation = 90)\n",
    "plt.grid()\n",
    "plt.show()"
   ]
  },
  {
   "cell_type": "markdown",
   "id": "0e4373c3",
   "metadata": {},
   "source": [
    "In marital status, majority is married-civ-spouse."
   ]
  },
  {
   "cell_type": "code",
   "execution_count": 31,
   "id": "54648c28",
   "metadata": {},
   "outputs": [
    {
     "data": {
      "image/png": "[encoded data removed]",
      "text/plain": [
       "<Figure size 720x360 with 1 Axes>"
      ]
     },
     "metadata": {
      "needs_background": "light"
     },
     "output_type": "display_data"
    }
   ],
   "source": [
    "sns.countplot(x= data['relationship'],palette=\"Greens\")\n",
    "plt.title('Distribution of relationship')\n",
    "plt.xticks(rotation = 90)\n",
    "plt.grid()\n",
    "plt.show()"
   ]
  },
  {
   "cell_type": "code",
   "execution_count": 32,
   "id": "4edf2897",
   "metadata": {},
   "outputs": [
    {
     "data": {
      "image/png": "[encoded data removed]",
      "text/plain": [
       "<Figure size 720x360 with 1 Axes>"
      ]
     },
     "metadata": {
      "needs_background": "light"
     },
     "output_type": "display_data"
    }
   ],
   "source": [
    "sns.histplot(data['sex'])\n",
    "plt.title('Distribution of sex')\n",
    "plt.show()"
   ]
  },
  {
   "cell_type": "markdown",
   "id": "c553d8a1",
   "metadata": {},
   "source": [
    "Males are the predominate sex."
   ]
  },
  {
   "cell_type": "markdown",
   "id": "2218abea",
   "metadata": {},
   "source": [
    "### BIVARIATE ANALYSIS"
   ]
  },
  {
   "cell_type": "code",
   "execution_count": 33,
   "id": "94c72a22",
   "metadata": {},
   "outputs": [
    {
     "data": {
      "text/plain": [
       "Text(0.5, 1.0, 'Users by Salary and Gender')"
      ]
     },
     "execution_count": 33,
     "metadata": {},
     "output_type": "execute_result"
    },
    {
     "data": {
      "image/png": "[encoded data removed]",
      "text/plain": [
       "<Figure size 720x432 with 1 Axes>"
      ]
     },
     "metadata": {
      "needs_background": "light"
     },
     "output_type": "display_data"
    }
   ],
   "source": [
    "plt.figure(figsize=(10, 6))\n",
    "sns.countplot(x='salary',hue='sex',data=data)\n",
    "plt.title(\"Users by Salary and Gender\", fontsize = 10)"
   ]
  },
  {
   "cell_type": "code",
   "execution_count": 34,
   "id": "d4f3cbed",
   "metadata": {},
   "outputs": [
    {
     "data": {
      "image/png": "[encoded data removed]",
      "text/plain": [
       "<Figure size 720x432 with 1 Axes>"
      ]
     },
     "metadata": {
      "needs_background": "light"
     },
     "output_type": "display_data"
    }
   ],
   "source": [
    "plt.figure(figsize=(10, 6))\n",
    "sns.countplot(x='occupation',hue='salary',data=data,palette=\"Greens\")\n",
    "plt.title(\"Users by Salary and Occupation\", fontsize = 10)\n",
    "plt.xticks(rotation = 90)\n",
    "plt.grid()"
   ]
  },
  {
   "cell_type": "code",
   "execution_count": 35,
   "id": "31ba9130",
   "metadata": {},
   "outputs": [
    {
     "data": {
      "image/png": "[encoded data removed]",
      "text/plain": [
       "<Figure size 720x432 with 1 Axes>"
      ]
     },
     "metadata": {
      "needs_background": "light"
     },
     "output_type": "display_data"
    }
   ],
   "source": [
    "plt.figure(figsize=(10, 6))\n",
    "sns.countplot(x='education',hue='salary',data=data,palette=\"Blues\")\n",
    "plt.title(\"Users by education and salary\", fontsize = 10)\n",
    "plt.xticks(rotation = 90)\n",
    "plt.grid()"
   ]
  },
  {
   "cell_type": "code",
   "execution_count": 36,
   "id": "b75d0936",
   "metadata": {},
   "outputs": [
    {
     "data": {
      "image/png": "[encoded data removed]",
      "text/plain": [
       "<Figure size 720x432 with 1 Axes>"
      ]
     },
     "metadata": {
      "needs_background": "light"
     },
     "output_type": "display_data"
    }
   ],
   "source": [
    "plt.figure(figsize=(10, 6))\n",
    "sns.countplot(x='workclass',hue='salary',data=data,palette=\"Greens\")\n",
    "plt.title(\"Users by Salary and Workclass\", fontsize = 12)\n",
    "plt.xticks(rotation = 90)\n",
    "plt.grid()"
   ]
  },
  {
   "cell_type": "markdown",
   "id": "c3e649ec",
   "metadata": {},
   "source": [
    "### CORRELATION"
   ]
  },
  {
   "cell_type": "code",
   "execution_count": 37,
   "id": "0b75d864",
   "metadata": {},
   "outputs": [
    {
     "data": {
      "text/plain": [
       "<AxesSubplot:>"
      ]
     },
     "execution_count": 37,
     "metadata": {},
     "output_type": "execute_result"
    },
    {
     "data": {
      "image/png": "[encoded data removed]",
      "text/plain": [
       "<Figure size 720x288 with 2 Axes>"
      ]
     },
     "metadata": {
      "needs_background": "light"
     },
     "output_type": "display_data"
    }
   ],
   "source": [
    "corrmatrix = data.corr()\n",
    "plt.subplots(figsize=(10,4))\n",
    "sns.heatmap(corrmatrix, vmin=0.2, vmax=0.9, annot=True, cmap=\"Blues\")"
   ]
  },
  {
   "cell_type": "markdown",
   "id": "372bcd67",
   "metadata": {},
   "source": [
    "### OUTLIERS HANDLING"
   ]
  },
  {
   "cell_type": "code",
   "execution_count": 38,
   "id": "c17f84a0",
   "metadata": {},
   "outputs": [
    {
     "data": {
      "image/png": "[encoded data removed]",
      "text/plain": [
       "<Figure size 1152x1152 with 6 Axes>"
      ]
     },
     "metadata": {
      "needs_background": "light"
     },
     "output_type": "display_data"
    }
   ],
   "source": [
    "data.plot(kind='box',subplots=True,layout=(2,3),figsize=(16,16));"
   ]
  },
  {
   "cell_type": "markdown",
   "id": "4572a72a",
   "metadata": {},
   "source": [
    "From the figure it is clear that age and hours-per-week have outliers. So we should remove it."
   ]
  },
  {
   "cell_type": "code",
   "execution_count": 39,
   "id": "cdfaab4d",
   "metadata": {},
   "outputs": [],
   "source": [
    "# Identify the outliers and remove \n",
    "for i in ['age', 'hours-per-week']:\n",
    "    Q1=data[i].quantile(0.25) # 25th quantile\n",
    "    Q3=data[i].quantile(0.75) # 75th quantile\n",
    "    IQR = Q3-Q1\n",
    "    Lower_Whisker = Q1 - 1.5*IQR \n",
    "    Upper_Whisker = Q3 + 1.5*IQR\n",
    "    data[i] = np.clip(data[i], Lower_Whisker, Upper_Whisker)"
   ]
  },
  {
   "cell_type": "code",
   "execution_count": 40,
   "id": "4ae935a1",
   "metadata": {},
   "outputs": [
    {
     "data": {
      "image/png": "[encoded data removed]",
      "text/plain": [
       "<Figure size 1080x1080 with 6 Axes>"
      ]
     },
     "metadata": {
      "needs_background": "light"
     },
     "output_type": "display_data"
    }
   ],
   "source": [
    "data.plot(kind='box',subplots=True,layout=(2,3),figsize=(15,15));"
   ]
  },
  {
   "cell_type": "markdown",
   "id": "ece9c684",
   "metadata": {},
   "source": [
    "### ENCODING"
   ]
  },
  {
   "cell_type": "code",
   "execution_count": 41,
   "id": "5a8c3d6b",
   "metadata": {},
   "outputs": [],
   "source": [
    "## Mapping Salary\n",
    "\n",
    "replace_map = {'salary': { '>50K': 1, '<=50K': 0} }\n",
    "\n",
    "data.replace(replace_map, inplace=True)"
   ]
  },
  {
   "cell_type": "markdown",
   "id": "d7b5806e",
   "metadata": {},
   "source": [
    "##### LABEL ENCODING"
   ]
  },
  {
   "cell_type": "code",
   "execution_count": 42,
   "id": "d319a431",
   "metadata": {},
   "outputs": [],
   "source": [
    "#import library\n",
    "from sklearn.preprocessing import LabelEncoder\n",
    "#fit the model\n",
    "label_encoder=LabelEncoder()"
   ]
  },
  {
   "cell_type": "code",
   "execution_count": 43,
   "id": "14b5c564",
   "metadata": {},
   "outputs": [
    {
     "name": "stdout",
     "output_type": "stream",
     "text": [
      "{'Federal-gov': 0, 'Local-gov': 1, 'Never-worked': 2, 'Private': 3, 'Self-emp-inc': 4, 'Self-emp-not-inc': 5, 'State-gov': 6, 'Without-pay': 7}\n",
      "{'10th': 0, '11th': 1, '12th': 2, '1st-4th': 3, '5th-6th': 4, '7th-8th': 5, '9th': 6, 'Assoc-acdm': 7, 'Assoc-voc': 8, 'Bachelors': 9, 'Doctorate': 10, 'HS-grad': 11, 'Masters': 12, 'Preschool': 13, 'Prof-school': 14, 'Some-college': 15}\n",
      "{'Divorced': 0, 'Married-AF-spouse': 1, 'Married-civ-spouse': 2, 'Married-spouse-absent': 3, 'Never-married': 4, 'Separated': 5, 'Widowed': 6}\n",
      "{'Adm-clerical': 0, 'Armed-Forces': 1, 'Craft-repair': 2, 'Exec-managerial': 3, 'Farming-fishing': 4, 'Handlers-cleaners': 5, 'Machine-op-inspct': 6, 'Other-service': 7, 'Priv-house-serv': 8, 'Prof-specialty': 9, 'Protective-serv': 10, 'Sales': 11, 'Tech-support': 12, 'Transport-moving': 13}\n",
      "{'Husband': 0, 'Not-in-family': 1, 'Other-relative': 2, 'Own-child': 3, 'Unmarried': 4, 'Wife': 5}\n",
      "{'Amer-Indian-Eskimo': 0, 'Asian-Pac-Islander': 1, 'Black': 2, 'Other': 3, 'White': 4}\n",
      "{'Female': 0, 'Male': 1}\n",
      "{'Cambodia': 0, 'Canada': 1, 'China': 2, 'Columbia': 3, 'Cuba': 4, 'Dominican-Republic': 5, 'Ecuador': 6, 'El-Salvador': 7, 'England': 8, 'France': 9, 'Germany': 10, 'Greece': 11, 'Guatemala': 12, 'Haiti': 13, 'Holand-Netherlands': 14, 'Honduras': 15, 'Hong': 16, 'Hungary': 17, 'India': 18, 'Iran': 19, 'Ireland': 20, 'Italy': 21, 'Jamaica': 22, 'Japan': 23, 'Laos': 24, 'Mexico': 25, 'Nicaragua': 26, 'Outlying-US(Guam-USVI-etc)': 27, 'Peru': 28, 'Philippines': 29, 'Poland': 30, 'Portugal': 31, 'Puerto-Rico': 32, 'Scotland': 33, 'South': 34, 'Taiwan': 35, 'Thailand': 36, 'Trinadad&Tobago': 37, 'United-States': 38, 'Vietnam': 39, 'Yugoslavia': 40}\n"
     ]
    }
   ],
   "source": [
    "for i in ['workclass', 'education', 'marital-status', 'occupation', 'relationship', 'race', 'sex','native-country']:  \n",
    "    data[i]=label_encoder.fit_transform(data[i])\n",
    "    le_name_mapping =dict((zip(label_encoder.classes_, label_encoder.transform(label_encoder.classes_))))\n",
    "    print(le_name_mapping)"
   ]
  },
  {
   "cell_type": "code",
   "execution_count": 44,
   "id": "fcad826d",
   "metadata": {},
   "outputs": [
    {
     "data": {
      "text/html": [
       "<div>\n",
       "<style scoped>\n",
       "    .dataframe tbody tr th:only-of-type {\n",
       "        vertical-align: middle;\n",
       "    }\n",
       "\n",
       "    .dataframe tbody tr th {\n",
       "        vertical-align: top;\n",
       "    }\n",
       "\n",
       "    .dataframe thead th {\n",
       "        text-align: right;\n",
       "    }\n",
       "</style>\n",
       "<table border=\"1\" class=\"dataframe\">\n",
       "  <thead>\n",
       "    <tr style=\"text-align: right;\">\n",
       "      <th></th>\n",
       "      <th>age</th>\n",
       "      <th>workclass</th>\n",
       "      <th>education</th>\n",
       "      <th>marital-status</th>\n",
       "      <th>occupation</th>\n",
       "      <th>relationship</th>\n",
       "      <th>race</th>\n",
       "      <th>sex</th>\n",
       "      <th>hours-per-week</th>\n",
       "      <th>native-country</th>\n",
       "      <th>salary</th>\n",
       "    </tr>\n",
       "  </thead>\n",
       "  <tbody>\n",
       "    <tr>\n",
       "      <th>0</th>\n",
       "      <td>39.0</td>\n",
       "      <td>6</td>\n",
       "      <td>9</td>\n",
       "      <td>4</td>\n",
       "      <td>0</td>\n",
       "      <td>1</td>\n",
       "      <td>4</td>\n",
       "      <td>1</td>\n",
       "      <td>40.0</td>\n",
       "      <td>38</td>\n",
       "      <td>0</td>\n",
       "    </tr>\n",
       "    <tr>\n",
       "      <th>1</th>\n",
       "      <td>50.0</td>\n",
       "      <td>5</td>\n",
       "      <td>9</td>\n",
       "      <td>2</td>\n",
       "      <td>3</td>\n",
       "      <td>0</td>\n",
       "      <td>4</td>\n",
       "      <td>1</td>\n",
       "      <td>32.5</td>\n",
       "      <td>38</td>\n",
       "      <td>0</td>\n",
       "    </tr>\n",
       "    <tr>\n",
       "      <th>2</th>\n",
       "      <td>38.0</td>\n",
       "      <td>3</td>\n",
       "      <td>11</td>\n",
       "      <td>0</td>\n",
       "      <td>5</td>\n",
       "      <td>1</td>\n",
       "      <td>4</td>\n",
       "      <td>1</td>\n",
       "      <td>40.0</td>\n",
       "      <td>38</td>\n",
       "      <td>0</td>\n",
       "    </tr>\n",
       "    <tr>\n",
       "      <th>3</th>\n",
       "      <td>53.0</td>\n",
       "      <td>3</td>\n",
       "      <td>1</td>\n",
       "      <td>2</td>\n",
       "      <td>5</td>\n",
       "      <td>0</td>\n",
       "      <td>2</td>\n",
       "      <td>1</td>\n",
       "      <td>40.0</td>\n",
       "      <td>38</td>\n",
       "      <td>0</td>\n",
       "    </tr>\n",
       "    <tr>\n",
       "      <th>4</th>\n",
       "      <td>28.0</td>\n",
       "      <td>3</td>\n",
       "      <td>9</td>\n",
       "      <td>2</td>\n",
       "      <td>9</td>\n",
       "      <td>5</td>\n",
       "      <td>2</td>\n",
       "      <td>0</td>\n",
       "      <td>40.0</td>\n",
       "      <td>4</td>\n",
       "      <td>0</td>\n",
       "    </tr>\n",
       "    <tr>\n",
       "      <th>...</th>\n",
       "      <td>...</td>\n",
       "      <td>...</td>\n",
       "      <td>...</td>\n",
       "      <td>...</td>\n",
       "      <td>...</td>\n",
       "      <td>...</td>\n",
       "      <td>...</td>\n",
       "      <td>...</td>\n",
       "      <td>...</td>\n",
       "      <td>...</td>\n",
       "      <td>...</td>\n",
       "    </tr>\n",
       "    <tr>\n",
       "      <th>32556</th>\n",
       "      <td>27.0</td>\n",
       "      <td>3</td>\n",
       "      <td>7</td>\n",
       "      <td>2</td>\n",
       "      <td>12</td>\n",
       "      <td>5</td>\n",
       "      <td>4</td>\n",
       "      <td>0</td>\n",
       "      <td>38.0</td>\n",
       "      <td>38</td>\n",
       "      <td>0</td>\n",
       "    </tr>\n",
       "    <tr>\n",
       "      <th>32557</th>\n",
       "      <td>40.0</td>\n",
       "      <td>3</td>\n",
       "      <td>11</td>\n",
       "      <td>2</td>\n",
       "      <td>6</td>\n",
       "      <td>0</td>\n",
       "      <td>4</td>\n",
       "      <td>1</td>\n",
       "      <td>40.0</td>\n",
       "      <td>38</td>\n",
       "      <td>1</td>\n",
       "    </tr>\n",
       "    <tr>\n",
       "      <th>32558</th>\n",
       "      <td>58.0</td>\n",
       "      <td>3</td>\n",
       "      <td>11</td>\n",
       "      <td>6</td>\n",
       "      <td>0</td>\n",
       "      <td>4</td>\n",
       "      <td>4</td>\n",
       "      <td>0</td>\n",
       "      <td>40.0</td>\n",
       "      <td>38</td>\n",
       "      <td>0</td>\n",
       "    </tr>\n",
       "    <tr>\n",
       "      <th>32559</th>\n",
       "      <td>22.0</td>\n",
       "      <td>3</td>\n",
       "      <td>11</td>\n",
       "      <td>4</td>\n",
       "      <td>0</td>\n",
       "      <td>3</td>\n",
       "      <td>4</td>\n",
       "      <td>1</td>\n",
       "      <td>32.5</td>\n",
       "      <td>38</td>\n",
       "      <td>0</td>\n",
       "    </tr>\n",
       "    <tr>\n",
       "      <th>32560</th>\n",
       "      <td>52.0</td>\n",
       "      <td>4</td>\n",
       "      <td>11</td>\n",
       "      <td>2</td>\n",
       "      <td>3</td>\n",
       "      <td>5</td>\n",
       "      <td>4</td>\n",
       "      <td>0</td>\n",
       "      <td>40.0</td>\n",
       "      <td>38</td>\n",
       "      <td>1</td>\n",
       "    </tr>\n",
       "  </tbody>\n",
       "</table>\n",
       "<p>32561 rows × 11 columns</p>\n",
       "</div>"
      ],
      "text/plain": [
       "        age  workclass  education  marital-status  occupation  relationship  \\\n",
       "0      39.0          6          9               4           0             1   \n",
       "1      50.0          5          9               2           3             0   \n",
       "2      38.0          3         11               0           5             1   \n",
       "3      53.0          3          1               2           5             0   \n",
       "4      28.0          3          9               2           9             5   \n",
       "...     ...        ...        ...             ...         ...           ...   \n",
       "32556  27.0          3          7               2          12             5   \n",
       "32557  40.0          3         11               2           6             0   \n",
       "32558  58.0          3         11               6           0             4   \n",
       "32559  22.0          3         11               4           0             3   \n",
       "32560  52.0          4         11               2           3             5   \n",
       "\n",
       "       race  sex  hours-per-week  native-country  salary  \n",
       "0         4    1            40.0              38       0  \n",
       "1         4    1            32.5              38       0  \n",
       "2         4    1            40.0              38       0  \n",
       "3         2    1            40.0              38       0  \n",
       "4         2    0            40.0               4       0  \n",
       "...     ...  ...             ...             ...     ...  \n",
       "32556     4    0            38.0              38       0  \n",
       "32557     4    1            40.0              38       1  \n",
       "32558     4    0            40.0              38       0  \n",
       "32559     4    1            32.5              38       0  \n",
       "32560     4    0            40.0              38       1  \n",
       "\n",
       "[32561 rows x 11 columns]"
      ]
     },
     "execution_count": 44,
     "metadata": {},
     "output_type": "execute_result"
    }
   ],
   "source": [
    "data"
   ]
  },
  {
   "cell_type": "markdown",
   "id": "44b05437",
   "metadata": {},
   "source": [
    "### Splitting our data into train and test"
   ]
  },
  {
   "cell_type": "code",
   "execution_count": 45,
   "id": "0210cd46",
   "metadata": {},
   "outputs": [],
   "source": [
    "X = data.drop('salary', axis= 1)\n",
    "y= data['salary']"
   ]
  },
  {
   "cell_type": "code",
   "execution_count": 46,
   "id": "16ffc8f6",
   "metadata": {},
   "outputs": [],
   "source": [
    "# split data into test and train\n",
    "from sklearn.model_selection import train_test_split"
   ]
  },
  {
   "cell_type": "code",
   "execution_count": 47,
   "id": "ad79df19",
   "metadata": {},
   "outputs": [],
   "source": [
    "X_train, X_test, y_train, y_test = train_test_split(X,y, random_state=42, test_size=0.2)"
   ]
  },
  {
   "cell_type": "markdown",
   "id": "3de5a88d",
   "metadata": {},
   "source": [
    "### MODELS"
   ]
  },
  {
   "cell_type": "markdown",
   "id": "6ca17cd2",
   "metadata": {},
   "source": [
    "#### 1. LOGISTIC REGRESSION MODEL"
   ]
  },
  {
   "cell_type": "code",
   "execution_count": 48,
   "id": "29d5e1de",
   "metadata": {},
   "outputs": [],
   "source": [
    "from sklearn.linear_model import LogisticRegression"
   ]
  },
  {
   "cell_type": "code",
   "execution_count": 49,
   "id": "ca7e265f",
   "metadata": {},
   "outputs": [],
   "source": [
    "logit_model = LogisticRegression()\n",
    "logit_model = logit_model.fit(X_train, y_train)\n",
    "y_pred_logit= logit_model.predict(X_test)"
   ]
  },
  {
   "cell_type": "code",
   "execution_count": 50,
   "id": "2e3d9edb",
   "metadata": {},
   "outputs": [],
   "source": [
    "from sklearn.metrics import accuracy_score,classification_report"
   ]
  },
  {
   "cell_type": "code",
   "execution_count": 51,
   "id": "3b501b07",
   "metadata": {},
   "outputs": [],
   "source": [
    "ac_lr = accuracy_score( y_test,y_pred_logit)"
   ]
  },
  {
   "cell_type": "code",
   "execution_count": 52,
   "id": "8290b192",
   "metadata": {},
   "outputs": [
    {
     "name": "stdout",
     "output_type": "stream",
     "text": [
      "Accuracy: 76.66206049439582\n"
     ]
    }
   ],
   "source": [
    "print('Accuracy:',ac_lr*100)"
   ]
  },
  {
   "cell_type": "code",
   "execution_count": 53,
   "id": "fa8a54ac",
   "metadata": {},
   "outputs": [
    {
     "name": "stdout",
     "output_type": "stream",
     "text": [
      "              precision    recall  f1-score   support\n",
      "\n",
      "           0       0.79      0.94      0.86      4942\n",
      "           1       0.54      0.24      0.33      1571\n",
      "\n",
      "    accuracy                           0.77      6513\n",
      "   macro avg       0.67      0.59      0.59      6513\n",
      "weighted avg       0.73      0.77      0.73      6513\n",
      "\n"
     ]
    }
   ],
   "source": [
    "print(classification_report(y_test, y_pred_logit))"
   ]
  },
  {
   "cell_type": "markdown",
   "id": "db91b65e",
   "metadata": {},
   "source": [
    "### 2. kNN"
   ]
  },
  {
   "cell_type": "code",
   "execution_count": 54,
   "id": "3f3fba24",
   "metadata": {},
   "outputs": [],
   "source": [
    "from sklearn.neighbors import KNeighborsClassifier"
   ]
  },
  {
   "cell_type": "code",
   "execution_count": 55,
   "id": "068e19d7",
   "metadata": {},
   "outputs": [],
   "source": [
    "metric_k=[]\n",
    "neighbors= range(3,15)\n",
    "\n",
    "for k in neighbors:\n",
    "    classifier= KNeighborsClassifier(n_neighbors=k)\n",
    "    classifier= classifier.fit(X_train,y_train)\n",
    "    y_pred_kNN= classifier.predict(X_test)\n",
    "    acc=accuracy_score(y_test,y_pred_kNN)\n",
    "    metric_k.append(acc)"
   ]
  },
  {
   "cell_type": "code",
   "execution_count": 56,
   "id": "b3eafff3",
   "metadata": {},
   "outputs": [
    {
     "data": {
      "image/png": "[encoded data removed]",
      "text/plain": [
       "<Figure size 720x360 with 1 Axes>"
      ]
     },
     "metadata": {
      "needs_background": "light"
     },
     "output_type": "display_data"
    }
   ],
   "source": [
    "plt.plot(neighbors,metric_k,'o-')\n",
    "plt.xlabel('k values')\n",
    "plt.ylabel('Accuracies')\n",
    "plt.grid()"
   ]
  },
  {
   "cell_type": "code",
   "execution_count": 57,
   "id": "b71640e2",
   "metadata": {},
   "outputs": [],
   "source": [
    "classifier= KNeighborsClassifier(n_neighbors=5)\n",
    "classifier= classifier.fit(X_train,y_train)\n",
    "y_pred_kNN= classifier.predict(X_test)"
   ]
  },
  {
   "cell_type": "code",
   "execution_count": 58,
   "id": "ca60efbf",
   "metadata": {},
   "outputs": [],
   "source": [
    "ac_lr1 = accuracy_score(y_test,y_pred_kNN)"
   ]
  },
  {
   "cell_type": "code",
   "execution_count": 59,
   "id": "8dabf9a6",
   "metadata": {},
   "outputs": [
    {
     "name": "stdout",
     "output_type": "stream",
     "text": [
      "              precision    recall  f1-score   support\n",
      "\n",
      "           0       0.86      0.87      0.87      4942\n",
      "           1       0.58      0.55      0.57      1571\n",
      "\n",
      "    accuracy                           0.80      6513\n",
      "   macro avg       0.72      0.71      0.72      6513\n",
      "weighted avg       0.79      0.80      0.79      6513\n",
      "\n"
     ]
    }
   ],
   "source": [
    "print(classification_report(y_test, y_pred_kNN))"
   ]
  },
  {
   "cell_type": "code",
   "execution_count": 60,
   "id": "6514e120",
   "metadata": {},
   "outputs": [
    {
     "name": "stdout",
     "output_type": "stream",
     "text": [
      "Accuracy: 79.64071856287424\n"
     ]
    }
   ],
   "source": [
    "print('Accuracy:',ac_lr1*100)"
   ]
  },
  {
   "cell_type": "markdown",
   "id": "168c6365",
   "metadata": {},
   "source": [
    "### 3. SVM"
   ]
  },
  {
   "cell_type": "code",
   "execution_count": 61,
   "id": "4fefb2f7",
   "metadata": {},
   "outputs": [],
   "source": [
    "from sklearn.svm import SVC"
   ]
  },
  {
   "cell_type": "code",
   "execution_count": 62,
   "id": "e89416b0",
   "metadata": {},
   "outputs": [],
   "source": [
    "svm_clf2 = SVC(kernel = 'rbf')\n",
    "svm_clf2 = svm_clf2.fit(X_train, y_train)\n",
    "y_pred_svm2 = svm_clf2.predict(X_test)"
   ]
  },
  {
   "cell_type": "code",
   "execution_count": 63,
   "id": "51492a4d",
   "metadata": {},
   "outputs": [],
   "source": [
    "ac_lr2 = accuracy_score(y_test, y_pred_svm2)"
   ]
  },
  {
   "cell_type": "code",
   "execution_count": 64,
   "id": "38889d71",
   "metadata": {},
   "outputs": [
    {
     "name": "stdout",
     "output_type": "stream",
     "text": [
      "              precision    recall  f1-score   support\n",
      "\n",
      "           0       0.76      1.00      0.86      4942\n",
      "           1       0.00      0.00      0.00      1571\n",
      "\n",
      "    accuracy                           0.76      6513\n",
      "   macro avg       0.38      0.50      0.43      6513\n",
      "weighted avg       0.58      0.76      0.65      6513\n",
      "\n"
     ]
    }
   ],
   "source": [
    "print(classification_report(y_test, y_pred_svm2))"
   ]
  },
  {
   "cell_type": "code",
   "execution_count": 65,
   "id": "33f722b8",
   "metadata": {},
   "outputs": [
    {
     "name": "stdout",
     "output_type": "stream",
     "text": [
      "Accuracy: 75.87901120835252\n"
     ]
    }
   ],
   "source": [
    "print('Accuracy:',ac_lr2*100)"
   ]
  },
  {
   "cell_type": "markdown",
   "id": "da46d3de",
   "metadata": {},
   "source": [
    "### 4. DECISION TREE"
   ]
  },
  {
   "cell_type": "code",
   "execution_count": 66,
   "id": "6a93de1b",
   "metadata": {},
   "outputs": [],
   "source": [
    "from sklearn.tree import DecisionTreeClassifier"
   ]
  },
  {
   "cell_type": "code",
   "execution_count": 67,
   "id": "69c1d541",
   "metadata": {},
   "outputs": [],
   "source": [
    "dt = DecisionTreeClassifier(random_state=42,max_depth=8,min_samples_split=2)\n",
    "\n",
    "dt = dt.fit(X_train, y_train)\n",
    "y_pred_dt = dt.predict(X_test)"
   ]
  },
  {
   "cell_type": "code",
   "execution_count": 68,
   "id": "37f0967c",
   "metadata": {},
   "outputs": [],
   "source": [
    "ac_lr3 = accuracy_score (y_test, y_pred_dt)"
   ]
  },
  {
   "cell_type": "code",
   "execution_count": 69,
   "id": "535f1530",
   "metadata": {},
   "outputs": [
    {
     "name": "stdout",
     "output_type": "stream",
     "text": [
      "              precision    recall  f1-score   support\n",
      "\n",
      "           0       0.85      0.93      0.89      4942\n",
      "           1       0.70      0.49      0.57      1571\n",
      "\n",
      "    accuracy                           0.83      6513\n",
      "   macro avg       0.77      0.71      0.73      6513\n",
      "weighted avg       0.81      0.83      0.81      6513\n",
      "\n"
     ]
    }
   ],
   "source": [
    "print(classification_report(y_test, y_pred_dt))"
   ]
  },
  {
   "cell_type": "code",
   "execution_count": 70,
   "id": "c6e18499",
   "metadata": {},
   "outputs": [
    {
     "name": "stdout",
     "output_type": "stream",
     "text": [
      "Accuracy: 82.55796100107477\n"
     ]
    }
   ],
   "source": [
    "print('Accuracy:',ac_lr3*100)"
   ]
  },
  {
   "cell_type": "markdown",
   "id": "a80fc357",
   "metadata": {},
   "source": [
    "### 5. RANDOM FOREST "
   ]
  },
  {
   "cell_type": "code",
   "execution_count": 71,
   "id": "b085bacb",
   "metadata": {},
   "outputs": [],
   "source": [
    "from sklearn.ensemble import RandomForestClassifier as rfClassifier\n",
    "\n",
    "rf = rfClassifier(random_state=42,max_depth=15,min_samples_split=2)\n",
    "rf.fit(X_train , y_train)\n",
    "rf_pred = rf.predict(X_test)"
   ]
  },
  {
   "cell_type": "code",
   "execution_count": 72,
   "id": "05dc4287",
   "metadata": {},
   "outputs": [],
   "source": [
    "ac_lr4 = accuracy_score (y_test,rf_pred)"
   ]
  },
  {
   "cell_type": "code",
   "execution_count": 73,
   "id": "2793712b",
   "metadata": {},
   "outputs": [
    {
     "name": "stdout",
     "output_type": "stream",
     "text": [
      "              precision    recall  f1-score   support\n",
      "\n",
      "           0       0.88      0.92      0.90      4942\n",
      "           1       0.71      0.59      0.64      1571\n",
      "\n",
      "    accuracy                           0.84      6513\n",
      "   macro avg       0.79      0.76      0.77      6513\n",
      "weighted avg       0.84      0.84      0.84      6513\n",
      "\n"
     ]
    }
   ],
   "source": [
    "print(classification_report(y_test, rf_pred))"
   ]
  },
  {
   "cell_type": "code",
   "execution_count": 74,
   "id": "a3d0bc2e",
   "metadata": {},
   "outputs": [
    {
     "name": "stdout",
     "output_type": "stream",
     "text": [
      "Accuracy: 84.30830646399508\n"
     ]
    }
   ],
   "source": [
    "print('Accuracy:',ac_lr4*100)"
   ]
  },
  {
   "cell_type": "markdown",
   "id": "7206915e",
   "metadata": {},
   "source": [
    "### 6. Extreme Gradient Boosting (XGBoost)"
   ]
  },
  {
   "cell_type": "code",
   "execution_count": 75,
   "id": "75e7d35d",
   "metadata": {},
   "outputs": [],
   "source": [
    "import xgboost as xgb"
   ]
  },
  {
   "cell_type": "code",
   "execution_count": 76,
   "id": "39cd1b8c",
   "metadata": {},
   "outputs": [],
   "source": [
    "# modeling \n",
    "xgboost = xgb.XGBClassifier()\n",
    "xgboost= xgboost.fit(X_train, y_train)\n",
    "xgb_pred = xgboost.predict(X_test)"
   ]
  },
  {
   "cell_type": "code",
   "execution_count": 77,
   "id": "69d365f3",
   "metadata": {},
   "outputs": [],
   "source": [
    "ac_lr5 = accuracy_score (y_test,xgb_pred)"
   ]
  },
  {
   "cell_type": "code",
   "execution_count": 78,
   "id": "e253ba2c",
   "metadata": {},
   "outputs": [
    {
     "name": "stdout",
     "output_type": "stream",
     "text": [
      "              precision    recall  f1-score   support\n",
      "\n",
      "           0       0.88      0.92      0.90      4942\n",
      "           1       0.70      0.60      0.65      1571\n",
      "\n",
      "    accuracy                           0.84      6513\n",
      "   macro avg       0.79      0.76      0.77      6513\n",
      "weighted avg       0.84      0.84      0.84      6513\n",
      "\n"
     ]
    }
   ],
   "source": [
    "print(classification_report(y_test, xgb_pred))"
   ]
  },
  {
   "cell_type": "code",
   "execution_count": 79,
   "id": "52f73bf2",
   "metadata": {},
   "outputs": [
    {
     "name": "stdout",
     "output_type": "stream",
     "text": [
      "Accuracy: 84.29295255642562\n"
     ]
    }
   ],
   "source": [
    "print('Accuracy:',ac_lr5*100)"
   ]
  },
  {
   "cell_type": "markdown",
   "id": "3c7ff1fe",
   "metadata": {},
   "source": [
    "### 7. Light gbm"
   ]
  },
  {
   "cell_type": "code",
   "execution_count": 80,
   "id": "67c9f4e0",
   "metadata": {},
   "outputs": [],
   "source": [
    "import lightgbm as lgb\n",
    "from lightgbm import LGBMClassifier"
   ]
  },
  {
   "cell_type": "code",
   "execution_count": 81,
   "id": "92bbea92",
   "metadata": {},
   "outputs": [],
   "source": [
    "lgb_model = LGBMClassifier()\n",
    "lgb_model.fit(X_train, y_train)\n",
    " \n",
    "# Predicting the Target variable\n",
    "lgb_pred = lgb_model.predict(X_test)"
   ]
  },
  {
   "cell_type": "code",
   "execution_count": 82,
   "id": "2b1adc1e",
   "metadata": {},
   "outputs": [],
   "source": [
    "ac_lr6 = accuracy_score (y_test,lgb_pred)"
   ]
  },
  {
   "cell_type": "code",
   "execution_count": 83,
   "id": "a777f323",
   "metadata": {},
   "outputs": [
    {
     "name": "stdout",
     "output_type": "stream",
     "text": [
      "              precision    recall  f1-score   support\n",
      "\n",
      "           0       0.88      0.92      0.90      4942\n",
      "           1       0.72      0.61      0.66      1571\n",
      "\n",
      "    accuracy                           0.85      6513\n",
      "   macro avg       0.80      0.77      0.78      6513\n",
      "weighted avg       0.84      0.85      0.84      6513\n",
      "\n"
     ]
    }
   ],
   "source": [
    "print(classification_report(y_test, lgb_pred))"
   ]
  },
  {
   "cell_type": "code",
   "execution_count": 84,
   "id": "d0a033cd",
   "metadata": {},
   "outputs": [
    {
     "name": "stdout",
     "output_type": "stream",
     "text": [
      "Accuracy: 84.79963150621833\n"
     ]
    }
   ],
   "source": [
    "print('Accuracy:',ac_lr6*100)"
   ]
  },
  {
   "cell_type": "markdown",
   "id": "9b7a842b",
   "metadata": {},
   "source": [
    "### 8. CatBoost"
   ]
  },
  {
   "cell_type": "code",
   "execution_count": 85,
   "id": "fe449cd3",
   "metadata": {},
   "outputs": [],
   "source": [
    "from catboost import CatBoostClassifier"
   ]
  },
  {
   "cell_type": "code",
   "execution_count": 86,
   "id": "885c8d9b",
   "metadata": {},
   "outputs": [
    {
     "name": "stdout",
     "output_type": "stream",
     "text": [
      "Learning rate set to 0.041445\n",
      "0:\tlearn: 0.6568096\ttotal: 194ms\tremaining: 3m 13s\n",
      "1:\tlearn: 0.6260431\ttotal: 204ms\tremaining: 1m 41s\n",
      "2:\tlearn: 0.5975695\ttotal: 213ms\tremaining: 1m 10s\n",
      "3:\tlearn: 0.5729609\ttotal: 222ms\tremaining: 55.2s\n",
      "4:\tlearn: 0.5530432\ttotal: 230ms\tremaining: 45.7s\n",
      "5:\tlearn: 0.5343501\ttotal: 239ms\tremaining: 39.5s\n",
      "6:\tlearn: 0.5173630\ttotal: 247ms\tremaining: 35s\n",
      "7:\tlearn: 0.5033179\ttotal: 255ms\tremaining: 31.7s\n",
      "8:\tlearn: 0.4911169\ttotal: 264ms\tremaining: 29.1s\n",
      "9:\tlearn: 0.4798066\ttotal: 272ms\tremaining: 26.9s\n",
      "10:\tlearn: 0.4699339\ttotal: 280ms\tremaining: 25.2s\n",
      "11:\tlearn: 0.4601203\ttotal: 289ms\tremaining: 23.8s\n",
      "12:\tlearn: 0.4517731\ttotal: 298ms\tremaining: 22.6s\n",
      "13:\tlearn: 0.4447438\ttotal: 306ms\tremaining: 21.5s\n",
      "14:\tlearn: 0.4374878\ttotal: 314ms\tremaining: 20.6s\n",
      "15:\tlearn: 0.4311395\ttotal: 323ms\tremaining: 19.8s\n",
      "16:\tlearn: 0.4259420\ttotal: 331ms\tremaining: 19.2s\n",
      "17:\tlearn: 0.4206725\ttotal: 339ms\tremaining: 18.5s\n",
      "18:\tlearn: 0.4156084\ttotal: 347ms\tremaining: 17.9s\n",
      "19:\tlearn: 0.4112803\ttotal: 356ms\tremaining: 17.4s\n",
      "20:\tlearn: 0.4075458\ttotal: 364ms\tremaining: 17s\n",
      "21:\tlearn: 0.4037973\ttotal: 373ms\tremaining: 16.6s\n",
      "22:\tlearn: 0.4004495\ttotal: 382ms\tremaining: 16.2s\n",
      "23:\tlearn: 0.3975969\ttotal: 391ms\tremaining: 15.9s\n",
      "24:\tlearn: 0.3949793\ttotal: 401ms\tremaining: 15.6s\n",
      "25:\tlearn: 0.3930645\ttotal: 410ms\tremaining: 15.3s\n",
      "26:\tlearn: 0.3904610\ttotal: 418ms\tremaining: 15.1s\n",
      "27:\tlearn: 0.3878879\ttotal: 426ms\tremaining: 14.8s\n",
      "28:\tlearn: 0.3855304\ttotal: 434ms\tremaining: 14.5s\n",
      "29:\tlearn: 0.3838294\ttotal: 442ms\tremaining: 14.3s\n",
      "30:\tlearn: 0.3823124\ttotal: 450ms\tremaining: 14.1s\n",
      "31:\tlearn: 0.3803074\ttotal: 457ms\tremaining: 13.8s\n",
      "32:\tlearn: 0.3790113\ttotal: 465ms\tremaining: 13.6s\n",
      "33:\tlearn: 0.3776340\ttotal: 472ms\tremaining: 13.4s\n",
      "34:\tlearn: 0.3765311\ttotal: 479ms\tremaining: 13.2s\n",
      "35:\tlearn: 0.3754552\ttotal: 485ms\tremaining: 13s\n",
      "36:\tlearn: 0.3743769\ttotal: 492ms\tremaining: 12.8s\n",
      "37:\tlearn: 0.3734082\ttotal: 499ms\tremaining: 12.6s\n",
      "38:\tlearn: 0.3721961\ttotal: 506ms\tremaining: 12.5s\n",
      "39:\tlearn: 0.3710492\ttotal: 513ms\tremaining: 12.3s\n",
      "40:\tlearn: 0.3698221\ttotal: 520ms\tremaining: 12.2s\n",
      "41:\tlearn: 0.3688612\ttotal: 527ms\tremaining: 12s\n",
      "42:\tlearn: 0.3679728\ttotal: 534ms\tremaining: 11.9s\n",
      "43:\tlearn: 0.3669775\ttotal: 542ms\tremaining: 11.8s\n",
      "44:\tlearn: 0.3660035\ttotal: 549ms\tremaining: 11.7s\n",
      "45:\tlearn: 0.3649654\ttotal: 557ms\tremaining: 11.5s\n",
      "46:\tlearn: 0.3642221\ttotal: 565ms\tremaining: 11.5s\n",
      "47:\tlearn: 0.3635451\ttotal: 574ms\tremaining: 11.4s\n",
      "48:\tlearn: 0.3628483\ttotal: 582ms\tremaining: 11.3s\n",
      "49:\tlearn: 0.3621223\ttotal: 590ms\tremaining: 11.2s\n",
      "50:\tlearn: 0.3613942\ttotal: 597ms\tremaining: 11.1s\n",
      "51:\tlearn: 0.3608581\ttotal: 604ms\tremaining: 11s\n",
      "52:\tlearn: 0.3601256\ttotal: 612ms\tremaining: 10.9s\n",
      "53:\tlearn: 0.3595225\ttotal: 619ms\tremaining: 10.8s\n",
      "54:\tlearn: 0.3591059\ttotal: 626ms\tremaining: 10.8s\n",
      "55:\tlearn: 0.3584470\ttotal: 633ms\tremaining: 10.7s\n",
      "56:\tlearn: 0.3581554\ttotal: 640ms\tremaining: 10.6s\n",
      "57:\tlearn: 0.3574547\ttotal: 647ms\tremaining: 10.5s\n",
      "58:\tlearn: 0.3569498\ttotal: 653ms\tremaining: 10.4s\n",
      "59:\tlearn: 0.3564934\ttotal: 660ms\tremaining: 10.3s\n",
      "60:\tlearn: 0.3560739\ttotal: 667ms\tremaining: 10.3s\n",
      "61:\tlearn: 0.3556516\ttotal: 674ms\tremaining: 10.2s\n",
      "62:\tlearn: 0.3553777\ttotal: 681ms\tremaining: 10.1s\n",
      "63:\tlearn: 0.3547092\ttotal: 688ms\tremaining: 10.1s\n",
      "64:\tlearn: 0.3540683\ttotal: 694ms\tremaining: 9.98s\n",
      "65:\tlearn: 0.3537781\ttotal: 701ms\tremaining: 9.92s\n",
      "66:\tlearn: 0.3536047\ttotal: 708ms\tremaining: 9.85s\n",
      "67:\tlearn: 0.3533180\ttotal: 714ms\tremaining: 9.79s\n",
      "68:\tlearn: 0.3530090\ttotal: 722ms\tremaining: 9.73s\n",
      "69:\tlearn: 0.3527858\ttotal: 728ms\tremaining: 9.67s\n",
      "70:\tlearn: 0.3523516\ttotal: 735ms\tremaining: 9.61s\n",
      "71:\tlearn: 0.3520894\ttotal: 743ms\tremaining: 9.58s\n",
      "72:\tlearn: 0.3516600\ttotal: 751ms\tremaining: 9.54s\n",
      "73:\tlearn: 0.3513720\ttotal: 760ms\tremaining: 9.51s\n",
      "74:\tlearn: 0.3511335\ttotal: 768ms\tremaining: 9.47s\n",
      "75:\tlearn: 0.3507077\ttotal: 775ms\tremaining: 9.43s\n",
      "76:\tlearn: 0.3503637\ttotal: 783ms\tremaining: 9.38s\n",
      "77:\tlearn: 0.3500993\ttotal: 790ms\tremaining: 9.34s\n",
      "78:\tlearn: 0.3497181\ttotal: 798ms\tremaining: 9.31s\n",
      "79:\tlearn: 0.3494113\ttotal: 806ms\tremaining: 9.27s\n",
      "80:\tlearn: 0.3492200\ttotal: 814ms\tremaining: 9.23s\n",
      "81:\tlearn: 0.3489356\ttotal: 822ms\tremaining: 9.2s\n",
      "82:\tlearn: 0.3486657\ttotal: 829ms\tremaining: 9.16s\n",
      "83:\tlearn: 0.3484520\ttotal: 837ms\tremaining: 9.13s\n",
      "84:\tlearn: 0.3482273\ttotal: 845ms\tremaining: 9.1s\n",
      "85:\tlearn: 0.3480136\ttotal: 853ms\tremaining: 9.07s\n",
      "86:\tlearn: 0.3477228\ttotal: 861ms\tremaining: 9.04s\n",
      "87:\tlearn: 0.3475024\ttotal: 868ms\tremaining: 9s\n",
      "88:\tlearn: 0.3472291\ttotal: 877ms\tremaining: 8.97s\n",
      "89:\tlearn: 0.3469384\ttotal: 884ms\tremaining: 8.94s\n",
      "90:\tlearn: 0.3467616\ttotal: 892ms\tremaining: 8.91s\n",
      "91:\tlearn: 0.3464292\ttotal: 898ms\tremaining: 8.87s\n",
      "92:\tlearn: 0.3462197\ttotal: 905ms\tremaining: 8.83s\n",
      "93:\tlearn: 0.3460339\ttotal: 913ms\tremaining: 8.8s\n",
      "94:\tlearn: 0.3458061\ttotal: 921ms\tremaining: 8.77s\n",
      "95:\tlearn: 0.3456285\ttotal: 931ms\tremaining: 8.77s\n",
      "96:\tlearn: 0.3454812\ttotal: 940ms\tremaining: 8.75s\n",
      "97:\tlearn: 0.3453530\ttotal: 949ms\tremaining: 8.74s\n",
      "98:\tlearn: 0.3451852\ttotal: 958ms\tremaining: 8.71s\n",
      "99:\tlearn: 0.3450222\ttotal: 965ms\tremaining: 8.68s\n",
      "100:\tlearn: 0.3448119\ttotal: 972ms\tremaining: 8.65s\n",
      "101:\tlearn: 0.3446364\ttotal: 979ms\tremaining: 8.62s\n",
      "102:\tlearn: 0.3443975\ttotal: 987ms\tremaining: 8.6s\n",
      "103:\tlearn: 0.3442511\ttotal: 995ms\tremaining: 8.57s\n",
      "104:\tlearn: 0.3441246\ttotal: 1s\tremaining: 8.55s\n",
      "105:\tlearn: 0.3439351\ttotal: 1.01s\tremaining: 8.53s\n",
      "106:\tlearn: 0.3437942\ttotal: 1.02s\tremaining: 8.5s\n",
      "107:\tlearn: 0.3437133\ttotal: 1.03s\tremaining: 8.48s\n",
      "108:\tlearn: 0.3435188\ttotal: 1.03s\tremaining: 8.45s\n",
      "109:\tlearn: 0.3433833\ttotal: 1.04s\tremaining: 8.43s\n",
      "110:\tlearn: 0.3432111\ttotal: 1.05s\tremaining: 8.4s\n",
      "111:\tlearn: 0.3430674\ttotal: 1.06s\tremaining: 8.38s\n",
      "112:\tlearn: 0.3429314\ttotal: 1.06s\tremaining: 8.36s\n",
      "113:\tlearn: 0.3427274\ttotal: 1.07s\tremaining: 8.34s\n",
      "114:\tlearn: 0.3425079\ttotal: 1.08s\tremaining: 8.31s\n",
      "115:\tlearn: 0.3423832\ttotal: 1.09s\tremaining: 8.29s\n",
      "116:\tlearn: 0.3422585\ttotal: 1.09s\tremaining: 8.27s\n",
      "117:\tlearn: 0.3421313\ttotal: 1.1s\tremaining: 8.24s\n",
      "118:\tlearn: 0.3419650\ttotal: 1.11s\tremaining: 8.21s\n",
      "119:\tlearn: 0.3418281\ttotal: 1.12s\tremaining: 8.19s\n",
      "120:\tlearn: 0.3417010\ttotal: 1.12s\tremaining: 8.17s\n",
      "121:\tlearn: 0.3415988\ttotal: 1.13s\tremaining: 8.15s\n",
      "122:\tlearn: 0.3414073\ttotal: 1.14s\tremaining: 8.14s\n",
      "123:\tlearn: 0.3412809\ttotal: 1.15s\tremaining: 8.13s\n",
      "124:\tlearn: 0.3411927\ttotal: 1.16s\tremaining: 8.11s\n",
      "125:\tlearn: 0.3410810\ttotal: 1.17s\tremaining: 8.1s\n",
      "126:\tlearn: 0.3409817\ttotal: 1.17s\tremaining: 8.07s\n",
      "127:\tlearn: 0.3407791\ttotal: 1.18s\tremaining: 8.05s\n",
      "128:\tlearn: 0.3406704\ttotal: 1.19s\tremaining: 8.03s\n",
      "129:\tlearn: 0.3405052\ttotal: 1.2s\tremaining: 8s\n",
      "130:\tlearn: 0.3403437\ttotal: 1.2s\tremaining: 7.97s\n",
      "131:\tlearn: 0.3402063\ttotal: 1.21s\tremaining: 7.95s\n",
      "132:\tlearn: 0.3400627\ttotal: 1.22s\tremaining: 7.92s\n",
      "133:\tlearn: 0.3399123\ttotal: 1.22s\tremaining: 7.9s\n",
      "134:\tlearn: 0.3397842\ttotal: 1.23s\tremaining: 7.88s\n",
      "135:\tlearn: 0.3395981\ttotal: 1.24s\tremaining: 7.85s\n",
      "136:\tlearn: 0.3395202\ttotal: 1.24s\tremaining: 7.83s\n",
      "137:\tlearn: 0.3394588\ttotal: 1.25s\tremaining: 7.81s\n",
      "138:\tlearn: 0.3393418\ttotal: 1.26s\tremaining: 7.79s\n",
      "139:\tlearn: 0.3392258\ttotal: 1.26s\tremaining: 7.76s\n",
      "140:\tlearn: 0.3390786\ttotal: 1.27s\tremaining: 7.74s\n",
      "141:\tlearn: 0.3389707\ttotal: 1.28s\tremaining: 7.72s\n",
      "142:\tlearn: 0.3388919\ttotal: 1.28s\tremaining: 7.7s\n",
      "143:\tlearn: 0.3387958\ttotal: 1.29s\tremaining: 7.68s\n",
      "144:\tlearn: 0.3387056\ttotal: 1.3s\tremaining: 7.66s\n",
      "145:\tlearn: 0.3385864\ttotal: 1.31s\tremaining: 7.65s\n",
      "146:\tlearn: 0.3384808\ttotal: 1.32s\tremaining: 7.64s\n",
      "147:\tlearn: 0.3383870\ttotal: 1.32s\tremaining: 7.62s\n",
      "148:\tlearn: 0.3382789\ttotal: 1.33s\tremaining: 7.61s\n",
      "149:\tlearn: 0.3381814\ttotal: 1.34s\tremaining: 7.6s\n",
      "150:\tlearn: 0.3380857\ttotal: 1.35s\tremaining: 7.58s\n",
      "151:\tlearn: 0.3379095\ttotal: 1.36s\tremaining: 7.57s\n",
      "152:\tlearn: 0.3377918\ttotal: 1.36s\tremaining: 7.55s\n",
      "153:\tlearn: 0.3377081\ttotal: 1.37s\tremaining: 7.53s\n",
      "154:\tlearn: 0.3375823\ttotal: 1.38s\tremaining: 7.52s\n",
      "155:\tlearn: 0.3374737\ttotal: 1.39s\tremaining: 7.5s\n",
      "156:\tlearn: 0.3373693\ttotal: 1.39s\tremaining: 7.49s\n",
      "157:\tlearn: 0.3372166\ttotal: 1.4s\tremaining: 7.47s\n",
      "158:\tlearn: 0.3371243\ttotal: 1.41s\tremaining: 7.46s\n",
      "159:\tlearn: 0.3369920\ttotal: 1.42s\tremaining: 7.44s\n",
      "160:\tlearn: 0.3369380\ttotal: 1.42s\tremaining: 7.42s\n",
      "161:\tlearn: 0.3368248\ttotal: 1.43s\tremaining: 7.4s\n",
      "162:\tlearn: 0.3367625\ttotal: 1.44s\tremaining: 7.39s\n",
      "163:\tlearn: 0.3366577\ttotal: 1.45s\tremaining: 7.37s\n",
      "164:\tlearn: 0.3365507\ttotal: 1.45s\tremaining: 7.36s\n",
      "165:\tlearn: 0.3364651\ttotal: 1.46s\tremaining: 7.34s\n",
      "166:\tlearn: 0.3363918\ttotal: 1.47s\tremaining: 7.32s\n",
      "167:\tlearn: 0.3362828\ttotal: 1.48s\tremaining: 7.31s\n",
      "168:\tlearn: 0.3362163\ttotal: 1.49s\tremaining: 7.3s\n",
      "169:\tlearn: 0.3361389\ttotal: 1.49s\tremaining: 7.29s\n",
      "170:\tlearn: 0.3360446\ttotal: 1.5s\tremaining: 7.28s\n",
      "171:\tlearn: 0.3359456\ttotal: 1.51s\tremaining: 7.26s\n",
      "172:\tlearn: 0.3358965\ttotal: 1.52s\tremaining: 7.25s\n",
      "173:\tlearn: 0.3358407\ttotal: 1.52s\tremaining: 7.24s\n",
      "174:\tlearn: 0.3357429\ttotal: 1.53s\tremaining: 7.22s\n",
      "175:\tlearn: 0.3356242\ttotal: 1.54s\tremaining: 7.21s\n",
      "176:\tlearn: 0.3355234\ttotal: 1.55s\tremaining: 7.19s\n",
      "177:\tlearn: 0.3354320\ttotal: 1.55s\tremaining: 7.17s\n",
      "178:\tlearn: 0.3353545\ttotal: 1.56s\tremaining: 7.16s\n",
      "179:\tlearn: 0.3352439\ttotal: 1.57s\tremaining: 7.14s\n",
      "180:\tlearn: 0.3351985\ttotal: 1.57s\tremaining: 7.12s\n",
      "181:\tlearn: 0.3351074\ttotal: 1.58s\tremaining: 7.11s\n",
      "182:\tlearn: 0.3350047\ttotal: 1.59s\tremaining: 7.09s\n",
      "183:\tlearn: 0.3349574\ttotal: 1.59s\tremaining: 7.08s\n",
      "184:\tlearn: 0.3349039\ttotal: 1.6s\tremaining: 7.06s\n",
      "185:\tlearn: 0.3348345\ttotal: 1.61s\tremaining: 7.04s\n",
      "186:\tlearn: 0.3347443\ttotal: 1.62s\tremaining: 7.03s\n",
      "187:\tlearn: 0.3346427\ttotal: 1.62s\tremaining: 7.01s\n",
      "188:\tlearn: 0.3345844\ttotal: 1.63s\tremaining: 6.99s\n",
      "189:\tlearn: 0.3344641\ttotal: 1.64s\tremaining: 6.97s\n",
      "190:\tlearn: 0.3343733\ttotal: 1.64s\tremaining: 6.96s\n",
      "191:\tlearn: 0.3342908\ttotal: 1.65s\tremaining: 6.94s\n",
      "192:\tlearn: 0.3341833\ttotal: 1.66s\tremaining: 6.92s\n",
      "193:\tlearn: 0.3341049\ttotal: 1.66s\tremaining: 6.91s\n",
      "194:\tlearn: 0.3340312\ttotal: 1.67s\tremaining: 6.9s\n",
      "195:\tlearn: 0.3339054\ttotal: 1.68s\tremaining: 6.88s\n",
      "196:\tlearn: 0.3338125\ttotal: 1.69s\tremaining: 6.87s\n",
      "197:\tlearn: 0.3337592\ttotal: 1.69s\tremaining: 6.86s\n",
      "198:\tlearn: 0.3336613\ttotal: 1.7s\tremaining: 6.84s\n",
      "199:\tlearn: 0.3335779\ttotal: 1.71s\tremaining: 6.83s\n",
      "200:\tlearn: 0.3335207\ttotal: 1.72s\tremaining: 6.82s\n",
      "201:\tlearn: 0.3334276\ttotal: 1.72s\tremaining: 6.81s\n",
      "202:\tlearn: 0.3333513\ttotal: 1.73s\tremaining: 6.8s\n",
      "203:\tlearn: 0.3332894\ttotal: 1.74s\tremaining: 6.79s\n",
      "204:\tlearn: 0.3331761\ttotal: 1.75s\tremaining: 6.78s\n",
      "205:\tlearn: 0.3330858\ttotal: 1.76s\tremaining: 6.78s\n",
      "206:\tlearn: 0.3330062\ttotal: 1.77s\tremaining: 6.77s\n",
      "207:\tlearn: 0.3329157\ttotal: 1.78s\tremaining: 6.76s\n",
      "208:\tlearn: 0.3328518\ttotal: 1.78s\tremaining: 6.76s\n",
      "209:\tlearn: 0.3327548\ttotal: 1.79s\tremaining: 6.75s\n",
      "210:\tlearn: 0.3326840\ttotal: 1.8s\tremaining: 6.74s\n",
      "211:\tlearn: 0.3326277\ttotal: 1.81s\tremaining: 6.73s\n",
      "212:\tlearn: 0.3326017\ttotal: 1.82s\tremaining: 6.72s\n",
      "213:\tlearn: 0.3325354\ttotal: 1.83s\tremaining: 6.71s\n",
      "214:\tlearn: 0.3324558\ttotal: 1.84s\tremaining: 6.71s\n",
      "215:\tlearn: 0.3323579\ttotal: 1.85s\tremaining: 6.7s\n",
      "216:\tlearn: 0.3322839\ttotal: 1.85s\tremaining: 6.7s\n",
      "217:\tlearn: 0.3321943\ttotal: 1.86s\tremaining: 6.69s\n",
      "218:\tlearn: 0.3321266\ttotal: 1.88s\tremaining: 6.69s\n",
      "219:\tlearn: 0.3320330\ttotal: 1.88s\tremaining: 6.68s\n",
      "220:\tlearn: 0.3319242\ttotal: 1.89s\tremaining: 6.67s\n",
      "221:\tlearn: 0.3318440\ttotal: 1.9s\tremaining: 6.67s\n",
      "222:\tlearn: 0.3317475\ttotal: 1.91s\tremaining: 6.66s\n",
      "223:\tlearn: 0.3316750\ttotal: 1.92s\tremaining: 6.65s\n",
      "224:\tlearn: 0.3315901\ttotal: 1.93s\tremaining: 6.65s\n",
      "225:\tlearn: 0.3315575\ttotal: 1.94s\tremaining: 6.64s\n",
      "226:\tlearn: 0.3314457\ttotal: 1.95s\tremaining: 6.63s\n",
      "227:\tlearn: 0.3313714\ttotal: 1.96s\tremaining: 6.62s\n",
      "228:\tlearn: 0.3313036\ttotal: 1.97s\tremaining: 6.62s\n",
      "229:\tlearn: 0.3312411\ttotal: 1.97s\tremaining: 6.61s\n",
      "230:\tlearn: 0.3311648\ttotal: 1.98s\tremaining: 6.6s\n",
      "231:\tlearn: 0.3310817\ttotal: 1.99s\tremaining: 6.6s\n",
      "232:\tlearn: 0.3310127\ttotal: 2s\tremaining: 6.59s\n",
      "233:\tlearn: 0.3309401\ttotal: 2.01s\tremaining: 6.58s\n",
      "234:\tlearn: 0.3308873\ttotal: 2.02s\tremaining: 6.58s\n",
      "235:\tlearn: 0.3307821\ttotal: 2.03s\tremaining: 6.57s\n",
      "236:\tlearn: 0.3306757\ttotal: 2.04s\tremaining: 6.57s\n",
      "237:\tlearn: 0.3306281\ttotal: 2.05s\tremaining: 6.56s\n",
      "238:\tlearn: 0.3305355\ttotal: 2.06s\tremaining: 6.56s\n",
      "239:\tlearn: 0.3304557\ttotal: 2.07s\tremaining: 6.55s\n",
      "240:\tlearn: 0.3303966\ttotal: 2.08s\tremaining: 6.54s\n",
      "241:\tlearn: 0.3303323\ttotal: 2.08s\tremaining: 6.52s\n",
      "242:\tlearn: 0.3302578\ttotal: 2.09s\tremaining: 6.51s\n",
      "243:\tlearn: 0.3301787\ttotal: 2.1s\tremaining: 6.49s\n",
      "244:\tlearn: 0.3301013\ttotal: 2.1s\tremaining: 6.48s\n",
      "245:\tlearn: 0.3300215\ttotal: 2.11s\tremaining: 6.47s\n",
      "246:\tlearn: 0.3299482\ttotal: 2.12s\tremaining: 6.45s\n",
      "247:\tlearn: 0.3298662\ttotal: 2.12s\tremaining: 6.44s\n",
      "248:\tlearn: 0.3297720\ttotal: 2.13s\tremaining: 6.42s\n",
      "249:\tlearn: 0.3296376\ttotal: 2.14s\tremaining: 6.41s\n",
      "250:\tlearn: 0.3295992\ttotal: 2.14s\tremaining: 6.4s\n",
      "251:\tlearn: 0.3295116\ttotal: 2.15s\tremaining: 6.38s\n",
      "252:\tlearn: 0.3294285\ttotal: 2.16s\tremaining: 6.37s\n",
      "253:\tlearn: 0.3293687\ttotal: 2.17s\tremaining: 6.36s\n",
      "254:\tlearn: 0.3292667\ttotal: 2.17s\tremaining: 6.35s\n",
      "255:\tlearn: 0.3291898\ttotal: 2.18s\tremaining: 6.33s\n",
      "256:\tlearn: 0.3291218\ttotal: 2.19s\tremaining: 6.32s\n",
      "257:\tlearn: 0.3290227\ttotal: 2.19s\tremaining: 6.31s\n",
      "258:\tlearn: 0.3289531\ttotal: 2.2s\tremaining: 6.29s\n",
      "259:\tlearn: 0.3288750\ttotal: 2.21s\tremaining: 6.28s\n",
      "260:\tlearn: 0.3287679\ttotal: 2.21s\tremaining: 6.27s\n",
      "261:\tlearn: 0.3287144\ttotal: 2.22s\tremaining: 6.25s\n",
      "262:\tlearn: 0.3286781\ttotal: 2.23s\tremaining: 6.25s\n",
      "263:\tlearn: 0.3286366\ttotal: 2.24s\tremaining: 6.24s\n",
      "264:\tlearn: 0.3285811\ttotal: 2.25s\tremaining: 6.23s\n",
      "265:\tlearn: 0.3284789\ttotal: 2.25s\tremaining: 6.22s\n",
      "266:\tlearn: 0.3283738\ttotal: 2.26s\tremaining: 6.2s\n",
      "267:\tlearn: 0.3282984\ttotal: 2.27s\tremaining: 6.19s\n",
      "268:\tlearn: 0.3282436\ttotal: 2.27s\tremaining: 6.18s\n",
      "269:\tlearn: 0.3281517\ttotal: 2.28s\tremaining: 6.17s\n",
      "270:\tlearn: 0.3280888\ttotal: 2.29s\tremaining: 6.16s\n",
      "271:\tlearn: 0.3280043\ttotal: 2.3s\tremaining: 6.15s\n",
      "272:\tlearn: 0.3279538\ttotal: 2.31s\tremaining: 6.15s\n",
      "273:\tlearn: 0.3278804\ttotal: 2.32s\tremaining: 6.14s\n",
      "274:\tlearn: 0.3278403\ttotal: 2.33s\tremaining: 6.13s\n",
      "275:\tlearn: 0.3277511\ttotal: 2.34s\tremaining: 6.13s\n",
      "276:\tlearn: 0.3276996\ttotal: 2.35s\tremaining: 6.12s\n",
      "277:\tlearn: 0.3276310\ttotal: 2.35s\tremaining: 6.12s\n",
      "278:\tlearn: 0.3275578\ttotal: 2.37s\tremaining: 6.12s\n",
      "279:\tlearn: 0.3274662\ttotal: 2.38s\tremaining: 6.11s\n",
      "280:\tlearn: 0.3274090\ttotal: 2.38s\tremaining: 6.1s\n",
      "281:\tlearn: 0.3273625\ttotal: 2.39s\tremaining: 6.09s\n",
      "282:\tlearn: 0.3273003\ttotal: 2.4s\tremaining: 6.09s\n",
      "283:\tlearn: 0.3272403\ttotal: 2.41s\tremaining: 6.08s\n",
      "284:\tlearn: 0.3271663\ttotal: 2.42s\tremaining: 6.08s\n",
      "285:\tlearn: 0.3271158\ttotal: 2.43s\tremaining: 6.07s\n",
      "286:\tlearn: 0.3270447\ttotal: 2.44s\tremaining: 6.06s\n",
      "287:\tlearn: 0.3269753\ttotal: 2.45s\tremaining: 6.06s\n",
      "288:\tlearn: 0.3269177\ttotal: 2.46s\tremaining: 6.05s\n",
      "289:\tlearn: 0.3268691\ttotal: 2.47s\tremaining: 6.04s\n",
      "290:\tlearn: 0.3268258\ttotal: 2.48s\tremaining: 6.03s\n",
      "291:\tlearn: 0.3267589\ttotal: 2.49s\tremaining: 6.03s\n",
      "292:\tlearn: 0.3267174\ttotal: 2.49s\tremaining: 6.02s\n",
      "293:\tlearn: 0.3266621\ttotal: 2.5s\tremaining: 6.01s\n",
      "294:\tlearn: 0.3265729\ttotal: 2.51s\tremaining: 6s\n",
      "295:\tlearn: 0.3264620\ttotal: 2.52s\tremaining: 5.99s\n",
      "296:\tlearn: 0.3264140\ttotal: 2.52s\tremaining: 5.97s\n",
      "297:\tlearn: 0.3263353\ttotal: 2.53s\tremaining: 5.96s\n",
      "298:\tlearn: 0.3262665\ttotal: 2.54s\tremaining: 5.95s\n",
      "299:\tlearn: 0.3261918\ttotal: 2.54s\tremaining: 5.94s\n",
      "300:\tlearn: 0.3261516\ttotal: 2.55s\tremaining: 5.93s\n",
      "301:\tlearn: 0.3260926\ttotal: 2.56s\tremaining: 5.92s\n",
      "302:\tlearn: 0.3260195\ttotal: 2.57s\tremaining: 5.9s\n",
      "303:\tlearn: 0.3259294\ttotal: 2.57s\tremaining: 5.89s\n",
      "304:\tlearn: 0.3258648\ttotal: 2.58s\tremaining: 5.88s\n",
      "305:\tlearn: 0.3257905\ttotal: 2.59s\tremaining: 5.87s\n",
      "306:\tlearn: 0.3257258\ttotal: 2.6s\tremaining: 5.86s\n",
      "307:\tlearn: 0.3256605\ttotal: 2.6s\tremaining: 5.85s\n",
      "308:\tlearn: 0.3256071\ttotal: 2.61s\tremaining: 5.84s\n",
      "309:\tlearn: 0.3255638\ttotal: 2.62s\tremaining: 5.83s\n",
      "310:\tlearn: 0.3255264\ttotal: 2.63s\tremaining: 5.82s\n",
      "311:\tlearn: 0.3254575\ttotal: 2.63s\tremaining: 5.8s\n",
      "312:\tlearn: 0.3254060\ttotal: 2.64s\tremaining: 5.79s\n",
      "313:\tlearn: 0.3253170\ttotal: 2.65s\tremaining: 5.78s\n",
      "314:\tlearn: 0.3252546\ttotal: 2.65s\tremaining: 5.77s\n",
      "315:\tlearn: 0.3251665\ttotal: 2.66s\tremaining: 5.76s\n",
      "316:\tlearn: 0.3251310\ttotal: 2.67s\tremaining: 5.75s\n",
      "317:\tlearn: 0.3250704\ttotal: 2.67s\tremaining: 5.74s\n",
      "318:\tlearn: 0.3250271\ttotal: 2.68s\tremaining: 5.72s\n",
      "319:\tlearn: 0.3249711\ttotal: 2.69s\tremaining: 5.71s\n",
      "320:\tlearn: 0.3249231\ttotal: 2.69s\tremaining: 5.7s\n",
      "321:\tlearn: 0.3248672\ttotal: 2.7s\tremaining: 5.69s\n",
      "322:\tlearn: 0.3247814\ttotal: 2.71s\tremaining: 5.67s\n",
      "323:\tlearn: 0.3247438\ttotal: 2.71s\tremaining: 5.66s\n",
      "324:\tlearn: 0.3246606\ttotal: 2.72s\tremaining: 5.65s\n",
      "325:\tlearn: 0.3245707\ttotal: 2.73s\tremaining: 5.64s\n",
      "326:\tlearn: 0.3245082\ttotal: 2.74s\tremaining: 5.63s\n",
      "327:\tlearn: 0.3244314\ttotal: 2.74s\tremaining: 5.62s\n",
      "328:\tlearn: 0.3243356\ttotal: 2.75s\tremaining: 5.61s\n",
      "329:\tlearn: 0.3242634\ttotal: 2.76s\tremaining: 5.6s\n",
      "330:\tlearn: 0.3242257\ttotal: 2.76s\tremaining: 5.58s\n",
      "331:\tlearn: 0.3241382\ttotal: 2.77s\tremaining: 5.57s\n",
      "332:\tlearn: 0.3240804\ttotal: 2.78s\tremaining: 5.57s\n",
      "333:\tlearn: 0.3240427\ttotal: 2.79s\tremaining: 5.56s\n",
      "334:\tlearn: 0.3239812\ttotal: 2.79s\tremaining: 5.55s\n",
      "335:\tlearn: 0.3239444\ttotal: 2.8s\tremaining: 5.54s\n",
      "336:\tlearn: 0.3238678\ttotal: 2.81s\tremaining: 5.53s\n",
      "337:\tlearn: 0.3238133\ttotal: 2.82s\tremaining: 5.52s\n",
      "338:\tlearn: 0.3237233\ttotal: 2.82s\tremaining: 5.5s\n",
      "339:\tlearn: 0.3236579\ttotal: 2.83s\tremaining: 5.49s\n",
      "340:\tlearn: 0.3236047\ttotal: 2.84s\tremaining: 5.48s\n",
      "341:\tlearn: 0.3235549\ttotal: 2.84s\tremaining: 5.47s\n",
      "342:\tlearn: 0.3234781\ttotal: 2.85s\tremaining: 5.46s\n",
      "343:\tlearn: 0.3233715\ttotal: 2.86s\tremaining: 5.45s\n",
      "344:\tlearn: 0.3232832\ttotal: 2.86s\tremaining: 5.44s\n",
      "345:\tlearn: 0.3232209\ttotal: 2.87s\tremaining: 5.43s\n",
      "346:\tlearn: 0.3231388\ttotal: 2.88s\tremaining: 5.42s\n",
      "347:\tlearn: 0.3231049\ttotal: 2.88s\tremaining: 5.41s\n",
      "348:\tlearn: 0.3230641\ttotal: 2.89s\tremaining: 5.39s\n",
      "349:\tlearn: 0.3230037\ttotal: 2.9s\tremaining: 5.38s\n",
      "350:\tlearn: 0.3229654\ttotal: 2.9s\tremaining: 5.37s\n",
      "351:\tlearn: 0.3228727\ttotal: 2.91s\tremaining: 5.36s\n",
      "352:\tlearn: 0.3228465\ttotal: 2.92s\tremaining: 5.35s\n",
      "353:\tlearn: 0.3227896\ttotal: 2.93s\tremaining: 5.34s\n",
      "354:\tlearn: 0.3227610\ttotal: 2.93s\tremaining: 5.33s\n",
      "355:\tlearn: 0.3226861\ttotal: 2.94s\tremaining: 5.32s\n",
      "356:\tlearn: 0.3226129\ttotal: 2.95s\tremaining: 5.31s\n",
      "357:\tlearn: 0.3225383\ttotal: 2.96s\tremaining: 5.31s\n",
      "358:\tlearn: 0.3224931\ttotal: 2.97s\tremaining: 5.3s\n",
      "359:\tlearn: 0.3224464\ttotal: 2.98s\tremaining: 5.29s\n",
      "360:\tlearn: 0.3223793\ttotal: 2.99s\tremaining: 5.29s\n",
      "361:\tlearn: 0.3222828\ttotal: 3s\tremaining: 5.28s\n",
      "362:\tlearn: 0.3222349\ttotal: 3.01s\tremaining: 5.28s\n",
      "363:\tlearn: 0.3221832\ttotal: 3.02s\tremaining: 5.27s\n",
      "364:\tlearn: 0.3221014\ttotal: 3.02s\tremaining: 5.26s\n",
      "365:\tlearn: 0.3220468\ttotal: 3.03s\tremaining: 5.25s\n",
      "366:\tlearn: 0.3219928\ttotal: 3.04s\tremaining: 5.25s\n",
      "367:\tlearn: 0.3219245\ttotal: 3.05s\tremaining: 5.24s\n",
      "368:\tlearn: 0.3218701\ttotal: 3.06s\tremaining: 5.23s\n",
      "369:\tlearn: 0.3218187\ttotal: 3.07s\tremaining: 5.23s\n",
      "370:\tlearn: 0.3217453\ttotal: 3.08s\tremaining: 5.22s\n",
      "371:\tlearn: 0.3216489\ttotal: 3.09s\tremaining: 5.21s\n",
      "372:\tlearn: 0.3216021\ttotal: 3.1s\tremaining: 5.2s\n",
      "373:\tlearn: 0.3215607\ttotal: 3.1s\tremaining: 5.2s\n",
      "374:\tlearn: 0.3214878\ttotal: 3.11s\tremaining: 5.19s\n",
      "375:\tlearn: 0.3214364\ttotal: 3.12s\tremaining: 5.18s\n",
      "376:\tlearn: 0.3213455\ttotal: 3.13s\tremaining: 5.18s\n",
      "377:\tlearn: 0.3212622\ttotal: 3.14s\tremaining: 5.17s\n",
      "378:\tlearn: 0.3211865\ttotal: 3.15s\tremaining: 5.16s\n",
      "379:\tlearn: 0.3211220\ttotal: 3.16s\tremaining: 5.16s\n",
      "380:\tlearn: 0.3210417\ttotal: 3.17s\tremaining: 5.15s\n",
      "381:\tlearn: 0.3209797\ttotal: 3.18s\tremaining: 5.14s\n",
      "382:\tlearn: 0.3209351\ttotal: 3.18s\tremaining: 5.13s\n",
      "383:\tlearn: 0.3208885\ttotal: 3.19s\tremaining: 5.12s\n",
      "384:\tlearn: 0.3208505\ttotal: 3.2s\tremaining: 5.11s\n",
      "385:\tlearn: 0.3208055\ttotal: 3.2s\tremaining: 5.1s\n",
      "386:\tlearn: 0.3207462\ttotal: 3.21s\tremaining: 5.09s\n",
      "387:\tlearn: 0.3206861\ttotal: 3.22s\tremaining: 5.08s\n",
      "388:\tlearn: 0.3206360\ttotal: 3.23s\tremaining: 5.07s\n",
      "389:\tlearn: 0.3205755\ttotal: 3.23s\tremaining: 5.05s\n",
      "390:\tlearn: 0.3205080\ttotal: 3.24s\tremaining: 5.04s\n",
      "391:\tlearn: 0.3204636\ttotal: 3.25s\tremaining: 5.03s\n",
      "392:\tlearn: 0.3204127\ttotal: 3.25s\tremaining: 5.02s\n",
      "393:\tlearn: 0.3203784\ttotal: 3.26s\tremaining: 5.01s\n",
      "394:\tlearn: 0.3203243\ttotal: 3.27s\tremaining: 5s\n",
      "395:\tlearn: 0.3202857\ttotal: 3.27s\tremaining: 4.99s\n",
      "396:\tlearn: 0.3202114\ttotal: 3.28s\tremaining: 4.98s\n",
      "397:\tlearn: 0.3201722\ttotal: 3.29s\tremaining: 4.97s\n",
      "398:\tlearn: 0.3201261\ttotal: 3.29s\tremaining: 4.96s\n",
      "399:\tlearn: 0.3200752\ttotal: 3.3s\tremaining: 4.95s\n",
      "400:\tlearn: 0.3199988\ttotal: 3.31s\tremaining: 4.94s\n",
      "401:\tlearn: 0.3199659\ttotal: 3.31s\tremaining: 4.93s\n",
      "402:\tlearn: 0.3199161\ttotal: 3.32s\tremaining: 4.92s\n",
      "403:\tlearn: 0.3198480\ttotal: 3.33s\tremaining: 4.92s\n",
      "404:\tlearn: 0.3197818\ttotal: 3.34s\tremaining: 4.91s\n",
      "405:\tlearn: 0.3197360\ttotal: 3.35s\tremaining: 4.89s\n",
      "406:\tlearn: 0.3197018\ttotal: 3.35s\tremaining: 4.88s\n",
      "407:\tlearn: 0.3196527\ttotal: 3.36s\tremaining: 4.88s\n",
      "408:\tlearn: 0.3196268\ttotal: 3.37s\tremaining: 4.87s\n",
      "409:\tlearn: 0.3195848\ttotal: 3.37s\tremaining: 4.86s\n",
      "410:\tlearn: 0.3195224\ttotal: 3.38s\tremaining: 4.84s\n",
      "411:\tlearn: 0.3194741\ttotal: 3.39s\tremaining: 4.83s\n",
      "412:\tlearn: 0.3194402\ttotal: 3.4s\tremaining: 4.83s\n",
      "413:\tlearn: 0.3193810\ttotal: 3.4s\tremaining: 4.82s\n",
      "414:\tlearn: 0.3193149\ttotal: 3.41s\tremaining: 4.8s\n",
      "415:\tlearn: 0.3192256\ttotal: 3.42s\tremaining: 4.79s\n",
      "416:\tlearn: 0.3191676\ttotal: 3.42s\tremaining: 4.78s\n",
      "417:\tlearn: 0.3191235\ttotal: 3.43s\tremaining: 4.77s\n",
      "418:\tlearn: 0.3190792\ttotal: 3.44s\tremaining: 4.76s\n",
      "419:\tlearn: 0.3190462\ttotal: 3.44s\tremaining: 4.75s\n",
      "420:\tlearn: 0.3189632\ttotal: 3.45s\tremaining: 4.74s\n",
      "421:\tlearn: 0.3189145\ttotal: 3.46s\tremaining: 4.73s\n",
      "422:\tlearn: 0.3188554\ttotal: 3.46s\tremaining: 4.72s\n",
      "423:\tlearn: 0.3187839\ttotal: 3.47s\tremaining: 4.71s\n",
      "424:\tlearn: 0.3187379\ttotal: 3.48s\tremaining: 4.7s\n",
      "425:\tlearn: 0.3187001\ttotal: 3.48s\tremaining: 4.69s\n",
      "426:\tlearn: 0.3186664\ttotal: 3.49s\tremaining: 4.68s\n",
      "427:\tlearn: 0.3186372\ttotal: 3.5s\tremaining: 4.67s\n",
      "428:\tlearn: 0.3185986\ttotal: 3.5s\tremaining: 4.67s\n",
      "429:\tlearn: 0.3185687\ttotal: 3.51s\tremaining: 4.66s\n",
      "430:\tlearn: 0.3184972\ttotal: 3.52s\tremaining: 4.65s\n",
      "431:\tlearn: 0.3184254\ttotal: 3.53s\tremaining: 4.64s\n",
      "432:\tlearn: 0.3183823\ttotal: 3.53s\tremaining: 4.63s\n",
      "433:\tlearn: 0.3183487\ttotal: 3.54s\tremaining: 4.62s\n",
      "434:\tlearn: 0.3182882\ttotal: 3.55s\tremaining: 4.61s\n",
      "435:\tlearn: 0.3182169\ttotal: 3.55s\tremaining: 4.6s\n",
      "436:\tlearn: 0.3181028\ttotal: 3.56s\tremaining: 4.59s\n",
      "437:\tlearn: 0.3180570\ttotal: 3.57s\tremaining: 4.58s\n",
      "438:\tlearn: 0.3180126\ttotal: 3.58s\tremaining: 4.57s\n",
      "439:\tlearn: 0.3179480\ttotal: 3.58s\tremaining: 4.56s\n",
      "440:\tlearn: 0.3179257\ttotal: 3.59s\tremaining: 4.55s\n",
      "441:\tlearn: 0.3178583\ttotal: 3.6s\tremaining: 4.54s\n",
      "442:\tlearn: 0.3178047\ttotal: 3.61s\tremaining: 4.54s\n",
      "443:\tlearn: 0.3177527\ttotal: 3.61s\tremaining: 4.53s\n",
      "444:\tlearn: 0.3176835\ttotal: 3.62s\tremaining: 4.51s\n",
      "445:\tlearn: 0.3176402\ttotal: 3.63s\tremaining: 4.5s\n",
      "446:\tlearn: 0.3175980\ttotal: 3.63s\tremaining: 4.5s\n",
      "447:\tlearn: 0.3175259\ttotal: 3.64s\tremaining: 4.49s\n",
      "448:\tlearn: 0.3174661\ttotal: 3.65s\tremaining: 4.48s\n",
      "449:\tlearn: 0.3174062\ttotal: 3.65s\tremaining: 4.47s\n",
      "450:\tlearn: 0.3173397\ttotal: 3.66s\tremaining: 4.46s\n",
      "451:\tlearn: 0.3172954\ttotal: 3.67s\tremaining: 4.45s\n",
      "452:\tlearn: 0.3172157\ttotal: 3.67s\tremaining: 4.44s\n",
      "453:\tlearn: 0.3171713\ttotal: 3.68s\tremaining: 4.43s\n",
      "454:\tlearn: 0.3171116\ttotal: 3.69s\tremaining: 4.42s\n",
      "455:\tlearn: 0.3170557\ttotal: 3.7s\tremaining: 4.41s\n",
      "456:\tlearn: 0.3169912\ttotal: 3.7s\tremaining: 4.4s\n",
      "457:\tlearn: 0.3169538\ttotal: 3.71s\tremaining: 4.39s\n",
      "458:\tlearn: 0.3168945\ttotal: 3.72s\tremaining: 4.38s\n",
      "459:\tlearn: 0.3168151\ttotal: 3.73s\tremaining: 4.38s\n",
      "460:\tlearn: 0.3167395\ttotal: 3.73s\tremaining: 4.37s\n",
      "461:\tlearn: 0.3166756\ttotal: 3.74s\tremaining: 4.36s\n",
      "462:\tlearn: 0.3166198\ttotal: 3.75s\tremaining: 4.35s\n",
      "463:\tlearn: 0.3165588\ttotal: 3.75s\tremaining: 4.34s\n",
      "464:\tlearn: 0.3164882\ttotal: 3.76s\tremaining: 4.33s\n",
      "465:\tlearn: 0.3164291\ttotal: 3.77s\tremaining: 4.32s\n",
      "466:\tlearn: 0.3163745\ttotal: 3.77s\tremaining: 4.31s\n",
      "467:\tlearn: 0.3163179\ttotal: 3.78s\tremaining: 4.3s\n",
      "468:\tlearn: 0.3162655\ttotal: 3.79s\tremaining: 4.29s\n",
      "469:\tlearn: 0.3162283\ttotal: 3.79s\tremaining: 4.28s\n",
      "470:\tlearn: 0.3161705\ttotal: 3.8s\tremaining: 4.27s\n",
      "471:\tlearn: 0.3161230\ttotal: 3.81s\tremaining: 4.26s\n",
      "472:\tlearn: 0.3160626\ttotal: 3.82s\tremaining: 4.25s\n",
      "473:\tlearn: 0.3160232\ttotal: 3.82s\tremaining: 4.24s\n",
      "474:\tlearn: 0.3159542\ttotal: 3.83s\tremaining: 4.23s\n",
      "475:\tlearn: 0.3158809\ttotal: 3.84s\tremaining: 4.22s\n",
      "476:\tlearn: 0.3158279\ttotal: 3.84s\tremaining: 4.21s\n",
      "477:\tlearn: 0.3157803\ttotal: 3.85s\tremaining: 4.21s\n",
      "478:\tlearn: 0.3157273\ttotal: 3.86s\tremaining: 4.2s\n",
      "479:\tlearn: 0.3156833\ttotal: 3.87s\tremaining: 4.19s\n",
      "480:\tlearn: 0.3156476\ttotal: 3.87s\tremaining: 4.18s\n",
      "481:\tlearn: 0.3155766\ttotal: 3.88s\tremaining: 4.17s\n",
      "482:\tlearn: 0.3155536\ttotal: 3.89s\tremaining: 4.16s\n",
      "483:\tlearn: 0.3155111\ttotal: 3.9s\tremaining: 4.16s\n",
      "484:\tlearn: 0.3154659\ttotal: 3.9s\tremaining: 4.15s\n",
      "485:\tlearn: 0.3154381\ttotal: 3.91s\tremaining: 4.14s\n",
      "486:\tlearn: 0.3153535\ttotal: 3.92s\tremaining: 4.13s\n",
      "487:\tlearn: 0.3153121\ttotal: 3.93s\tremaining: 4.12s\n",
      "488:\tlearn: 0.3152718\ttotal: 3.93s\tremaining: 4.11s\n",
      "489:\tlearn: 0.3152234\ttotal: 3.94s\tremaining: 4.1s\n",
      "490:\tlearn: 0.3151708\ttotal: 3.95s\tremaining: 4.09s\n",
      "491:\tlearn: 0.3151309\ttotal: 3.95s\tremaining: 4.08s\n",
      "492:\tlearn: 0.3150807\ttotal: 3.96s\tremaining: 4.07s\n",
      "493:\tlearn: 0.3150542\ttotal: 3.97s\tremaining: 4.06s\n",
      "494:\tlearn: 0.3150161\ttotal: 3.97s\tremaining: 4.05s\n",
      "495:\tlearn: 0.3149798\ttotal: 3.98s\tremaining: 4.04s\n",
      "496:\tlearn: 0.3149210\ttotal: 3.99s\tremaining: 4.04s\n",
      "497:\tlearn: 0.3148960\ttotal: 3.99s\tremaining: 4.03s\n",
      "498:\tlearn: 0.3148620\ttotal: 4s\tremaining: 4.02s\n",
      "499:\tlearn: 0.3148148\ttotal: 4.01s\tremaining: 4.01s\n",
      "500:\tlearn: 0.3147821\ttotal: 4.01s\tremaining: 4s\n",
      "501:\tlearn: 0.3147185\ttotal: 4.02s\tremaining: 3.99s\n",
      "502:\tlearn: 0.3146914\ttotal: 4.03s\tremaining: 3.98s\n",
      "503:\tlearn: 0.3146410\ttotal: 4.04s\tremaining: 3.97s\n",
      "504:\tlearn: 0.3145780\ttotal: 4.04s\tremaining: 3.96s\n",
      "505:\tlearn: 0.3145057\ttotal: 4.05s\tremaining: 3.95s\n",
      "506:\tlearn: 0.3144691\ttotal: 4.06s\tremaining: 3.94s\n",
      "507:\tlearn: 0.3144190\ttotal: 4.07s\tremaining: 3.94s\n",
      "508:\tlearn: 0.3143692\ttotal: 4.07s\tremaining: 3.93s\n",
      "509:\tlearn: 0.3143154\ttotal: 4.08s\tremaining: 3.92s\n",
      "510:\tlearn: 0.3142770\ttotal: 4.09s\tremaining: 3.91s\n",
      "511:\tlearn: 0.3142012\ttotal: 4.09s\tremaining: 3.9s\n",
      "512:\tlearn: 0.3141498\ttotal: 4.1s\tremaining: 3.89s\n",
      "513:\tlearn: 0.3140841\ttotal: 4.11s\tremaining: 3.89s\n",
      "514:\tlearn: 0.3140271\ttotal: 4.12s\tremaining: 3.88s\n",
      "515:\tlearn: 0.3139575\ttotal: 4.12s\tremaining: 3.87s\n",
      "516:\tlearn: 0.3139264\ttotal: 4.13s\tremaining: 3.86s\n",
      "517:\tlearn: 0.3138814\ttotal: 4.14s\tremaining: 3.85s\n",
      "518:\tlearn: 0.3138259\ttotal: 4.14s\tremaining: 3.84s\n",
      "519:\tlearn: 0.3137993\ttotal: 4.15s\tremaining: 3.83s\n",
      "520:\tlearn: 0.3137628\ttotal: 4.16s\tremaining: 3.82s\n",
      "521:\tlearn: 0.3137035\ttotal: 4.17s\tremaining: 3.81s\n",
      "522:\tlearn: 0.3136879\ttotal: 4.17s\tremaining: 3.81s\n",
      "523:\tlearn: 0.3136720\ttotal: 4.18s\tremaining: 3.8s\n",
      "524:\tlearn: 0.3136292\ttotal: 4.19s\tremaining: 3.79s\n",
      "525:\tlearn: 0.3135745\ttotal: 4.19s\tremaining: 3.78s\n",
      "526:\tlearn: 0.3135307\ttotal: 4.2s\tremaining: 3.77s\n",
      "527:\tlearn: 0.3134972\ttotal: 4.21s\tremaining: 3.76s\n",
      "528:\tlearn: 0.3134565\ttotal: 4.21s\tremaining: 3.75s\n",
      "529:\tlearn: 0.3134001\ttotal: 4.22s\tremaining: 3.74s\n",
      "530:\tlearn: 0.3133587\ttotal: 4.23s\tremaining: 3.73s\n",
      "531:\tlearn: 0.3133078\ttotal: 4.23s\tremaining: 3.73s\n",
      "532:\tlearn: 0.3132244\ttotal: 4.24s\tremaining: 3.72s\n",
      "533:\tlearn: 0.3131962\ttotal: 4.25s\tremaining: 3.71s\n",
      "534:\tlearn: 0.3131427\ttotal: 4.26s\tremaining: 3.7s\n",
      "535:\tlearn: 0.3130999\ttotal: 4.27s\tremaining: 3.7s\n",
      "536:\tlearn: 0.3130545\ttotal: 4.28s\tremaining: 3.69s\n",
      "537:\tlearn: 0.3130238\ttotal: 4.29s\tremaining: 3.68s\n",
      "538:\tlearn: 0.3129733\ttotal: 4.3s\tremaining: 3.68s\n",
      "539:\tlearn: 0.3129446\ttotal: 4.31s\tremaining: 3.67s\n",
      "540:\tlearn: 0.3128857\ttotal: 4.32s\tremaining: 3.66s\n",
      "541:\tlearn: 0.3128328\ttotal: 4.33s\tremaining: 3.65s\n",
      "542:\tlearn: 0.3127868\ttotal: 4.33s\tremaining: 3.65s\n",
      "543:\tlearn: 0.3127147\ttotal: 4.34s\tremaining: 3.64s\n",
      "544:\tlearn: 0.3126712\ttotal: 4.35s\tremaining: 3.63s\n",
      "545:\tlearn: 0.3126122\ttotal: 4.36s\tremaining: 3.63s\n",
      "546:\tlearn: 0.3125570\ttotal: 4.37s\tremaining: 3.62s\n",
      "547:\tlearn: 0.3124706\ttotal: 4.38s\tremaining: 3.61s\n",
      "548:\tlearn: 0.3124170\ttotal: 4.39s\tremaining: 3.6s\n",
      "549:\tlearn: 0.3123603\ttotal: 4.4s\tremaining: 3.6s\n",
      "550:\tlearn: 0.3122875\ttotal: 4.41s\tremaining: 3.59s\n",
      "551:\tlearn: 0.3122145\ttotal: 4.42s\tremaining: 3.58s\n",
      "552:\tlearn: 0.3121649\ttotal: 4.43s\tremaining: 3.58s\n",
      "553:\tlearn: 0.3121146\ttotal: 4.44s\tremaining: 3.57s\n",
      "554:\tlearn: 0.3120830\ttotal: 4.45s\tremaining: 3.56s\n",
      "555:\tlearn: 0.3119967\ttotal: 4.46s\tremaining: 3.56s\n",
      "556:\tlearn: 0.3119658\ttotal: 4.46s\tremaining: 3.55s\n",
      "557:\tlearn: 0.3119282\ttotal: 4.47s\tremaining: 3.54s\n",
      "558:\tlearn: 0.3118646\ttotal: 4.48s\tremaining: 3.54s\n",
      "559:\tlearn: 0.3118315\ttotal: 4.49s\tremaining: 3.53s\n",
      "560:\tlearn: 0.3117947\ttotal: 4.5s\tremaining: 3.52s\n",
      "561:\tlearn: 0.3117615\ttotal: 4.51s\tremaining: 3.51s\n",
      "562:\tlearn: 0.3117196\ttotal: 4.52s\tremaining: 3.51s\n",
      "563:\tlearn: 0.3116898\ttotal: 4.53s\tremaining: 3.5s\n",
      "564:\tlearn: 0.3116603\ttotal: 4.54s\tremaining: 3.49s\n",
      "565:\tlearn: 0.3116106\ttotal: 4.55s\tremaining: 3.49s\n",
      "566:\tlearn: 0.3115517\ttotal: 4.55s\tremaining: 3.48s\n",
      "567:\tlearn: 0.3114969\ttotal: 4.56s\tremaining: 3.47s\n",
      "568:\tlearn: 0.3114432\ttotal: 4.57s\tremaining: 3.46s\n",
      "569:\tlearn: 0.3114021\ttotal: 4.58s\tremaining: 3.46s\n",
      "570:\tlearn: 0.3113692\ttotal: 4.59s\tremaining: 3.45s\n",
      "571:\tlearn: 0.3113216\ttotal: 4.6s\tremaining: 3.44s\n",
      "572:\tlearn: 0.3112686\ttotal: 4.6s\tremaining: 3.43s\n",
      "573:\tlearn: 0.3112200\ttotal: 4.61s\tremaining: 3.42s\n",
      "574:\tlearn: 0.3111517\ttotal: 4.62s\tremaining: 3.41s\n",
      "575:\tlearn: 0.3111316\ttotal: 4.63s\tremaining: 3.4s\n",
      "576:\tlearn: 0.3110859\ttotal: 4.63s\tremaining: 3.4s\n",
      "577:\tlearn: 0.3110430\ttotal: 4.64s\tremaining: 3.39s\n",
      "578:\tlearn: 0.3110239\ttotal: 4.65s\tremaining: 3.38s\n",
      "579:\tlearn: 0.3109813\ttotal: 4.65s\tremaining: 3.37s\n",
      "580:\tlearn: 0.3109582\ttotal: 4.66s\tremaining: 3.36s\n",
      "581:\tlearn: 0.3109051\ttotal: 4.67s\tremaining: 3.35s\n",
      "582:\tlearn: 0.3108767\ttotal: 4.67s\tremaining: 3.34s\n",
      "583:\tlearn: 0.3108016\ttotal: 4.68s\tremaining: 3.33s\n",
      "584:\tlearn: 0.3107538\ttotal: 4.68s\tremaining: 3.32s\n",
      "585:\tlearn: 0.3106742\ttotal: 4.69s\tremaining: 3.31s\n",
      "586:\tlearn: 0.3106475\ttotal: 4.7s\tremaining: 3.31s\n",
      "587:\tlearn: 0.3106091\ttotal: 4.7s\tremaining: 3.3s\n",
      "588:\tlearn: 0.3105818\ttotal: 4.71s\tremaining: 3.29s\n",
      "589:\tlearn: 0.3105100\ttotal: 4.72s\tremaining: 3.28s\n",
      "590:\tlearn: 0.3104837\ttotal: 4.72s\tremaining: 3.27s\n",
      "591:\tlearn: 0.3104453\ttotal: 4.73s\tremaining: 3.26s\n",
      "592:\tlearn: 0.3103857\ttotal: 4.74s\tremaining: 3.25s\n",
      "593:\tlearn: 0.3103634\ttotal: 4.74s\tremaining: 3.24s\n",
      "594:\tlearn: 0.3102976\ttotal: 4.75s\tremaining: 3.23s\n",
      "595:\tlearn: 0.3102765\ttotal: 4.75s\tremaining: 3.22s\n",
      "596:\tlearn: 0.3102596\ttotal: 4.76s\tremaining: 3.21s\n",
      "597:\tlearn: 0.3102006\ttotal: 4.77s\tremaining: 3.2s\n",
      "598:\tlearn: 0.3101167\ttotal: 4.77s\tremaining: 3.19s\n",
      "599:\tlearn: 0.3100679\ttotal: 4.78s\tremaining: 3.19s\n",
      "600:\tlearn: 0.3100020\ttotal: 4.79s\tremaining: 3.18s\n",
      "601:\tlearn: 0.3099550\ttotal: 4.79s\tremaining: 3.17s\n",
      "602:\tlearn: 0.3098991\ttotal: 4.8s\tremaining: 3.16s\n",
      "603:\tlearn: 0.3098740\ttotal: 4.8s\tremaining: 3.15s\n",
      "604:\tlearn: 0.3098432\ttotal: 4.81s\tremaining: 3.14s\n",
      "605:\tlearn: 0.3097938\ttotal: 4.82s\tremaining: 3.13s\n",
      "606:\tlearn: 0.3097365\ttotal: 4.83s\tremaining: 3.13s\n",
      "607:\tlearn: 0.3096742\ttotal: 4.84s\tremaining: 3.12s\n",
      "608:\tlearn: 0.3096226\ttotal: 4.85s\tremaining: 3.11s\n",
      "609:\tlearn: 0.3095929\ttotal: 4.85s\tremaining: 3.1s\n",
      "610:\tlearn: 0.3095493\ttotal: 4.86s\tremaining: 3.09s\n",
      "611:\tlearn: 0.3094938\ttotal: 4.87s\tremaining: 3.08s\n",
      "612:\tlearn: 0.3094504\ttotal: 4.87s\tremaining: 3.08s\n",
      "613:\tlearn: 0.3093998\ttotal: 4.88s\tremaining: 3.07s\n",
      "614:\tlearn: 0.3093509\ttotal: 4.88s\tremaining: 3.06s\n",
      "615:\tlearn: 0.3093080\ttotal: 4.89s\tremaining: 3.05s\n",
      "616:\tlearn: 0.3092492\ttotal: 4.89s\tremaining: 3.04s\n",
      "617:\tlearn: 0.3092307\ttotal: 4.9s\tremaining: 3.03s\n",
      "618:\tlearn: 0.3092124\ttotal: 4.91s\tremaining: 3.02s\n",
      "619:\tlearn: 0.3091539\ttotal: 4.91s\tremaining: 3.01s\n",
      "620:\tlearn: 0.3091099\ttotal: 4.92s\tremaining: 3s\n",
      "621:\tlearn: 0.3090486\ttotal: 4.92s\tremaining: 2.99s\n",
      "622:\tlearn: 0.3090062\ttotal: 4.93s\tremaining: 2.98s\n",
      "623:\tlearn: 0.3089815\ttotal: 4.94s\tremaining: 2.98s\n",
      "624:\tlearn: 0.3089207\ttotal: 4.95s\tremaining: 2.97s\n",
      "625:\tlearn: 0.3088731\ttotal: 4.96s\tremaining: 2.96s\n",
      "626:\tlearn: 0.3088189\ttotal: 4.96s\tremaining: 2.95s\n",
      "627:\tlearn: 0.3087879\ttotal: 4.97s\tremaining: 2.94s\n",
      "628:\tlearn: 0.3087517\ttotal: 4.98s\tremaining: 2.94s\n",
      "629:\tlearn: 0.3086889\ttotal: 4.99s\tremaining: 2.93s\n",
      "630:\tlearn: 0.3086250\ttotal: 5s\tremaining: 2.92s\n",
      "631:\tlearn: 0.3086071\ttotal: 5s\tremaining: 2.91s\n",
      "632:\tlearn: 0.3085448\ttotal: 5.01s\tremaining: 2.9s\n",
      "633:\tlearn: 0.3084950\ttotal: 5.02s\tremaining: 2.9s\n",
      "634:\tlearn: 0.3084265\ttotal: 5.03s\tremaining: 2.89s\n",
      "635:\tlearn: 0.3083970\ttotal: 5.03s\tremaining: 2.88s\n",
      "636:\tlearn: 0.3083569\ttotal: 5.04s\tremaining: 2.87s\n",
      "637:\tlearn: 0.3083139\ttotal: 5.05s\tremaining: 2.86s\n",
      "638:\tlearn: 0.3082728\ttotal: 5.05s\tremaining: 2.86s\n",
      "639:\tlearn: 0.3082206\ttotal: 5.06s\tremaining: 2.85s\n",
      "640:\tlearn: 0.3081589\ttotal: 5.07s\tremaining: 2.84s\n",
      "641:\tlearn: 0.3081287\ttotal: 5.08s\tremaining: 2.83s\n",
      "642:\tlearn: 0.3080683\ttotal: 5.08s\tremaining: 2.82s\n",
      "643:\tlearn: 0.3080312\ttotal: 5.09s\tremaining: 2.81s\n",
      "644:\tlearn: 0.3079678\ttotal: 5.1s\tremaining: 2.81s\n",
      "645:\tlearn: 0.3079090\ttotal: 5.11s\tremaining: 2.8s\n",
      "646:\tlearn: 0.3078570\ttotal: 5.11s\tremaining: 2.79s\n",
      "647:\tlearn: 0.3078102\ttotal: 5.12s\tremaining: 2.78s\n",
      "648:\tlearn: 0.3077728\ttotal: 5.13s\tremaining: 2.77s\n",
      "649:\tlearn: 0.3077317\ttotal: 5.13s\tremaining: 2.76s\n",
      "650:\tlearn: 0.3076976\ttotal: 5.14s\tremaining: 2.75s\n",
      "651:\tlearn: 0.3076403\ttotal: 5.15s\tremaining: 2.75s\n",
      "652:\tlearn: 0.3076001\ttotal: 5.16s\tremaining: 2.74s\n",
      "653:\tlearn: 0.3075571\ttotal: 5.16s\tremaining: 2.73s\n",
      "654:\tlearn: 0.3075287\ttotal: 5.17s\tremaining: 2.72s\n",
      "655:\tlearn: 0.3074837\ttotal: 5.18s\tremaining: 2.71s\n",
      "656:\tlearn: 0.3074318\ttotal: 5.18s\tremaining: 2.71s\n",
      "657:\tlearn: 0.3073754\ttotal: 5.19s\tremaining: 2.7s\n",
      "658:\tlearn: 0.3073433\ttotal: 5.2s\tremaining: 2.69s\n",
      "659:\tlearn: 0.3072919\ttotal: 5.2s\tremaining: 2.68s\n",
      "660:\tlearn: 0.3072368\ttotal: 5.21s\tremaining: 2.67s\n",
      "661:\tlearn: 0.3072090\ttotal: 5.21s\tremaining: 2.66s\n",
      "662:\tlearn: 0.3071791\ttotal: 5.22s\tremaining: 2.65s\n",
      "663:\tlearn: 0.3071241\ttotal: 5.22s\tremaining: 2.64s\n",
      "664:\tlearn: 0.3070971\ttotal: 5.23s\tremaining: 2.63s\n",
      "665:\tlearn: 0.3070552\ttotal: 5.23s\tremaining: 2.62s\n",
      "666:\tlearn: 0.3070123\ttotal: 5.24s\tremaining: 2.62s\n",
      "667:\tlearn: 0.3069689\ttotal: 5.24s\tremaining: 2.61s\n",
      "668:\tlearn: 0.3068836\ttotal: 5.25s\tremaining: 2.6s\n",
      "669:\tlearn: 0.3068384\ttotal: 5.25s\tremaining: 2.59s\n",
      "670:\tlearn: 0.3067844\ttotal: 5.26s\tremaining: 2.58s\n",
      "671:\tlearn: 0.3067614\ttotal: 5.26s\tremaining: 2.57s\n",
      "672:\tlearn: 0.3067079\ttotal: 5.27s\tremaining: 2.56s\n",
      "673:\tlearn: 0.3066323\ttotal: 5.27s\tremaining: 2.55s\n",
      "674:\tlearn: 0.3065926\ttotal: 5.28s\tremaining: 2.54s\n",
      "675:\tlearn: 0.3065539\ttotal: 5.28s\tremaining: 2.53s\n",
      "676:\tlearn: 0.3065238\ttotal: 5.29s\tremaining: 2.52s\n",
      "677:\tlearn: 0.3064717\ttotal: 5.29s\tremaining: 2.51s\n",
      "678:\tlearn: 0.3064171\ttotal: 5.3s\tremaining: 2.5s\n",
      "679:\tlearn: 0.3063708\ttotal: 5.3s\tremaining: 2.5s\n",
      "680:\tlearn: 0.3063425\ttotal: 5.31s\tremaining: 2.49s\n",
      "681:\tlearn: 0.3063209\ttotal: 5.31s\tremaining: 2.48s\n",
      "682:\tlearn: 0.3062939\ttotal: 5.32s\tremaining: 2.47s\n",
      "683:\tlearn: 0.3062774\ttotal: 5.32s\tremaining: 2.46s\n",
      "684:\tlearn: 0.3062190\ttotal: 5.33s\tremaining: 2.45s\n",
      "685:\tlearn: 0.3061882\ttotal: 5.33s\tremaining: 2.44s\n",
      "686:\tlearn: 0.3061730\ttotal: 5.34s\tremaining: 2.43s\n",
      "687:\tlearn: 0.3061116\ttotal: 5.34s\tremaining: 2.42s\n",
      "688:\tlearn: 0.3060703\ttotal: 5.35s\tremaining: 2.41s\n",
      "689:\tlearn: 0.3060289\ttotal: 5.35s\tremaining: 2.4s\n",
      "690:\tlearn: 0.3059852\ttotal: 5.36s\tremaining: 2.4s\n",
      "691:\tlearn: 0.3059342\ttotal: 5.37s\tremaining: 2.39s\n",
      "692:\tlearn: 0.3059143\ttotal: 5.37s\tremaining: 2.38s\n",
      "693:\tlearn: 0.3058867\ttotal: 5.38s\tremaining: 2.37s\n",
      "694:\tlearn: 0.3058531\ttotal: 5.38s\tremaining: 2.36s\n",
      "695:\tlearn: 0.3058029\ttotal: 5.39s\tremaining: 2.35s\n",
      "696:\tlearn: 0.3057624\ttotal: 5.39s\tremaining: 2.34s\n",
      "697:\tlearn: 0.3056999\ttotal: 5.4s\tremaining: 2.33s\n",
      "698:\tlearn: 0.3056676\ttotal: 5.4s\tremaining: 2.33s\n",
      "699:\tlearn: 0.3056013\ttotal: 5.41s\tremaining: 2.32s\n",
      "700:\tlearn: 0.3055628\ttotal: 5.41s\tremaining: 2.31s\n",
      "701:\tlearn: 0.3055266\ttotal: 5.42s\tremaining: 2.3s\n",
      "702:\tlearn: 0.3054786\ttotal: 5.42s\tremaining: 2.29s\n",
      "703:\tlearn: 0.3054575\ttotal: 5.43s\tremaining: 2.28s\n",
      "704:\tlearn: 0.3054059\ttotal: 5.43s\tremaining: 2.27s\n",
      "705:\tlearn: 0.3053839\ttotal: 5.44s\tremaining: 2.26s\n",
      "706:\tlearn: 0.3053513\ttotal: 5.44s\tremaining: 2.25s\n",
      "707:\tlearn: 0.3052820\ttotal: 5.45s\tremaining: 2.25s\n",
      "708:\tlearn: 0.3052287\ttotal: 5.45s\tremaining: 2.24s\n",
      "709:\tlearn: 0.3051826\ttotal: 5.46s\tremaining: 2.23s\n",
      "710:\tlearn: 0.3051278\ttotal: 5.46s\tremaining: 2.22s\n",
      "711:\tlearn: 0.3050881\ttotal: 5.47s\tremaining: 2.21s\n",
      "712:\tlearn: 0.3050210\ttotal: 5.47s\tremaining: 2.2s\n",
      "713:\tlearn: 0.3049932\ttotal: 5.48s\tremaining: 2.19s\n",
      "714:\tlearn: 0.3049620\ttotal: 5.48s\tremaining: 2.18s\n",
      "715:\tlearn: 0.3049266\ttotal: 5.49s\tremaining: 2.18s\n",
      "716:\tlearn: 0.3048924\ttotal: 5.49s\tremaining: 2.17s\n",
      "717:\tlearn: 0.3048356\ttotal: 5.5s\tremaining: 2.16s\n",
      "718:\tlearn: 0.3047900\ttotal: 5.5s\tremaining: 2.15s\n",
      "719:\tlearn: 0.3047725\ttotal: 5.51s\tremaining: 2.14s\n",
      "720:\tlearn: 0.3047268\ttotal: 5.51s\tremaining: 2.13s\n",
      "721:\tlearn: 0.3046989\ttotal: 5.51s\tremaining: 2.12s\n",
      "722:\tlearn: 0.3046439\ttotal: 5.52s\tremaining: 2.12s\n",
      "723:\tlearn: 0.3045945\ttotal: 5.53s\tremaining: 2.11s\n",
      "724:\tlearn: 0.3045704\ttotal: 5.53s\tremaining: 2.1s\n",
      "725:\tlearn: 0.3045240\ttotal: 5.54s\tremaining: 2.09s\n",
      "726:\tlearn: 0.3044717\ttotal: 5.54s\tremaining: 2.08s\n",
      "727:\tlearn: 0.3043978\ttotal: 5.55s\tremaining: 2.07s\n",
      "728:\tlearn: 0.3043600\ttotal: 5.55s\tremaining: 2.06s\n",
      "729:\tlearn: 0.3043126\ttotal: 5.56s\tremaining: 2.06s\n",
      "730:\tlearn: 0.3042675\ttotal: 5.56s\tremaining: 2.05s\n",
      "731:\tlearn: 0.3042436\ttotal: 5.57s\tremaining: 2.04s\n",
      "732:\tlearn: 0.3042037\ttotal: 5.57s\tremaining: 2.03s\n",
      "733:\tlearn: 0.3041819\ttotal: 5.58s\tremaining: 2.02s\n",
      "734:\tlearn: 0.3041708\ttotal: 5.58s\tremaining: 2.01s\n",
      "735:\tlearn: 0.3041382\ttotal: 5.59s\tremaining: 2s\n",
      "736:\tlearn: 0.3040940\ttotal: 5.59s\tremaining: 2s\n",
      "737:\tlearn: 0.3040545\ttotal: 5.6s\tremaining: 1.99s\n",
      "738:\tlearn: 0.3040281\ttotal: 5.6s\tremaining: 1.98s\n",
      "739:\tlearn: 0.3040179\ttotal: 5.61s\tremaining: 1.97s\n",
      "740:\tlearn: 0.3039484\ttotal: 5.61s\tremaining: 1.96s\n",
      "741:\tlearn: 0.3038952\ttotal: 5.62s\tremaining: 1.95s\n",
      "742:\tlearn: 0.3038601\ttotal: 5.62s\tremaining: 1.95s\n",
      "743:\tlearn: 0.3037934\ttotal: 5.63s\tremaining: 1.94s\n",
      "744:\tlearn: 0.3037652\ttotal: 5.63s\tremaining: 1.93s\n",
      "745:\tlearn: 0.3037183\ttotal: 5.64s\tremaining: 1.92s\n",
      "746:\tlearn: 0.3036816\ttotal: 5.64s\tremaining: 1.91s\n",
      "747:\tlearn: 0.3036467\ttotal: 5.65s\tremaining: 1.9s\n",
      "748:\tlearn: 0.3035932\ttotal: 5.65s\tremaining: 1.89s\n",
      "749:\tlearn: 0.3035352\ttotal: 5.66s\tremaining: 1.89s\n",
      "750:\tlearn: 0.3035028\ttotal: 5.66s\tremaining: 1.88s\n",
      "751:\tlearn: 0.3034551\ttotal: 5.67s\tremaining: 1.87s\n",
      "752:\tlearn: 0.3034154\ttotal: 5.67s\tremaining: 1.86s\n",
      "753:\tlearn: 0.3033779\ttotal: 5.68s\tremaining: 1.85s\n",
      "754:\tlearn: 0.3033320\ttotal: 5.68s\tremaining: 1.84s\n",
      "755:\tlearn: 0.3033094\ttotal: 5.69s\tremaining: 1.83s\n",
      "756:\tlearn: 0.3032573\ttotal: 5.69s\tremaining: 1.83s\n",
      "757:\tlearn: 0.3032013\ttotal: 5.7s\tremaining: 1.82s\n",
      "758:\tlearn: 0.3031750\ttotal: 5.7s\tremaining: 1.81s\n",
      "759:\tlearn: 0.3031397\ttotal: 5.71s\tremaining: 1.8s\n",
      "760:\tlearn: 0.3030967\ttotal: 5.71s\tremaining: 1.79s\n",
      "761:\tlearn: 0.3030665\ttotal: 5.72s\tremaining: 1.78s\n",
      "762:\tlearn: 0.3030315\ttotal: 5.72s\tremaining: 1.78s\n",
      "763:\tlearn: 0.3029617\ttotal: 5.73s\tremaining: 1.77s\n",
      "764:\tlearn: 0.3029089\ttotal: 5.74s\tremaining: 1.76s\n",
      "765:\tlearn: 0.3028685\ttotal: 5.74s\tremaining: 1.75s\n",
      "766:\tlearn: 0.3028194\ttotal: 5.75s\tremaining: 1.75s\n",
      "767:\tlearn: 0.3027872\ttotal: 5.75s\tremaining: 1.74s\n",
      "768:\tlearn: 0.3027322\ttotal: 5.75s\tremaining: 1.73s\n",
      "769:\tlearn: 0.3027140\ttotal: 5.76s\tremaining: 1.72s\n",
      "770:\tlearn: 0.3026835\ttotal: 5.76s\tremaining: 1.71s\n",
      "771:\tlearn: 0.3026304\ttotal: 5.77s\tremaining: 1.7s\n",
      "772:\tlearn: 0.3025732\ttotal: 5.78s\tremaining: 1.7s\n",
      "773:\tlearn: 0.3025375\ttotal: 5.78s\tremaining: 1.69s\n",
      "774:\tlearn: 0.3024753\ttotal: 5.79s\tremaining: 1.68s\n",
      "775:\tlearn: 0.3024300\ttotal: 5.79s\tremaining: 1.67s\n",
      "776:\tlearn: 0.3023949\ttotal: 5.79s\tremaining: 1.66s\n",
      "777:\tlearn: 0.3023724\ttotal: 5.8s\tremaining: 1.66s\n",
      "778:\tlearn: 0.3023348\ttotal: 5.8s\tremaining: 1.65s\n",
      "779:\tlearn: 0.3023096\ttotal: 5.81s\tremaining: 1.64s\n",
      "780:\tlearn: 0.3022674\ttotal: 5.81s\tremaining: 1.63s\n",
      "781:\tlearn: 0.3022460\ttotal: 5.82s\tremaining: 1.62s\n",
      "782:\tlearn: 0.3021973\ttotal: 5.82s\tremaining: 1.61s\n",
      "783:\tlearn: 0.3021677\ttotal: 5.83s\tremaining: 1.61s\n",
      "784:\tlearn: 0.3021378\ttotal: 5.83s\tremaining: 1.6s\n",
      "785:\tlearn: 0.3020829\ttotal: 5.84s\tremaining: 1.59s\n",
      "786:\tlearn: 0.3020445\ttotal: 5.84s\tremaining: 1.58s\n",
      "787:\tlearn: 0.3020156\ttotal: 5.85s\tremaining: 1.57s\n",
      "788:\tlearn: 0.3019680\ttotal: 5.86s\tremaining: 1.56s\n",
      "789:\tlearn: 0.3019385\ttotal: 5.86s\tremaining: 1.56s\n",
      "790:\tlearn: 0.3018810\ttotal: 5.87s\tremaining: 1.55s\n",
      "791:\tlearn: 0.3018433\ttotal: 5.87s\tremaining: 1.54s\n",
      "792:\tlearn: 0.3018111\ttotal: 5.87s\tremaining: 1.53s\n",
      "793:\tlearn: 0.3018021\ttotal: 5.88s\tremaining: 1.52s\n",
      "794:\tlearn: 0.3017641\ttotal: 5.88s\tremaining: 1.52s\n",
      "795:\tlearn: 0.3017327\ttotal: 5.89s\tremaining: 1.51s\n",
      "796:\tlearn: 0.3017043\ttotal: 5.89s\tremaining: 1.5s\n",
      "797:\tlearn: 0.3016700\ttotal: 5.9s\tremaining: 1.49s\n",
      "798:\tlearn: 0.3016322\ttotal: 5.91s\tremaining: 1.49s\n",
      "799:\tlearn: 0.3015787\ttotal: 5.91s\tremaining: 1.48s\n",
      "800:\tlearn: 0.3015236\ttotal: 5.92s\tremaining: 1.47s\n",
      "801:\tlearn: 0.3014799\ttotal: 5.92s\tremaining: 1.46s\n",
      "802:\tlearn: 0.3014259\ttotal: 5.93s\tremaining: 1.45s\n",
      "803:\tlearn: 0.3014023\ttotal: 5.93s\tremaining: 1.45s\n",
      "804:\tlearn: 0.3013682\ttotal: 5.94s\tremaining: 1.44s\n",
      "805:\tlearn: 0.3013043\ttotal: 5.94s\tremaining: 1.43s\n",
      "806:\tlearn: 0.3012698\ttotal: 5.95s\tremaining: 1.42s\n",
      "807:\tlearn: 0.3012110\ttotal: 5.95s\tremaining: 1.41s\n",
      "808:\tlearn: 0.3011627\ttotal: 5.96s\tremaining: 1.41s\n",
      "809:\tlearn: 0.3011192\ttotal: 5.96s\tremaining: 1.4s\n",
      "810:\tlearn: 0.3010837\ttotal: 5.97s\tremaining: 1.39s\n",
      "811:\tlearn: 0.3010356\ttotal: 5.97s\tremaining: 1.38s\n",
      "812:\tlearn: 0.3009843\ttotal: 5.98s\tremaining: 1.38s\n",
      "813:\tlearn: 0.3009386\ttotal: 5.98s\tremaining: 1.37s\n",
      "814:\tlearn: 0.3008962\ttotal: 5.99s\tremaining: 1.36s\n",
      "815:\tlearn: 0.3008850\ttotal: 5.99s\tremaining: 1.35s\n",
      "816:\tlearn: 0.3008511\ttotal: 6s\tremaining: 1.34s\n",
      "817:\tlearn: 0.3008140\ttotal: 6s\tremaining: 1.33s\n",
      "818:\tlearn: 0.3007580\ttotal: 6.01s\tremaining: 1.33s\n",
      "819:\tlearn: 0.3007066\ttotal: 6.01s\tremaining: 1.32s\n",
      "820:\tlearn: 0.3006589\ttotal: 6.02s\tremaining: 1.31s\n",
      "821:\tlearn: 0.3006151\ttotal: 6.02s\tremaining: 1.3s\n",
      "822:\tlearn: 0.3005644\ttotal: 6.03s\tremaining: 1.3s\n",
      "823:\tlearn: 0.3005417\ttotal: 6.03s\tremaining: 1.29s\n",
      "824:\tlearn: 0.3004886\ttotal: 6.04s\tremaining: 1.28s\n",
      "825:\tlearn: 0.3004433\ttotal: 6.04s\tremaining: 1.27s\n",
      "826:\tlearn: 0.3003928\ttotal: 6.05s\tremaining: 1.26s\n",
      "827:\tlearn: 0.3003642\ttotal: 6.05s\tremaining: 1.26s\n",
      "828:\tlearn: 0.3003402\ttotal: 6.06s\tremaining: 1.25s\n",
      "829:\tlearn: 0.3003072\ttotal: 6.06s\tremaining: 1.24s\n",
      "830:\tlearn: 0.3002684\ttotal: 6.07s\tremaining: 1.23s\n",
      "831:\tlearn: 0.3002309\ttotal: 6.07s\tremaining: 1.23s\n",
      "832:\tlearn: 0.3001767\ttotal: 6.08s\tremaining: 1.22s\n",
      "833:\tlearn: 0.3001230\ttotal: 6.08s\tremaining: 1.21s\n",
      "834:\tlearn: 0.3000943\ttotal: 6.09s\tremaining: 1.2s\n",
      "835:\tlearn: 0.3000461\ttotal: 6.09s\tremaining: 1.2s\n",
      "836:\tlearn: 0.3000138\ttotal: 6.1s\tremaining: 1.19s\n",
      "837:\tlearn: 0.3000017\ttotal: 6.1s\tremaining: 1.18s\n",
      "838:\tlearn: 0.2999623\ttotal: 6.11s\tremaining: 1.17s\n",
      "839:\tlearn: 0.2999283\ttotal: 6.12s\tremaining: 1.16s\n",
      "840:\tlearn: 0.2999004\ttotal: 6.12s\tremaining: 1.16s\n",
      "841:\tlearn: 0.2998597\ttotal: 6.13s\tremaining: 1.15s\n",
      "842:\tlearn: 0.2998128\ttotal: 6.13s\tremaining: 1.14s\n",
      "843:\tlearn: 0.2997499\ttotal: 6.13s\tremaining: 1.13s\n",
      "844:\tlearn: 0.2997066\ttotal: 6.14s\tremaining: 1.13s\n",
      "845:\tlearn: 0.2996529\ttotal: 6.14s\tremaining: 1.12s\n",
      "846:\tlearn: 0.2995941\ttotal: 6.15s\tremaining: 1.11s\n",
      "847:\tlearn: 0.2995558\ttotal: 6.16s\tremaining: 1.1s\n",
      "848:\tlearn: 0.2995379\ttotal: 6.16s\tremaining: 1.09s\n",
      "849:\tlearn: 0.2994946\ttotal: 6.16s\tremaining: 1.09s\n",
      "850:\tlearn: 0.2994682\ttotal: 6.17s\tremaining: 1.08s\n",
      "851:\tlearn: 0.2994344\ttotal: 6.17s\tremaining: 1.07s\n",
      "852:\tlearn: 0.2993822\ttotal: 6.18s\tremaining: 1.06s\n",
      "853:\tlearn: 0.2993387\ttotal: 6.18s\tremaining: 1.06s\n",
      "854:\tlearn: 0.2992959\ttotal: 6.19s\tremaining: 1.05s\n",
      "855:\tlearn: 0.2992637\ttotal: 6.19s\tremaining: 1.04s\n",
      "856:\tlearn: 0.2992445\ttotal: 6.2s\tremaining: 1.03s\n",
      "857:\tlearn: 0.2992022\ttotal: 6.2s\tremaining: 1.03s\n",
      "858:\tlearn: 0.2991546\ttotal: 6.21s\tremaining: 1.02s\n",
      "859:\tlearn: 0.2990823\ttotal: 6.21s\tremaining: 1.01s\n",
      "860:\tlearn: 0.2990508\ttotal: 6.22s\tremaining: 1s\n",
      "861:\tlearn: 0.2990108\ttotal: 6.22s\tremaining: 996ms\n",
      "862:\tlearn: 0.2989824\ttotal: 6.23s\tremaining: 989ms\n",
      "863:\tlearn: 0.2989381\ttotal: 6.23s\tremaining: 981ms\n",
      "864:\tlearn: 0.2988962\ttotal: 6.24s\tremaining: 974ms\n",
      "865:\tlearn: 0.2988724\ttotal: 6.24s\tremaining: 966ms\n",
      "866:\tlearn: 0.2988419\ttotal: 6.25s\tremaining: 959ms\n",
      "867:\tlearn: 0.2988147\ttotal: 6.25s\tremaining: 951ms\n",
      "868:\tlearn: 0.2987950\ttotal: 6.26s\tremaining: 944ms\n",
      "869:\tlearn: 0.2987493\ttotal: 6.26s\tremaining: 936ms\n",
      "870:\tlearn: 0.2987029\ttotal: 6.27s\tremaining: 928ms\n",
      "871:\tlearn: 0.2986588\ttotal: 6.27s\tremaining: 921ms\n",
      "872:\tlearn: 0.2986206\ttotal: 6.28s\tremaining: 914ms\n",
      "873:\tlearn: 0.2985875\ttotal: 6.29s\tremaining: 906ms\n",
      "874:\tlearn: 0.2985384\ttotal: 6.29s\tremaining: 899ms\n",
      "875:\tlearn: 0.2984967\ttotal: 6.3s\tremaining: 891ms\n",
      "876:\tlearn: 0.2984561\ttotal: 6.3s\tremaining: 884ms\n",
      "877:\tlearn: 0.2984061\ttotal: 6.31s\tremaining: 876ms\n",
      "878:\tlearn: 0.2983760\ttotal: 6.31s\tremaining: 869ms\n",
      "879:\tlearn: 0.2983512\ttotal: 6.32s\tremaining: 861ms\n",
      "880:\tlearn: 0.2983029\ttotal: 6.32s\tremaining: 854ms\n",
      "881:\tlearn: 0.2982869\ttotal: 6.33s\tremaining: 846ms\n",
      "882:\tlearn: 0.2982623\ttotal: 6.33s\tremaining: 839ms\n",
      "883:\tlearn: 0.2982293\ttotal: 6.33s\tremaining: 831ms\n",
      "884:\tlearn: 0.2982004\ttotal: 6.34s\tremaining: 824ms\n",
      "885:\tlearn: 0.2981783\ttotal: 6.34s\tremaining: 816ms\n",
      "886:\tlearn: 0.2981362\ttotal: 6.35s\tremaining: 809ms\n",
      "887:\tlearn: 0.2980992\ttotal: 6.35s\tremaining: 802ms\n",
      "888:\tlearn: 0.2980586\ttotal: 6.36s\tremaining: 794ms\n",
      "889:\tlearn: 0.2980382\ttotal: 6.36s\tremaining: 787ms\n",
      "890:\tlearn: 0.2979957\ttotal: 6.37s\tremaining: 779ms\n",
      "891:\tlearn: 0.2979596\ttotal: 6.37s\tremaining: 772ms\n",
      "892:\tlearn: 0.2979260\ttotal: 6.38s\tremaining: 764ms\n",
      "893:\tlearn: 0.2979047\ttotal: 6.38s\tremaining: 757ms\n",
      "894:\tlearn: 0.2978675\ttotal: 6.39s\tremaining: 750ms\n",
      "895:\tlearn: 0.2978384\ttotal: 6.39s\tremaining: 742ms\n",
      "896:\tlearn: 0.2978030\ttotal: 6.4s\tremaining: 735ms\n",
      "897:\tlearn: 0.2977374\ttotal: 6.41s\tremaining: 728ms\n",
      "898:\tlearn: 0.2976803\ttotal: 6.41s\tremaining: 720ms\n",
      "899:\tlearn: 0.2976495\ttotal: 6.41s\tremaining: 713ms\n",
      "900:\tlearn: 0.2975928\ttotal: 6.42s\tremaining: 705ms\n",
      "901:\tlearn: 0.2975352\ttotal: 6.42s\tremaining: 698ms\n",
      "902:\tlearn: 0.2975155\ttotal: 6.43s\tremaining: 691ms\n",
      "903:\tlearn: 0.2974917\ttotal: 6.43s\tremaining: 683ms\n",
      "904:\tlearn: 0.2974537\ttotal: 6.44s\tremaining: 676ms\n",
      "905:\tlearn: 0.2974098\ttotal: 6.44s\tremaining: 669ms\n",
      "906:\tlearn: 0.2973891\ttotal: 6.45s\tremaining: 661ms\n",
      "907:\tlearn: 0.2973693\ttotal: 6.45s\tremaining: 654ms\n",
      "908:\tlearn: 0.2973020\ttotal: 6.46s\tremaining: 647ms\n",
      "909:\tlearn: 0.2972499\ttotal: 6.46s\tremaining: 639ms\n",
      "910:\tlearn: 0.2972187\ttotal: 6.47s\tremaining: 632ms\n",
      "911:\tlearn: 0.2971854\ttotal: 6.48s\tremaining: 625ms\n",
      "912:\tlearn: 0.2971507\ttotal: 6.48s\tremaining: 618ms\n",
      "913:\tlearn: 0.2971394\ttotal: 6.49s\tremaining: 610ms\n",
      "914:\tlearn: 0.2971019\ttotal: 6.49s\tremaining: 603ms\n",
      "915:\tlearn: 0.2970607\ttotal: 6.5s\tremaining: 596ms\n",
      "916:\tlearn: 0.2970209\ttotal: 6.5s\tremaining: 588ms\n",
      "917:\tlearn: 0.2969782\ttotal: 6.5s\tremaining: 581ms\n",
      "918:\tlearn: 0.2969180\ttotal: 6.51s\tremaining: 574ms\n",
      "919:\tlearn: 0.2968827\ttotal: 6.51s\tremaining: 567ms\n",
      "920:\tlearn: 0.2968488\ttotal: 6.52s\tremaining: 559ms\n",
      "921:\tlearn: 0.2968207\ttotal: 6.52s\tremaining: 552ms\n",
      "922:\tlearn: 0.2968089\ttotal: 6.53s\tremaining: 545ms\n",
      "923:\tlearn: 0.2967755\ttotal: 6.53s\tremaining: 537ms\n",
      "924:\tlearn: 0.2967461\ttotal: 6.54s\tremaining: 530ms\n",
      "925:\tlearn: 0.2966977\ttotal: 6.54s\tremaining: 523ms\n",
      "926:\tlearn: 0.2966740\ttotal: 6.55s\tremaining: 516ms\n",
      "927:\tlearn: 0.2966490\ttotal: 6.55s\tremaining: 509ms\n",
      "928:\tlearn: 0.2966267\ttotal: 6.56s\tremaining: 501ms\n",
      "929:\tlearn: 0.2965783\ttotal: 6.56s\tremaining: 494ms\n",
      "930:\tlearn: 0.2965468\ttotal: 6.57s\tremaining: 487ms\n",
      "931:\tlearn: 0.2965126\ttotal: 6.57s\tremaining: 480ms\n",
      "932:\tlearn: 0.2964850\ttotal: 6.58s\tremaining: 472ms\n",
      "933:\tlearn: 0.2964657\ttotal: 6.58s\tremaining: 465ms\n",
      "934:\tlearn: 0.2964314\ttotal: 6.59s\tremaining: 458ms\n",
      "935:\tlearn: 0.2964179\ttotal: 6.59s\tremaining: 451ms\n",
      "936:\tlearn: 0.2963822\ttotal: 6.6s\tremaining: 444ms\n",
      "937:\tlearn: 0.2963460\ttotal: 6.6s\tremaining: 437ms\n",
      "938:\tlearn: 0.2962934\ttotal: 6.61s\tremaining: 429ms\n",
      "939:\tlearn: 0.2962527\ttotal: 6.61s\tremaining: 422ms\n",
      "940:\tlearn: 0.2962109\ttotal: 6.62s\tremaining: 415ms\n",
      "941:\tlearn: 0.2961818\ttotal: 6.62s\tremaining: 408ms\n",
      "942:\tlearn: 0.2961278\ttotal: 6.63s\tremaining: 401ms\n",
      "943:\tlearn: 0.2960689\ttotal: 6.63s\tremaining: 393ms\n",
      "944:\tlearn: 0.2960542\ttotal: 6.64s\tremaining: 386ms\n",
      "945:\tlearn: 0.2960235\ttotal: 6.64s\tremaining: 379ms\n",
      "946:\tlearn: 0.2959785\ttotal: 6.65s\tremaining: 372ms\n",
      "947:\tlearn: 0.2959444\ttotal: 6.66s\tremaining: 365ms\n",
      "948:\tlearn: 0.2959013\ttotal: 6.66s\tremaining: 358ms\n",
      "949:\tlearn: 0.2958685\ttotal: 6.67s\tremaining: 351ms\n",
      "950:\tlearn: 0.2958279\ttotal: 6.67s\tremaining: 344ms\n",
      "951:\tlearn: 0.2957926\ttotal: 6.68s\tremaining: 337ms\n",
      "952:\tlearn: 0.2957596\ttotal: 6.68s\tremaining: 330ms\n",
      "953:\tlearn: 0.2957184\ttotal: 6.69s\tremaining: 322ms\n",
      "954:\tlearn: 0.2956793\ttotal: 6.69s\tremaining: 315ms\n",
      "955:\tlearn: 0.2956514\ttotal: 6.7s\tremaining: 308ms\n",
      "956:\tlearn: 0.2956266\ttotal: 6.7s\tremaining: 301ms\n",
      "957:\tlearn: 0.2955897\ttotal: 6.71s\tremaining: 294ms\n",
      "958:\tlearn: 0.2955660\ttotal: 6.71s\tremaining: 287ms\n",
      "959:\tlearn: 0.2955271\ttotal: 6.71s\tremaining: 280ms\n",
      "960:\tlearn: 0.2954887\ttotal: 6.72s\tremaining: 273ms\n",
      "961:\tlearn: 0.2954422\ttotal: 6.72s\tremaining: 266ms\n",
      "962:\tlearn: 0.2954345\ttotal: 6.73s\tremaining: 259ms\n",
      "963:\tlearn: 0.2953991\ttotal: 6.74s\tremaining: 252ms\n",
      "964:\tlearn: 0.2953525\ttotal: 6.74s\tremaining: 244ms\n",
      "965:\tlearn: 0.2953337\ttotal: 6.75s\tremaining: 237ms\n",
      "966:\tlearn: 0.2952717\ttotal: 6.75s\tremaining: 230ms\n",
      "967:\tlearn: 0.2952538\ttotal: 6.75s\tremaining: 223ms\n",
      "968:\tlearn: 0.2952304\ttotal: 6.76s\tremaining: 216ms\n",
      "969:\tlearn: 0.2952011\ttotal: 6.76s\tremaining: 209ms\n",
      "970:\tlearn: 0.2951667\ttotal: 6.77s\tremaining: 202ms\n",
      "971:\tlearn: 0.2951326\ttotal: 6.78s\tremaining: 195ms\n",
      "972:\tlearn: 0.2951003\ttotal: 6.78s\tremaining: 188ms\n",
      "973:\tlearn: 0.2950633\ttotal: 6.79s\tremaining: 181ms\n",
      "974:\tlearn: 0.2950243\ttotal: 6.79s\tremaining: 174ms\n",
      "975:\tlearn: 0.2950040\ttotal: 6.79s\tremaining: 167ms\n",
      "976:\tlearn: 0.2949559\ttotal: 6.8s\tremaining: 160ms\n",
      "977:\tlearn: 0.2949277\ttotal: 6.8s\tremaining: 153ms\n",
      "978:\tlearn: 0.2948941\ttotal: 6.81s\tremaining: 146ms\n",
      "979:\tlearn: 0.2948688\ttotal: 6.82s\tremaining: 139ms\n",
      "980:\tlearn: 0.2948425\ttotal: 6.82s\tremaining: 132ms\n",
      "981:\tlearn: 0.2948087\ttotal: 6.83s\tremaining: 125ms\n",
      "982:\tlearn: 0.2947630\ttotal: 6.83s\tremaining: 118ms\n",
      "983:\tlearn: 0.2947449\ttotal: 6.84s\tremaining: 111ms\n",
      "984:\tlearn: 0.2946950\ttotal: 6.84s\tremaining: 104ms\n",
      "985:\tlearn: 0.2946773\ttotal: 6.85s\tremaining: 97.2ms\n",
      "986:\tlearn: 0.2946442\ttotal: 6.85s\tremaining: 90.3ms\n",
      "987:\tlearn: 0.2946187\ttotal: 6.86s\tremaining: 83.3ms\n",
      "988:\tlearn: 0.2945760\ttotal: 6.86s\tremaining: 76.3ms\n",
      "989:\tlearn: 0.2945621\ttotal: 6.87s\tremaining: 69.4ms\n",
      "990:\tlearn: 0.2945384\ttotal: 6.87s\tremaining: 62.4ms\n",
      "991:\tlearn: 0.2945250\ttotal: 6.88s\tremaining: 55.5ms\n",
      "992:\tlearn: 0.2945079\ttotal: 6.88s\tremaining: 48.5ms\n",
      "993:\tlearn: 0.2944716\ttotal: 6.89s\tremaining: 41.6ms\n",
      "994:\tlearn: 0.2944261\ttotal: 6.89s\tremaining: 34.6ms\n",
      "995:\tlearn: 0.2944015\ttotal: 6.9s\tremaining: 27.7ms\n",
      "996:\tlearn: 0.2943488\ttotal: 6.9s\tremaining: 20.8ms\n",
      "997:\tlearn: 0.2943061\ttotal: 6.91s\tremaining: 13.8ms\n",
      "998:\tlearn: 0.2942595\ttotal: 6.91s\tremaining: 6.92ms\n",
      "999:\tlearn: 0.2942398\ttotal: 6.92s\tremaining: 0us\n"
     ]
    }
   ],
   "source": [
    "# modeling \n",
    "catboost = CatBoostClassifier()\n",
    "catboost.fit(X_train, y_train)\n",
    "cat_pred = catboost.predict(X_test)"
   ]
  },
  {
   "cell_type": "code",
   "execution_count": 87,
   "id": "ab3b905e",
   "metadata": {},
   "outputs": [],
   "source": [
    "ac_lr7 = accuracy_score (y_test,cat_pred)"
   ]
  },
  {
   "cell_type": "code",
   "execution_count": 88,
   "id": "a93f0c1e",
   "metadata": {},
   "outputs": [
    {
     "name": "stdout",
     "output_type": "stream",
     "text": [
      "              precision    recall  f1-score   support\n",
      "\n",
      "           0       0.88      0.92      0.90      4942\n",
      "           1       0.71      0.61      0.65      1571\n",
      "\n",
      "    accuracy                           0.85      6513\n",
      "   macro avg       0.80      0.76      0.78      6513\n",
      "weighted avg       0.84      0.85      0.84      6513\n",
      "\n"
     ]
    }
   ],
   "source": [
    "print(classification_report(y_test, cat_pred))"
   ]
  },
  {
   "cell_type": "code",
   "execution_count": 89,
   "id": "85b20abf",
   "metadata": {},
   "outputs": [
    {
     "name": "stdout",
     "output_type": "stream",
     "text": [
      "Accuracy: 84.5693228926762\n"
     ]
    }
   ],
   "source": [
    "print('Accuracy:',ac_lr7*100)"
   ]
  },
  {
   "cell_type": "markdown",
   "id": "1a852c9f",
   "metadata": {},
   "source": [
    "## Model prediction Accuracy table"
   ]
  },
  {
   "cell_type": "code",
   "execution_count": 90,
   "id": "775d5609",
   "metadata": {},
   "outputs": [
    {
     "name": "stdout",
     "output_type": "stream",
     "text": [
      "╒═════════════════════╤════════════╕\n",
      "│ Model               │   Accuracy │\n",
      "╞═════════════════════╪════════════╡\n",
      "│ Logistic Regression │    76.6621 │\n",
      "├─────────────────────┼────────────┤\n",
      "│ KNN                 │    79.6407 │\n",
      "├─────────────────────┼────────────┤\n",
      "│ Decision tree       │    82.558  │\n",
      "├─────────────────────┼────────────┤\n",
      "│ Random Forest       │    84.3083 │\n",
      "├─────────────────────┼────────────┤\n",
      "│ SVM                 │    75.879  │\n",
      "├─────────────────────┼────────────┤\n",
      "│ XG Boost            │    84.293  │\n",
      "├─────────────────────┼────────────┤\n",
      "│ Light GBM           │    84.7996 │\n",
      "├─────────────────────┼────────────┤\n",
      "│ Cat Boost           │    84.5693 │\n",
      "╘═════════════════════╧════════════╛\n"
     ]
    }
   ],
   "source": [
    "from tabulate import tabulate\n",
    "table = [['Model', 'Accuracy'], ['Logistic Regression',ac_lr*100], ['KNN',ac_lr1*100],['Decision tree',ac_lr3*100],['Random Forest',ac_lr4*100],['SVM',ac_lr2*100],['XG Boost',ac_lr5*100],['Light GBM',ac_lr6*100],['Cat Boost',ac_lr7*100]]\n",
    "print(tabulate(table,headers='firstrow',tablefmt='fancy_grid'))"
   ]
  },
  {
   "cell_type": "markdown",
   "id": "8283e9c1",
   "metadata": {},
   "source": [
    "From the table, it is clear that Light GBM have better accuracy compared to others. So Light GBM is taken as our model to predict the salary. So we can tune this to check whether the performance is improving."
   ]
  },
  {
   "cell_type": "markdown",
   "id": "156b4529",
   "metadata": {},
   "source": [
    "## Fine-tuning"
   ]
  },
  {
   "cell_type": "code",
   "execution_count": 91,
   "id": "f849f1f5",
   "metadata": {},
   "outputs": [],
   "source": [
    "from sklearn.model_selection import GridSearchCV"
   ]
  },
  {
   "cell_type": "code",
   "execution_count": 92,
   "id": "849fdeea",
   "metadata": {},
   "outputs": [
    {
     "name": "stdout",
     "output_type": "stream",
     "text": [
      "Best model:LGBMClassifier(n_estimators=70, num_leaves=20),accuracy is :84.74%\n"
     ]
    }
   ],
   "source": [
    "#Define the hyperparameters\n",
    "param_grid = {'n_estimators': [50, 60, 70],\n",
    "              'num_leaves': [5, 10, 20]}\n",
    "\n",
    "# Create the LightGBM classifier\n",
    "lgb_model = LGBMClassifier()\n",
    "\n",
    "# Set up the grid search\n",
    "grid_search = GridSearchCV(lgb_model, param_grid, cv=5, scoring='accuracy')\n",
    "\n",
    "# Fit the grid search to the data\n",
    "grid_search.fit(X_train, y_train)\n",
    "# Print the best hyperparameters\n",
    "best_model = grid_search.best_estimator_\n",
    "lgb_scoret = best_model.score(X_test , y_test)\n",
    "print(f\"Best model:{best_model},accuracy is :{lgb_scoret*100:.2f}%\")"
   ]
  },
  {
   "cell_type": "code",
   "execution_count": null,
   "id": "ff578b3e",
   "metadata": {},
   "outputs": [],
   "source": []
  }
 ],
 "metadata": {
  "kernelspec": {
   "display_name": "Python 3 (ipykernel)",
   "language": "python",
   "name": "python3"
  },
  "language_info": {
   "codemirror_mode": {
    "name": "ipython",
    "version": 3
   },
   "file_extension": ".py",
   "mimetype": "text/x-python",
   "name": "python",
   "nbconvert_exporter": "python",
   "pygments_lexer": "ipython3",
   "version": "3.9.12"
  }
 },
 "nbformat": 4,
 "nbformat_minor": 5
}
